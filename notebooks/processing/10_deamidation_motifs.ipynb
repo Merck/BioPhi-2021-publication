{
 "cells": [
  {
   "cell_type": "code",
   "execution_count": 1,
   "metadata": {},
   "outputs": [],
   "source": [
    "import pandas as pd\n",
    "import numpy as np\n",
    "import os\n",
    "import seaborn as sns\n",
    "from matplotlib import pyplot as plt\n",
    "from abnumber import Chain\n",
    "from Bio import SeqIO\n",
    "from Bio.SeqRecord import SeqRecord\n",
    "from Bio.Seq import Seq\n",
    "import re\n",
    "\n",
    "%config InlineBackend.figure_format = 'retina'\n",
    "%matplotlib inline"
   ]
  },
  {
   "cell_type": "code",
   "execution_count": 44,
   "metadata": {},
   "outputs": [],
   "source": [
    "SCHEME = 'kabat'\n",
    "CDR_DEFINITION = 'kabat'\n",
    "RESIDUES = list('ACDEFGHIKLMNPQRSTVWY')\n",
    "HIGH_DEAMIDATION_ISOMERIZATION_RISK = list('AHSNGD')\n",
    "LOW_DEAMIDATION_ISOMERIZATION_RISK = list('PIVLEMWFKCTQRY')"
   ]
  },
  {
   "cell_type": "code",
   "execution_count": 3,
   "metadata": {},
   "outputs": [
    {
     "data": {
      "text/html": [
       "<div>\n",
       "<style scoped>\n",
       "    .dataframe tbody tr th:only-of-type {\n",
       "        vertical-align: middle;\n",
       "    }\n",
       "\n",
       "    .dataframe tbody tr th {\n",
       "        vertical-align: top;\n",
       "    }\n",
       "\n",
       "    .dataframe thead th {\n",
       "        text-align: right;\n",
       "    }\n",
       "</style>\n",
       "<table border=\"1\" class=\"dataframe\">\n",
       "  <thead>\n",
       "    <tr style=\"text-align: right;\">\n",
       "      <th></th>\n",
       "      <th>Antibody</th>\n",
       "      <th>Species</th>\n",
       "    </tr>\n",
       "    <tr>\n",
       "      <th>INN_Number</th>\n",
       "      <th></th>\n",
       "      <th></th>\n",
       "    </tr>\n",
       "  </thead>\n",
       "  <tbody>\n",
       "    <tr>\n",
       "      <th>8659</th>\n",
       "      <td>abagovomab</td>\n",
       "      <td>Mouse</td>\n",
       "    </tr>\n",
       "    <tr>\n",
       "      <th>10881</th>\n",
       "      <td>abelacimab</td>\n",
       "      <td>Human</td>\n",
       "    </tr>\n",
       "    <tr>\n",
       "      <th>9509</th>\n",
       "      <td>abituzumab</td>\n",
       "      <td>Humanized</td>\n",
       "    </tr>\n",
       "    <tr>\n",
       "      <th>10745</th>\n",
       "      <td>abrezekimab</td>\n",
       "      <td>Humanized</td>\n",
       "    </tr>\n",
       "    <tr>\n",
       "      <th>9921</th>\n",
       "      <td>abrilumab</td>\n",
       "      <td>Human</td>\n",
       "    </tr>\n",
       "  </tbody>\n",
       "</table>\n",
       "</div>"
      ],
      "text/plain": [
       "               Antibody    Species\n",
       "INN_Number                        \n",
       "8659         abagovomab      Mouse\n",
       "10881        abelacimab      Human\n",
       "9509         abituzumab  Humanized\n",
       "10745       abrezekimab  Humanized\n",
       "9921          abrilumab      Human"
      ]
     },
     "execution_count": 3,
     "metadata": {},
     "output_type": "execute_result"
    }
   ],
   "source": [
    "mabs = pd.read_csv('../../data/tasks/humanness/imgt_mab_db.tsv', sep='\\t', index_col=0)\n",
    "mabs = mabs[mabs['Species'].isin(['Human', 'Humanized', 'Humanized/Chimeric', 'Chimeric', 'Mouse'])]\n",
    "mabs.head()"
   ]
  },
  {
   "cell_type": "code",
   "execution_count": 17,
   "metadata": {},
   "outputs": [
    {
     "data": {
      "text/plain": [
       "1102"
      ]
     },
     "execution_count": 17,
     "metadata": {},
     "output_type": "execute_result"
    }
   ],
   "source": [
    "chains = chains[chains.index.map(lambda seq_id: int(seq_id.split('_')[0]) in mabs.index)]\n",
    "len(chains)"
   ]
  },
  {
   "cell_type": "code",
   "execution_count": 142,
   "metadata": {},
   "outputs": [
    {
     "data": {
      "text/html": [
       "<div>\n",
       "<style scoped>\n",
       "    .dataframe tbody tr th:only-of-type {\n",
       "        vertical-align: middle;\n",
       "    }\n",
       "\n",
       "    .dataframe tbody tr th {\n",
       "        vertical-align: top;\n",
       "    }\n",
       "\n",
       "    .dataframe thead th {\n",
       "        text-align: right;\n",
       "    }\n",
       "</style>\n",
       "<table border=\"1\" class=\"dataframe\">\n",
       "  <thead>\n",
       "    <tr style=\"text-align: right;\">\n",
       "      <th></th>\n",
       "      <th>motif</th>\n",
       "      <th>n</th>\n",
       "      <th>raw_pos</th>\n",
       "      <th>kabat_pos</th>\n",
       "      <th>imgt_pos</th>\n",
       "      <th>in_germline</th>\n",
       "      <th>region</th>\n",
       "      <th>chain_type</th>\n",
       "      <th>inn_number</th>\n",
       "      <th>seq_id</th>\n",
       "      <th>germline_gene</th>\n",
       "      <th>germline_family</th>\n",
       "      <th>antibody</th>\n",
       "      <th>species</th>\n",
       "      <th>seq</th>\n",
       "    </tr>\n",
       "  </thead>\n",
       "  <tbody>\n",
       "    <tr>\n",
       "      <th>site1</th>\n",
       "      <td>DG</td>\n",
       "      <td>N</td>\n",
       "      <td>54</td>\n",
       "      <td>H54</td>\n",
       "      <td>H62</td>\n",
       "      <td>False</td>\n",
       "      <td>CDR2</td>\n",
       "      <td>H</td>\n",
       "      <td>8659</td>\n",
       "      <td>8659_seq1</td>\n",
       "      <td>IGHV1-3*01</td>\n",
       "      <td>IGHV1</td>\n",
       "      <td>abagovomab</td>\n",
       "      <td>Mouse</td>\n",
       "      <td>QVKLQESGAELARPGASVKLSCKASGYTFTNYWMQWVKQRPGQGLD...</td>\n",
       "    </tr>\n",
       "    <tr>\n",
       "      <th>site2</th>\n",
       "      <td>DG</td>\n",
       "      <td>N+1</td>\n",
       "      <td>55</td>\n",
       "      <td>H55</td>\n",
       "      <td>H63</td>\n",
       "      <td>True</td>\n",
       "      <td>CDR2</td>\n",
       "      <td>H</td>\n",
       "      <td>8659</td>\n",
       "      <td>8659_seq1</td>\n",
       "      <td>IGHV1-3*01</td>\n",
       "      <td>IGHV1</td>\n",
       "      <td>abagovomab</td>\n",
       "      <td>Mouse</td>\n",
       "      <td>QVKLQESGAELARPGASVKLSCKASGYTFTNYWMQWVKQRPGQGLD...</td>\n",
       "    </tr>\n",
       "    <tr>\n",
       "      <th>site3</th>\n",
       "      <td>DG</td>\n",
       "      <td>N</td>\n",
       "      <td>53</td>\n",
       "      <td>H54</td>\n",
       "      <td>H59</td>\n",
       "      <td>False</td>\n",
       "      <td>CDR2</td>\n",
       "      <td>H</td>\n",
       "      <td>10745</td>\n",
       "      <td>10745_seq1</td>\n",
       "      <td>IGHV2-26*01</td>\n",
       "      <td>IGHV2</td>\n",
       "      <td>abrezekimab</td>\n",
       "      <td>Humanized</td>\n",
       "      <td>QVTLKESGPVLVKPTETLTLTCTVSGFSLTNYHVQWIRQPPGKALE...</td>\n",
       "    </tr>\n",
       "    <tr>\n",
       "      <th>site4</th>\n",
       "      <td>DG</td>\n",
       "      <td>N+1</td>\n",
       "      <td>54</td>\n",
       "      <td>H55</td>\n",
       "      <td>H63</td>\n",
       "      <td>False</td>\n",
       "      <td>CDR2</td>\n",
       "      <td>H</td>\n",
       "      <td>10745</td>\n",
       "      <td>10745_seq1</td>\n",
       "      <td>IGHV2-26*01</td>\n",
       "      <td>IGHV2</td>\n",
       "      <td>abrezekimab</td>\n",
       "      <td>Humanized</td>\n",
       "      <td>QVTLKESGPVLVKPTETLTLTCTVSGFSLTNYHVQWIRQPPGKALE...</td>\n",
       "    </tr>\n",
       "    <tr>\n",
       "      <th>site5</th>\n",
       "      <td>DG</td>\n",
       "      <td>N</td>\n",
       "      <td>97</td>\n",
       "      <td>H95</td>\n",
       "      <td>H107</td>\n",
       "      <td>False</td>\n",
       "      <td>CDR3</td>\n",
       "      <td>H</td>\n",
       "      <td>10745</td>\n",
       "      <td>10745_seq1</td>\n",
       "      <td>IGHV2-26*01</td>\n",
       "      <td>IGHV2</td>\n",
       "      <td>abrezekimab</td>\n",
       "      <td>Humanized</td>\n",
       "      <td>QVTLKESGPVLVKPTETLTLTCTVSGFSLTNYHVQWIRQPPGKALE...</td>\n",
       "    </tr>\n",
       "  </tbody>\n",
       "</table>\n",
       "</div>"
      ],
      "text/plain": [
       "      motif    n  raw_pos kabat_pos imgt_pos  in_germline region chain_type  \\\n",
       "site1    DG    N       54       H54      H62        False   CDR2          H   \n",
       "site2    DG  N+1       55       H55      H63         True   CDR2          H   \n",
       "site3    DG    N       53       H54      H59        False   CDR2          H   \n",
       "site4    DG  N+1       54       H55      H63        False   CDR2          H   \n",
       "site5    DG    N       97       H95     H107        False   CDR3          H   \n",
       "\n",
       "       inn_number      seq_id germline_gene germline_family     antibody  \\\n",
       "site1        8659   8659_seq1    IGHV1-3*01           IGHV1   abagovomab   \n",
       "site2        8659   8659_seq1    IGHV1-3*01           IGHV1   abagovomab   \n",
       "site3       10745  10745_seq1   IGHV2-26*01           IGHV2  abrezekimab   \n",
       "site4       10745  10745_seq1   IGHV2-26*01           IGHV2  abrezekimab   \n",
       "site5       10745  10745_seq1   IGHV2-26*01           IGHV2  abrezekimab   \n",
       "\n",
       "         species                                                seq  \n",
       "site1      Mouse  QVKLQESGAELARPGASVKLSCKASGYTFTNYWMQWVKQRPGQGLD...  \n",
       "site2      Mouse  QVKLQESGAELARPGASVKLSCKASGYTFTNYWMQWVKQRPGQGLD...  \n",
       "site3  Humanized  QVTLKESGPVLVKPTETLTLTCTVSGFSLTNYHVQWIRQPPGKALE...  \n",
       "site4  Humanized  QVTLKESGPVLVKPTETLTLTCTVSGFSLTNYHVQWIRQPPGKALE...  \n",
       "site5  Humanized  QVTLKESGPVLVKPTETLTLTCTVSGFSLTNYHVQWIRQPPGKALE...  "
      ]
     },
     "execution_count": 142,
     "metadata": {},
     "output_type": "execute_result"
    }
   ],
   "source": [
    "sites = []\n",
    "for chain in chains:\n",
    "    if 'NG' not in chain.seq and 'DG' not in chain.seq:\n",
    "        continue\n",
    "    inn = int(chain.name.split('_')[0])\n",
    "    positions = list(chain.positions)\n",
    "    imgt_chain = chain.renumber('imgt')\n",
    "    v_chains, j_chains = imgt_chain.find_human_germlines(1)\n",
    "    v_chain = v_chains[0]\n",
    "    j_chain = j_chains[0]\n",
    "    imgt_positions = list(imgt_chain.positions)\n",
    "    matches = list(re.finditer('NG', chain.seq)) + list(re.finditer('DG', chain.seq))\n",
    "    for match in matches:\n",
    "        if not positions[match.start()].is_in_cdr() or not positions[match.start()+1].is_in_cdr():\n",
    "            continue\n",
    "        for n, raw_pos in enumerate([match.start(), match.start() + 1]):\n",
    "            pos = positions[raw_pos]\n",
    "            imgt_pos = imgt_positions[raw_pos]\n",
    "            if imgt_pos in v_chain.positions:\n",
    "                germline_residue = v_chain[imgt_pos]\n",
    "            elif imgt_pos in j_chain.positions:\n",
    "                germline_residue = j_chain[imgt_pos]\n",
    "            else:\n",
    "                germline_residue = '-'\n",
    "            sites.append({\n",
    "                'motif': chain.seq[match.start():match.start()+2],\n",
    "                'n': 'N' if n == 0 else f'N+{n}',\n",
    "                'raw_pos': raw_pos,\n",
    "                SCHEME+'_pos': str(pos),\n",
    "                'imgt_pos': str(imgt_pos),\n",
    "                'in_germline': germline_residue == imgt_chain[imgt_pos],\n",
    "                'region': pos.get_region(),\n",
    "                'chain_type': chain.chain_type,\n",
    "                'inn_number': inn,\n",
    "                'seq_id': chain.name,\n",
    "                'germline_gene': v_chain.name,\n",
    "                'germline_family': v_chain.name.split('-')[0].split('/')[0],\n",
    "                'antibody': mabs.loc[inn]['Antibody'],\n",
    "                'species': mabs.loc[inn]['Species'],\n",
    "                'seq': chain.seq,\n",
    "            })\n",
    "sites = pd.DataFrame(sites)\n",
    "sites.index = 'site' + pd.Series(range(1, len(sites)+1)).astype(str)\n",
    "sites.head()"
   ]
  },
  {
   "cell_type": "code",
   "execution_count": 143,
   "metadata": {},
   "outputs": [
    {
     "data": {
      "text/plain": [
       "True     324\n",
       "False    298\n",
       "Name: in_germline, dtype: int64"
      ]
     },
     "execution_count": 143,
     "metadata": {},
     "output_type": "execute_result"
    }
   ],
   "source": [
    "sites['in_germline'].value_counts()"
   ]
  },
  {
   "cell_type": "code",
   "execution_count": 146,
   "metadata": {},
   "outputs": [
    {
     "data": {
      "text/plain": [
       "n    in_germline\n",
       "N    False          197\n",
       "     True           114\n",
       "N+1  True           210\n",
       "     False          101\n",
       "Name: in_germline, dtype: int64"
      ]
     },
     "execution_count": 146,
     "metadata": {},
     "output_type": "execute_result"
    }
   ],
   "source": [
    "sites.groupby('n')['in_germline'].value_counts()"
   ]
  },
  {
   "cell_type": "code",
   "execution_count": 20,
   "metadata": {},
   "outputs": [
    {
     "name": "stdout",
     "output_type": "stream",
     "text": [
      "0        1         2         3         4         5          6         7         8            9         10          11  \n",
      "12345678901234567890123456789012345678901234567890122345678901234567890123456789012222345678901234567890001234567890123\n",
      "                                                    A                              ABC                  AB             \n",
      "QVKLQESGAELARPGASVKLSCKASGYTFTNYWMQWVKQRPGQGLDWIGAIYPGDGNTRYTHKFKGKATLTADKSSSTAYMQLSSLASEDSGVYYCARGEGNYAWFAYWGQGTTVTVSS\n",
      " °                        °°°°^^^^^           °°°^^^^^^^^^^^^^^^^^ ° ° ° °    °                 °°^^^^^^^^^^°          \n"
     ]
    }
   ],
   "source": [
    "chains[0].print_wide(numbering=True)"
   ]
  },
  {
   "cell_type": "code",
   "execution_count": 21,
   "metadata": {},
   "outputs": [
    {
     "name": "stdout",
     "output_type": "stream",
     "text": [
      "0        1         2         3         4         5         6         7         8         9         10      \n",
      "12345678901234567890123456789012345678901234567890123456789012345678901234567890123456789012345678901234567\n",
      "DIELTQSPASLSASVGETVTITCQASENIYSYLAWHQQKQGKSPQLLVYNAKTLAGGVSSRFSGSGSGTHFSLKIKSLQPEDFGIYYCQHHYGILPTFGGGTKLEIK\n",
      " ° °                   ^^^^^^^^^^^°°         °°°°^^^^^^^       ° ° °° °                 ^^^^^^^^^°         \n"
     ]
    }
   ],
   "source": [
    "chains[1].print_wide(numbering=True)"
   ]
  },
  {
   "cell_type": "code",
   "execution_count": 22,
   "metadata": {},
   "outputs": [
    {
     "data": {
      "text/plain": [
       "germline_family  kabat_pos\n",
       "IGHV1            H55          81\n",
       "                 H54          74\n",
       "                 H96          12\n",
       "                 H99          11\n",
       "                 H98           9\n",
       "                              ..\n",
       "IGLV3            L93           1\n",
       "IGLV6            L92           1\n",
       "                 L93           1\n",
       "IGLV8            L94           1\n",
       "                 L95           1\n",
       "Name: kabat_pos, Length: 80, dtype: int64"
      ]
     },
     "execution_count": 22,
     "metadata": {},
     "output_type": "execute_result"
    }
   ],
   "source": [
    "sites.groupby('germline_family')[SCHEME+'_pos'].value_counts()"
   ]
  },
  {
   "cell_type": "code",
   "execution_count": 23,
   "metadata": {},
   "outputs": [
    {
     "data": {
      "text/plain": [
       "chain_type  kabat_pos\n",
       "H           H54          166\n",
       "            H55          115\n",
       "            H53           59\n",
       "            H96           29\n",
       "            H98           22\n",
       "            H95           20\n",
       "            H99           19\n",
       "            H97           14\n",
       "            H56            8\n",
       "            H100           6\n",
       "            H100A          3\n",
       "            H100D          3\n",
       "            H101           3\n",
       "            H60            3\n",
       "            H61            3\n",
       "            H100C          2\n",
       "            H100E          2\n",
       "            H102           2\n",
       "            H100B          1\n",
       "            H100G          1\n",
       "            H100H          1\n",
       "            H32            1\n",
       "            H33            1\n",
       "            H52            1\n",
       "            H52A           1\n",
       "K           L28           57\n",
       "            L29           57\n",
       "            L90            1\n",
       "            L91            1\n",
       "            L92            1\n",
       "            L93            1\n",
       "L           L95A           4\n",
       "            L95B           4\n",
       "            L93            3\n",
       "            L92            2\n",
       "            L94            2\n",
       "            L51            1\n",
       "            L52            1\n",
       "            L95            1\n",
       "Name: kabat_pos, dtype: int64"
      ]
     },
     "execution_count": 23,
     "metadata": {},
     "output_type": "execute_result"
    }
   ],
   "source": [
    "sites.groupby('chain_type')[SCHEME+'_pos'].value_counts()"
   ]
  },
  {
   "cell_type": "code",
   "execution_count": 24,
   "metadata": {},
   "outputs": [
    {
     "data": {
      "text/plain": [
       "Humanized             258\n",
       "Human                 180\n",
       "Chimeric              106\n",
       "Humanized/Chimeric     52\n",
       "Mouse                  26\n",
       "Name: species, dtype: int64"
      ]
     },
     "execution_count": 24,
     "metadata": {},
     "output_type": "execute_result"
    }
   ],
   "source": [
    "sites['species'].value_counts()"
   ]
  },
  {
   "cell_type": "code",
   "execution_count": 25,
   "metadata": {},
   "outputs": [
    {
     "data": {
      "text/plain": [
       "CDR2    358\n",
       "CDR3    148\n",
       "CDR1    116\n",
       "Name: region, dtype: int64"
      ]
     },
     "execution_count": 25,
     "metadata": {},
     "output_type": "execute_result"
    }
   ],
   "source": [
    "sites['region'].value_counts()"
   ]
  },
  {
   "cell_type": "code",
   "execution_count": 26,
   "metadata": {},
   "outputs": [
    {
     "data": {
      "text/plain": [
       "motif  region\n",
       "DG     CDR2      218\n",
       "       CDR3      116\n",
       "       CDR1       38\n",
       "NG     CDR2      140\n",
       "       CDR1       78\n",
       "       CDR3       32\n",
       "Name: region, dtype: int64"
      ]
     },
     "execution_count": 26,
     "metadata": {},
     "output_type": "execute_result"
    }
   ],
   "source": [
    "sites.groupby('motif')['region'].value_counts()"
   ]
  },
  {
   "cell_type": "code",
   "execution_count": 144,
   "metadata": {},
   "outputs": [],
   "source": [
    "sites.to_csv('../../data/tasks/ptm_mitigation/ptm_sites.tsv', sep='\\t', index=True)"
   ]
  },
  {
   "cell_type": "code",
   "execution_count": 28,
   "metadata": {},
   "outputs": [],
   "source": [
    "with open('../../data/tasks/ptm_mitigation/ptm_seqs_masked.fa','wt') as f:\n",
    "    site_seqs = []\n",
    "    for site_id, site in sites.iterrows():\n",
    "        seq = chains[site['seq_id']].seq\n",
    "        masked_seq = seq[:site['raw_pos']] + 'X' + seq[site['raw_pos']+1:]\n",
    "        SeqIO.write(SeqRecord(Seq(masked_seq), id=site_id, description=''), f, 'fasta-2line')"
   ]
  },
  {
   "cell_type": "code",
   "execution_count": 29,
   "metadata": {},
   "outputs": [],
   "source": [
    "with open('../../data/tasks/ptm_mitigation/ptm_seqs_orig.fa','wt') as f:\n",
    "    site_seqs = []\n",
    "    for site_id, site in sites.iterrows():\n",
    "        seq = chains[site['seq_id']].seq\n",
    "        SeqIO.write(SeqRecord(Seq(seq), id=site_id, description=''), f, 'fasta-2line')"
   ]
  },
  {
   "cell_type": "code",
   "execution_count": 30,
   "metadata": {},
   "outputs": [
    {
     "name": "stdout",
     "output_type": "stream",
     "text": [
      "source $(conda info --base)/bin/activate biophi && biophi oasis \\\n",
      "        data/tasks/ptm_mitigation/ptm_seqs_orig.fa \\\n",
      "        --output data/tasks/ptm_mitigation/ptm_seqs_orig_oasis.xlsx \\\n",
      "        --oas-db sqlite:///../biophi/work/oas_clean_human_subject_9mers_2019_11.db \\\n",
      "        --proteome-db sqlite:///../biophi/work/uniprot_human_proteome_9mers.db\n",
      "      __     ____  _       ____  _     _      ___    _   ____  _\n",
      "  /| /  \\   | __ )(_) ___ |  _ \\| |__ (_)    / _ \\  / \\ / ___|(_)___\n",
      " ( || [] )  |  _ \\| |/ _ \\| |_) | '_ \\| |   | | | |/ _ \\\\___ \\| / __|\n",
      "  \\_   _/   | |_) | | (_) |  __/| | | | |   | |_| / ___ \\___| | \\__ \\\n",
      "    | |     |____/|_|\\___/|_|   |_| |_|_|    \\___/_/   \\_\\___/|_|___/\n",
      "    |_|                       version 1.0                  version 1.0\n",
      "────────────────────────────────────────────────────────────────────────\n",
      "\n",
      "Settings:\n",
      "- OAS database: sqlite:///../biophi/work/oas_clean_human_subject_9mers_2019_11.db\n",
      "- Proteome database: sqlite:///../biophi/work/uniprot_human_proteome_9mers.db\n",
      "\n",
      "Loading chains: data/tasks/ptm_mitigation/ptm_seqs_orig.fa\n",
      "Running OASis on 622 antibodies...\n",
      "Warning:\n",
      "Found 622 unpaired chains\n",
      "These will be processed and analyzed separately\n",
      "Please use the same fasta ID for heavy and light chain to report results for whole antibody(no spaces, optionally with _VH and _VL suffix).\n",
      "\n",
      "100%|█████████████████████████████████████████| 622/622 [03:15<00:00,  3.18it/s]\n",
      "Saving report...\n",
      "Saved XLSX report to: data/tasks/ptm_mitigation/ptm_seqs_orig_oasis.xlsx\n"
     ]
    }
   ],
   "source": [
    "# generate oasis using\n",
    "!cd ../../; make data/tasks/ptm_mitigation/ptm_seqs_orig_oasis.xlsx"
   ]
  },
  {
   "cell_type": "code",
   "execution_count": 31,
   "metadata": {},
   "outputs": [
    {
     "name": "stdout",
     "output_type": "stream",
     "text": [
      "source $(conda info --base)/bin/activate biophi && biophi sapiens \\\n",
      "        data/tasks/ptm_mitigation/ptm_seqs_masked.fa \\\n",
      "        --output data/tasks/ptm_mitigation/sapiens \\\n",
      "        --version 2020_11_01 \\\n",
      "        --service-url http://localhost:5001/predict \\\n",
      "        --oas-db sqlite:///../biophi/work/oas_clean_human_subject_9mers_2019_11.db \\\n",
      "        --proteome-db sqlite:///../biophi/work/uniprot_human_proteome_9mers.db \\\n",
      "        --iterations 1\n",
      "      __     ____  _       ____  _     _     ____              _                \n",
      "  /| /  \\   | __ )(_) ___ |  _ \\| |__ (_)   / ___|  __ _ _ __ (_) ___ _ __  ___ \n",
      " ( || [] )  |  _ \\| |/ _ \\| |_) | '_ \\| |   \\___ \\ / _` | '_ \\| |/ _ \\ '_ \\/ __|\n",
      "  \\_   _/   | |_) | | (_) |  __/| | | | |    ___| | |_| | |_| | |  __/ | | \\__ \\\n",
      "    | |     |____/|_|\\___/|_|   |_| |_|_|   |____/ \\__,_|  __/|_|\\___|_| |_|___/\n",
      "    |_|                       version 1.0               |_|          version 1.0\n",
      "──────────────────────────────────────────────────────────────────────────────────\n",
      "\n",
      "Settings:\n",
      "- Predicting using Sapiens model: 2020_11_01\n",
      "- Ignoring mutations in CDR regions\n",
      "- Humanizing using 1 iteration\n",
      "\n",
      "Running Sapiens humanization on 622 antibodies...\n",
      "Warning:\n",
      "Found 622 unpaired chains\n",
      "These will be processed and analyzed separately\n",
      "Please use the same fasta ID for heavy and light chain to report results for whole antibody(no spaces, optionally with _VH and _VL suffix).\n",
      "\n",
      "100%|█████████████████████████████████████████| 622/622 [06:56<00:00,  1.49it/s]\n",
      "Saving report...\n",
      "Saved alignments to: data/tasks/ptm_mitigation/sapiens/alignments.txt\n",
      "Saved humanized chains to: data/tasks/ptm_mitigation/sapiens/humanized.fa\n",
      "Saved XLSX report to: data/tasks/ptm_mitigation/sapiens/Sapiens.xlsx\n",
      "Done.\n"
     ]
    }
   ],
   "source": [
    "# generate sapiens using\n",
    "!cd ../../; make data/tasks/ptm_mitigation/sapiens"
   ]
  },
  {
   "cell_type": "code",
   "execution_count": 35,
   "metadata": {},
   "outputs": [],
   "source": [
    "sapiens_sheets = pd.read_excel('../../data/tasks/ptm_mitigation/sapiens/Sapiens.xlsx', sheet_name=None)"
   ]
  },
  {
   "cell_type": "code",
   "execution_count": 36,
   "metadata": {},
   "outputs": [],
   "source": [
    "def get_sapiens_score(site):\n",
    "    scores = sapiens_sheets[site.name][RESIDUES]\n",
    "    return scores.iloc[site['raw_pos']]"
   ]
  },
  {
   "cell_type": "code",
   "execution_count": 37,
   "metadata": {},
   "outputs": [
    {
     "data": {
      "text/html": [
       "<div>\n",
       "<style scoped>\n",
       "    .dataframe tbody tr th:only-of-type {\n",
       "        vertical-align: middle;\n",
       "    }\n",
       "\n",
       "    .dataframe tbody tr th {\n",
       "        vertical-align: top;\n",
       "    }\n",
       "\n",
       "    .dataframe thead th {\n",
       "        text-align: right;\n",
       "    }\n",
       "</style>\n",
       "<table border=\"1\" class=\"dataframe\">\n",
       "  <thead>\n",
       "    <tr style=\"text-align: right;\">\n",
       "      <th></th>\n",
       "      <th>A</th>\n",
       "      <th>C</th>\n",
       "      <th>D</th>\n",
       "      <th>E</th>\n",
       "      <th>F</th>\n",
       "      <th>G</th>\n",
       "      <th>H</th>\n",
       "      <th>I</th>\n",
       "      <th>K</th>\n",
       "      <th>L</th>\n",
       "      <th>M</th>\n",
       "      <th>N</th>\n",
       "      <th>P</th>\n",
       "      <th>Q</th>\n",
       "      <th>R</th>\n",
       "      <th>S</th>\n",
       "      <th>T</th>\n",
       "      <th>V</th>\n",
       "      <th>W</th>\n",
       "      <th>Y</th>\n",
       "    </tr>\n",
       "  </thead>\n",
       "  <tbody>\n",
       "    <tr>\n",
       "      <th>site1</th>\n",
       "      <td>0.006672</td>\n",
       "      <td>0.004062</td>\n",
       "      <td>0.064391</td>\n",
       "      <td>0.006879</td>\n",
       "      <td>0.005101</td>\n",
       "      <td>0.018614</td>\n",
       "      <td>0.013342</td>\n",
       "      <td>0.014122</td>\n",
       "      <td>0.019997</td>\n",
       "      <td>0.004089</td>\n",
       "      <td>0.002860</td>\n",
       "      <td>0.615544</td>\n",
       "      <td>0.003936</td>\n",
       "      <td>0.004129</td>\n",
       "      <td>0.009181</td>\n",
       "      <td>0.109642</td>\n",
       "      <td>0.053904</td>\n",
       "      <td>0.006135</td>\n",
       "      <td>0.004352</td>\n",
       "      <td>0.015939</td>\n",
       "    </tr>\n",
       "    <tr>\n",
       "      <th>site2</th>\n",
       "      <td>0.020032</td>\n",
       "      <td>0.011632</td>\n",
       "      <td>0.028465</td>\n",
       "      <td>0.007694</td>\n",
       "      <td>0.005327</td>\n",
       "      <td>0.790025</td>\n",
       "      <td>0.007338</td>\n",
       "      <td>0.004428</td>\n",
       "      <td>0.004318</td>\n",
       "      <td>0.004555</td>\n",
       "      <td>0.004172</td>\n",
       "      <td>0.014924</td>\n",
       "      <td>0.003570</td>\n",
       "      <td>0.005124</td>\n",
       "      <td>0.009788</td>\n",
       "      <td>0.021128</td>\n",
       "      <td>0.008797</td>\n",
       "      <td>0.011855</td>\n",
       "      <td>0.005328</td>\n",
       "      <td>0.011761</td>\n",
       "    </tr>\n",
       "    <tr>\n",
       "      <th>site3</th>\n",
       "      <td>0.026422</td>\n",
       "      <td>0.007061</td>\n",
       "      <td>0.293521</td>\n",
       "      <td>0.016706</td>\n",
       "      <td>0.009773</td>\n",
       "      <td>0.029343</td>\n",
       "      <td>0.020120</td>\n",
       "      <td>0.017691</td>\n",
       "      <td>0.046332</td>\n",
       "      <td>0.012545</td>\n",
       "      <td>0.006790</td>\n",
       "      <td>0.233328</td>\n",
       "      <td>0.007495</td>\n",
       "      <td>0.009438</td>\n",
       "      <td>0.038313</td>\n",
       "      <td>0.105840</td>\n",
       "      <td>0.054731</td>\n",
       "      <td>0.014407</td>\n",
       "      <td>0.008205</td>\n",
       "      <td>0.013772</td>\n",
       "    </tr>\n",
       "    <tr>\n",
       "      <th>site4</th>\n",
       "      <td>0.032303</td>\n",
       "      <td>0.006715</td>\n",
       "      <td>0.262073</td>\n",
       "      <td>0.059243</td>\n",
       "      <td>0.006819</td>\n",
       "      <td>0.490912</td>\n",
       "      <td>0.007013</td>\n",
       "      <td>0.006205</td>\n",
       "      <td>0.004395</td>\n",
       "      <td>0.005774</td>\n",
       "      <td>0.006096</td>\n",
       "      <td>0.009710</td>\n",
       "      <td>0.005963</td>\n",
       "      <td>0.008257</td>\n",
       "      <td>0.006312</td>\n",
       "      <td>0.021219</td>\n",
       "      <td>0.008076</td>\n",
       "      <td>0.016576</td>\n",
       "      <td>0.006057</td>\n",
       "      <td>0.007632</td>\n",
       "    </tr>\n",
       "    <tr>\n",
       "      <th>site5</th>\n",
       "      <td>0.028856</td>\n",
       "      <td>0.005767</td>\n",
       "      <td>0.012394</td>\n",
       "      <td>0.015375</td>\n",
       "      <td>0.010123</td>\n",
       "      <td>0.036711</td>\n",
       "      <td>0.015776</td>\n",
       "      <td>0.250427</td>\n",
       "      <td>0.014950</td>\n",
       "      <td>0.058217</td>\n",
       "      <td>0.107486</td>\n",
       "      <td>0.008615</td>\n",
       "      <td>0.012972</td>\n",
       "      <td>0.010834</td>\n",
       "      <td>0.106693</td>\n",
       "      <td>0.058908</td>\n",
       "      <td>0.163109</td>\n",
       "      <td>0.041723</td>\n",
       "      <td>0.010368</td>\n",
       "      <td>0.005071</td>\n",
       "    </tr>\n",
       "  </tbody>\n",
       "</table>\n",
       "</div>"
      ],
      "text/plain": [
       "              A         C         D         E         F         G         H  \\\n",
       "site1  0.006672  0.004062  0.064391  0.006879  0.005101  0.018614  0.013342   \n",
       "site2  0.020032  0.011632  0.028465  0.007694  0.005327  0.790025  0.007338   \n",
       "site3  0.026422  0.007061  0.293521  0.016706  0.009773  0.029343  0.020120   \n",
       "site4  0.032303  0.006715  0.262073  0.059243  0.006819  0.490912  0.007013   \n",
       "site5  0.028856  0.005767  0.012394  0.015375  0.010123  0.036711  0.015776   \n",
       "\n",
       "              I         K         L         M         N         P         Q  \\\n",
       "site1  0.014122  0.019997  0.004089  0.002860  0.615544  0.003936  0.004129   \n",
       "site2  0.004428  0.004318  0.004555  0.004172  0.014924  0.003570  0.005124   \n",
       "site3  0.017691  0.046332  0.012545  0.006790  0.233328  0.007495  0.009438   \n",
       "site4  0.006205  0.004395  0.005774  0.006096  0.009710  0.005963  0.008257   \n",
       "site5  0.250427  0.014950  0.058217  0.107486  0.008615  0.012972  0.010834   \n",
       "\n",
       "              R         S         T         V         W         Y  \n",
       "site1  0.009181  0.109642  0.053904  0.006135  0.004352  0.015939  \n",
       "site2  0.009788  0.021128  0.008797  0.011855  0.005328  0.011761  \n",
       "site3  0.038313  0.105840  0.054731  0.014407  0.008205  0.013772  \n",
       "site4  0.006312  0.021219  0.008076  0.016576  0.006057  0.007632  \n",
       "site5  0.106693  0.058908  0.163109  0.041723  0.010368  0.005071  "
      ]
     },
     "execution_count": 37,
     "metadata": {},
     "output_type": "execute_result"
    }
   ],
   "source": [
    "sapiens_scores = sites.apply(get_sapiens_score, axis=1)\n",
    "sapiens_scores.head()"
   ]
  },
  {
   "cell_type": "code",
   "execution_count": 104,
   "metadata": {},
   "outputs": [
    {
     "data": {
      "text/html": [
       "<div>\n",
       "<style scoped>\n",
       "    .dataframe tbody tr th:only-of-type {\n",
       "        vertical-align: middle;\n",
       "    }\n",
       "\n",
       "    .dataframe tbody tr th {\n",
       "        vertical-align: top;\n",
       "    }\n",
       "\n",
       "    .dataframe thead th {\n",
       "        text-align: right;\n",
       "    }\n",
       "</style>\n",
       "<table border=\"1\" class=\"dataframe\">\n",
       "  <thead>\n",
       "    <tr style=\"text-align: right;\">\n",
       "      <th></th>\n",
       "      <th>index</th>\n",
       "      <th>residue</th>\n",
       "      <th>score</th>\n",
       "      <th>site</th>\n",
       "    </tr>\n",
       "  </thead>\n",
       "  <tbody>\n",
       "    <tr>\n",
       "      <th>0</th>\n",
       "      <td>site1</td>\n",
       "      <td>A</td>\n",
       "      <td>0.006672</td>\n",
       "      <td>DG position N</td>\n",
       "    </tr>\n",
       "    <tr>\n",
       "      <th>1</th>\n",
       "      <td>site2</td>\n",
       "      <td>A</td>\n",
       "      <td>0.020032</td>\n",
       "      <td>DG position N+1</td>\n",
       "    </tr>\n",
       "    <tr>\n",
       "      <th>2</th>\n",
       "      <td>site3</td>\n",
       "      <td>A</td>\n",
       "      <td>0.026422</td>\n",
       "      <td>DG position N</td>\n",
       "    </tr>\n",
       "    <tr>\n",
       "      <th>3</th>\n",
       "      <td>site4</td>\n",
       "      <td>A</td>\n",
       "      <td>0.032303</td>\n",
       "      <td>DG position N+1</td>\n",
       "    </tr>\n",
       "    <tr>\n",
       "      <th>4</th>\n",
       "      <td>site5</td>\n",
       "      <td>A</td>\n",
       "      <td>0.028856</td>\n",
       "      <td>DG position N</td>\n",
       "    </tr>\n",
       "  </tbody>\n",
       "</table>\n",
       "</div>"
      ],
      "text/plain": [
       "   index residue     score             site\n",
       "0  site1       A  0.006672    DG position N\n",
       "1  site2       A  0.020032  DG position N+1\n",
       "2  site3       A  0.026422    DG position N\n",
       "3  site4       A  0.032303  DG position N+1\n",
       "4  site5       A  0.028856    DG position N"
      ]
     },
     "execution_count": 104,
     "metadata": {},
     "output_type": "execute_result"
    }
   ],
   "source": [
    "melted_sapiens_scores = sapiens_scores.melt(var_name='residue', value_name='score', ignore_index=False)\n",
    "melted_sapiens_scores['site'] = (sites['motif'] + ' position ' + sites['n']).loc[melted_sapiens_scores.index]\n",
    "melted_sapiens_scores = melted_sapiens_scores.reset_index()\n",
    "melted_sapiens_scores.head()"
   ]
  },
  {
   "cell_type": "code",
   "execution_count": 105,
   "metadata": {},
   "outputs": [
    {
     "data": {
      "text/plain": [
       "<AxesSubplot:xlabel='residue', ylabel='score'>"
      ]
     },
     "execution_count": 105,
     "metadata": {},
     "output_type": "execute_result"
    },
    {
     "data": {
      "image/png": "[encoded data removed]",
      "text/plain": [
       "<Figure size 1080x288 with 1 Axes>"
      ]
     },
     "metadata": {
      "image/png": {
       "height": 261,
       "width": 887
      },
      "needs_background": "light"
     },
     "output_type": "display_data"
    }
   ],
   "source": [
    "fig, ax = plt.subplots(figsize=(15, 4))\n",
    "sns.barplot(\n",
    "    data=melted_sapiens_scores,\n",
    "    hue='site',\n",
    "    x='residue',\n",
    "    y='score',\n",
    "    ax=ax\n",
    ")"
   ]
  },
  {
   "cell_type": "code",
   "execution_count": 106,
   "metadata": {},
   "outputs": [
    {
     "data": {
      "text/plain": [
       "<AxesSubplot:xlabel='residue', ylabel='score'>"
      ]
     },
     "execution_count": 106,
     "metadata": {},
     "output_type": "execute_result"
    },
    {
     "data": {
      "image/png": "[encoded data removed]",
      "text/plain": [
       "<Figure size 1080x288 with 1 Axes>"
      ]
     },
     "metadata": {
      "image/png": {
       "height": 261,
       "width": 894
      },
      "needs_background": "light"
     },
     "output_type": "display_data"
    }
   ],
   "source": [
    "fig, ax = plt.subplots(figsize=(15, 4))\n",
    "sns.barplot(\n",
    "    data=melted_sapiens_scores[melted_sapiens_scores['residue'].isin(LOW_DEAMIDATION_ISOMERIZATION_RISK)],\n",
    "    hue='site',\n",
    "    x='residue',\n",
    "    y='score',\n",
    "    ax=ax\n",
    ")"
   ]
  },
  {
   "cell_type": "code",
   "execution_count": 78,
   "metadata": {},
   "outputs": [
    {
     "data": {
      "text/plain": [
       "site1      T\n",
       "site2      V\n",
       "site3      T\n",
       "site4      E\n",
       "site5      I\n",
       "          ..\n",
       "site618    V\n",
       "site619    T\n",
       "site620    T\n",
       "site621    T\n",
       "site622    V\n",
       "Length: 622, dtype: object"
      ]
     },
     "execution_count": 78,
     "metadata": {},
     "output_type": "execute_result"
    }
   ],
   "source": [
    "sapiens_choice = sapiens_scores[LOW_DEAMIDATION_ISOMERIZATION_RISK].idxmax(axis=1)\n",
    "sapiens_choice"
   ]
  },
  {
   "cell_type": "code",
   "execution_count": 79,
   "metadata": {},
   "outputs": [
    {
     "data": {
      "text/plain": [
       "E    201\n",
       "T    136\n",
       "V    100\n",
       "R     86\n",
       "Y     40\n",
       "K     17\n",
       "W      9\n",
       "L      9\n",
       "I      9\n",
       "Q      5\n",
       "F      4\n",
       "C      3\n",
       "P      3\n",
       "dtype: int64"
      ]
     },
     "execution_count": 79,
     "metadata": {},
     "output_type": "execute_result"
    }
   ],
   "source": [
    "sapiens_choice.value_counts()"
   ]
  },
  {
   "cell_type": "code",
   "execution_count": 80,
   "metadata": {},
   "outputs": [
    {
     "data": {
      "text/plain": [
       "region   \n",
       "CDR1    E     64\n",
       "        T     20\n",
       "        R     17\n",
       "        I      7\n",
       "        K      3\n",
       "        V      2\n",
       "        C      1\n",
       "        Q      1\n",
       "        Y      1\n",
       "CDR2    E    118\n",
       "        T     89\n",
       "        V     88\n",
       "        R     32\n",
       "        K     12\n",
       "        L      6\n",
       "        Y      4\n",
       "        Q      3\n",
       "        C      2\n",
       "        F      2\n",
       "        P      1\n",
       "        W      1\n",
       "CDR3    R     37\n",
       "        Y     35\n",
       "        T     27\n",
       "        E     19\n",
       "        V     10\n",
       "        W      8\n",
       "        L      3\n",
       "        F      2\n",
       "        I      2\n",
       "        K      2\n",
       "        P      2\n",
       "        Q      1\n",
       "dtype: int64"
      ]
     },
     "execution_count": 80,
     "metadata": {},
     "output_type": "execute_result"
    }
   ],
   "source": [
    "sapiens_choice.groupby(sites['region']).value_counts()"
   ]
  },
  {
   "cell_type": "code",
   "execution_count": 81,
   "metadata": {},
   "outputs": [],
   "source": [
    "def mutate_site(site, choices):\n",
    "    choice = choices[site.name]\n",
    "    return site['seq'][:site['raw_pos']] + choice + site['seq'][site['raw_pos']+1:]"
   ]
  },
  {
   "cell_type": "markdown",
   "metadata": {},
   "source": [
    "## Sapiens mutants"
   ]
  },
  {
   "cell_type": "code",
   "execution_count": 82,
   "metadata": {},
   "outputs": [
    {
     "name": "stdout",
     "output_type": "stream",
     "text": [
      "                                                      ↓\n",
      "QVKLQESGAELARPGASVKLSCKASGYTFTNYWMQWVKQRPGQGLDWIGAIYPGDGNTRYTHKFKGKATLTADKSSSTAYMQLSSLASEDSGVYYCARGEGNYAWFAYWGQGTTVTVSS\n",
      "QVKLQESGAELARPGASVKLSCKASGYTFTNYWMQWVKQRPGQGLDWIGAIYPGTGNTRYTHKFKGKATLTADKSSSTAYMQLSSLASEDSGVYYCARGEGNYAWFAYWGQGTTVTVSS\n"
     ]
    }
   ],
   "source": [
    "sapiens_mutants = sites.apply(mutate_site, choices=sapiens_choice, axis=1)\n",
    "\n",
    "print(' '*sites['raw_pos'][0] + '↓')\n",
    "print(sites['seq'][0])\n",
    "print(sapiens_mutants[0])"
   ]
  },
  {
   "cell_type": "code",
   "execution_count": 83,
   "metadata": {},
   "outputs": [
    {
     "name": "stdout",
     "output_type": "stream",
     "text": [
      "                                                       ↓\n",
      "QVKLQESGAELARPGASVKLSCKASGYTFTNYWMQWVKQRPGQGLDWIGAIYPGDGNTRYTHKFKGKATLTADKSSSTAYMQLSSLASEDSGVYYCARGEGNYAWFAYWGQGTTVTVSS\n",
      "QVKLQESGAELARPGASVKLSCKASGYTFTNYWMQWVKQRPGQGLDWIGAIYPGDVNTRYTHKFKGKATLTADKSSSTAYMQLSSLASEDSGVYYCARGEGNYAWFAYWGQGTTVTVSS\n"
     ]
    }
   ],
   "source": [
    "print(' '*sites['raw_pos'][1] + '↓')\n",
    "print(sites['seq'][1])\n",
    "print(sapiens_mutants[1])"
   ]
  },
  {
   "cell_type": "code",
   "execution_count": 84,
   "metadata": {},
   "outputs": [],
   "source": [
    "with open('../../data/tasks/ptm_mitigation/mutants_sapiens.fa', 'w') as f:\n",
    "    for site_id, seq in sapiens_mutants.items():\n",
    "        SeqIO.write(SeqRecord(Seq(seq), id=site_id, description=''), f, 'fasta-2line')"
   ]
  },
  {
   "cell_type": "code",
   "execution_count": 85,
   "metadata": {},
   "outputs": [
    {
     "name": "stdout",
     "output_type": "stream",
     "text": [
      "source $(conda info --base)/bin/activate biophi && biophi oasis \\\n",
      "        data/tasks/ptm_mitigation/mutants_sapiens.fa \\\n",
      "        --output data/tasks/ptm_mitigation/mutants_sapiens_oasis.xlsx \\\n",
      "        --oas-db sqlite:///../biophi/work/oas_clean_human_subject_9mers_2019_11.db \\\n",
      "        --proteome-db sqlite:///../biophi/work/uniprot_human_proteome_9mers.db\n",
      "      __     ____  _       ____  _     _      ___    _   ____  _\n",
      "  /| /  \\   | __ )(_) ___ |  _ \\| |__ (_)    / _ \\  / \\ / ___|(_)___\n",
      " ( || [] )  |  _ \\| |/ _ \\| |_) | '_ \\| |   | | | |/ _ \\\\___ \\| / __|\n",
      "  \\_   _/   | |_) | | (_) |  __/| | | | |   | |_| / ___ \\___| | \\__ \\\n",
      "    | |     |____/|_|\\___/|_|   |_| |_|_|    \\___/_/   \\_\\___/|_|___/\n",
      "    |_|                       version 1.0                  version 1.0\n",
      "────────────────────────────────────────────────────────────────────────\n",
      "\n",
      "Settings:\n",
      "- OAS database: sqlite:///../biophi/work/oas_clean_human_subject_9mers_2019_11.db\n",
      "- Proteome database: sqlite:///../biophi/work/uniprot_human_proteome_9mers.db\n",
      "\n",
      "Loading chains: data/tasks/ptm_mitigation/mutants_sapiens.fa\n",
      "Running OASis on 622 antibodies...\n",
      "Warning:\n",
      "Found 622 unpaired chains\n",
      "These will be processed and analyzed separately\n",
      "Please use the same fasta ID for heavy and light chain to report results for whole antibody(no spaces, optionally with _VH and _VL suffix).\n",
      "\n",
      "100%|█████████████████████████████████████████| 622/622 [03:27<00:00,  3.00it/s]\n",
      "Saving report...\n",
      "Saved XLSX report to: data/tasks/ptm_mitigation/mutants_sapiens_oasis.xlsx\n"
     ]
    }
   ],
   "source": [
    "!cd ../../; make data/tasks/ptm_mitigation/mutants_sapiens_oasis.xlsx"
   ]
  },
  {
   "cell_type": "markdown",
   "metadata": {},
   "source": [
    "## Frequency mutants"
   ]
  },
  {
   "cell_type": "code",
   "execution_count": 100,
   "metadata": {},
   "outputs": [],
   "source": [
    "def get_site_germline_frequency(site):\n",
    "    path = f'../../data/oas_stats/imgt_residue_frequency/{site.germline_family}.tsv'\n",
    "    if not os.path.exists(path):\n",
    "        print('Germline not available:', site.name, site.germline_family)\n",
    "        return np.nan\n",
    "    stats = pd.read_csv(path, sep='\\t', index_col=0)\n",
    "    stats.index = stats.index.astype(str)\n",
    "    imgt_pos = site['imgt_pos'].replace('H','').replace('L','')\n",
    "    if imgt_pos not in stats.index:\n",
    "        print('Frequency at position not available:', site.name, imgt_pos, site.germline_family)\n",
    "        return np.nan\n",
    "    return stats.loc[imgt_pos]"
   ]
  },
  {
   "cell_type": "code",
   "execution_count": 101,
   "metadata": {},
   "outputs": [
    {
     "name": "stdout",
     "output_type": "stream",
     "text": [
      "Germline not available: site69 IGKV7\n",
      "Germline not available: site70 IGKV7\n",
      "Frequency at position not available: site75 34 IGKV3\n",
      "Frequency at position not available: site76 35 IGKV3\n",
      "Frequency at position not available: site95 34 IGKV1\n",
      "Frequency at position not available: site96 35 IGKV1\n",
      "Frequency at position not available: site107 34 IGKV1\n",
      "Frequency at position not available: site108 35 IGKV1\n",
      "Frequency at position not available: site115 34 IGKV1\n",
      "Frequency at position not available: site116 35 IGKV1\n",
      "Frequency at position not available: site205 34 IGKV1\n",
      "Frequency at position not available: site206 35 IGKV1\n",
      "Frequency at position not available: site353 34 IGKV1\n",
      "Frequency at position not available: site354 35 IGKV1\n",
      "Frequency at position not available: site359 34 IGKV3\n",
      "Frequency at position not available: site360 35 IGKV3\n",
      "Frequency at position not available: site379 34 IGKV1\n",
      "Frequency at position not available: site380 35 IGKV1\n",
      "Frequency at position not available: site459 34 IGKV1\n",
      "Frequency at position not available: site460 35 IGKV1\n",
      "Frequency at position not available: site503 34 IGKV3\n",
      "Frequency at position not available: site504 35 IGKV3\n",
      "Frequency at position not available: site529 34 IGKV1\n",
      "Frequency at position not available: site530 35 IGKV1\n",
      "Germline not available: site605 IGKV7\n",
      "Germline not available: site606 IGKV7\n"
     ]
    },
    {
     "data": {
      "text/html": [
       "<div>\n",
       "<style scoped>\n",
       "    .dataframe tbody tr th:only-of-type {\n",
       "        vertical-align: middle;\n",
       "    }\n",
       "\n",
       "    .dataframe tbody tr th {\n",
       "        vertical-align: top;\n",
       "    }\n",
       "\n",
       "    .dataframe thead th {\n",
       "        text-align: right;\n",
       "    }\n",
       "</style>\n",
       "<table border=\"1\" class=\"dataframe\">\n",
       "  <thead>\n",
       "    <tr style=\"text-align: right;\">\n",
       "      <th></th>\n",
       "      <th>A</th>\n",
       "      <th>C</th>\n",
       "      <th>D</th>\n",
       "      <th>E</th>\n",
       "      <th>F</th>\n",
       "      <th>G</th>\n",
       "      <th>H</th>\n",
       "      <th>I</th>\n",
       "      <th>K</th>\n",
       "      <th>L</th>\n",
       "      <th>M</th>\n",
       "      <th>N</th>\n",
       "      <th>P</th>\n",
       "      <th>Q</th>\n",
       "      <th>R</th>\n",
       "      <th>S</th>\n",
       "      <th>T</th>\n",
       "      <th>V</th>\n",
       "      <th>W</th>\n",
       "      <th>Y</th>\n",
       "    </tr>\n",
       "  </thead>\n",
       "  <tbody>\n",
       "    <tr>\n",
       "      <th>site1</th>\n",
       "      <td>0.0022</td>\n",
       "      <td>0.0045</td>\n",
       "      <td>0.0604</td>\n",
       "      <td>0.0031</td>\n",
       "      <td>0.2144</td>\n",
       "      <td>0.0886</td>\n",
       "      <td>0.0047</td>\n",
       "      <td>0.0060</td>\n",
       "      <td>0.0060</td>\n",
       "      <td>0.0799</td>\n",
       "      <td>0.0008</td>\n",
       "      <td>0.2213</td>\n",
       "      <td>0.0014</td>\n",
       "      <td>0.0006</td>\n",
       "      <td>0.0122</td>\n",
       "      <td>0.2585</td>\n",
       "      <td>0.0210</td>\n",
       "      <td>0.0097</td>\n",
       "      <td>0.0002</td>\n",
       "      <td>0.0045</td>\n",
       "    </tr>\n",
       "    <tr>\n",
       "      <th>site2</th>\n",
       "      <td>0.0087</td>\n",
       "      <td>0.0045</td>\n",
       "      <td>0.0215</td>\n",
       "      <td>0.0037</td>\n",
       "      <td>0.0002</td>\n",
       "      <td>0.9298</td>\n",
       "      <td>0.0013</td>\n",
       "      <td>0.0005</td>\n",
       "      <td>0.0008</td>\n",
       "      <td>0.0006</td>\n",
       "      <td>0.0000</td>\n",
       "      <td>0.0069</td>\n",
       "      <td>0.0008</td>\n",
       "      <td>0.0005</td>\n",
       "      <td>0.0047</td>\n",
       "      <td>0.0073</td>\n",
       "      <td>0.0017</td>\n",
       "      <td>0.0051</td>\n",
       "      <td>0.0003</td>\n",
       "      <td>0.0011</td>\n",
       "    </tr>\n",
       "    <tr>\n",
       "      <th>site3</th>\n",
       "      <td>0.0041</td>\n",
       "      <td>0.0001</td>\n",
       "      <td>0.5605</td>\n",
       "      <td>0.0060</td>\n",
       "      <td>0.0001</td>\n",
       "      <td>0.0054</td>\n",
       "      <td>0.0053</td>\n",
       "      <td>0.0014</td>\n",
       "      <td>0.0038</td>\n",
       "      <td>0.0001</td>\n",
       "      <td>0.0001</td>\n",
       "      <td>0.3951</td>\n",
       "      <td>0.0000</td>\n",
       "      <td>0.0004</td>\n",
       "      <td>0.0005</td>\n",
       "      <td>0.0068</td>\n",
       "      <td>0.0054</td>\n",
       "      <td>0.0013</td>\n",
       "      <td>0.0000</td>\n",
       "      <td>0.0034</td>\n",
       "    </tr>\n",
       "    <tr>\n",
       "      <th>site4</th>\n",
       "      <td>0.0074</td>\n",
       "      <td>0.0011</td>\n",
       "      <td>0.9259</td>\n",
       "      <td>0.0100</td>\n",
       "      <td>0.0001</td>\n",
       "      <td>0.0311</td>\n",
       "      <td>0.0012</td>\n",
       "      <td>0.0000</td>\n",
       "      <td>0.0002</td>\n",
       "      <td>0.0000</td>\n",
       "      <td>0.0001</td>\n",
       "      <td>0.0142</td>\n",
       "      <td>0.0000</td>\n",
       "      <td>0.0000</td>\n",
       "      <td>0.0001</td>\n",
       "      <td>0.0010</td>\n",
       "      <td>0.0001</td>\n",
       "      <td>0.0025</td>\n",
       "      <td>0.0000</td>\n",
       "      <td>0.0049</td>\n",
       "    </tr>\n",
       "    <tr>\n",
       "      <th>site5</th>\n",
       "      <td>0.0311</td>\n",
       "      <td>0.0049</td>\n",
       "      <td>0.0103</td>\n",
       "      <td>0.0117</td>\n",
       "      <td>0.0129</td>\n",
       "      <td>0.0405</td>\n",
       "      <td>0.0082</td>\n",
       "      <td>0.1911</td>\n",
       "      <td>0.0208</td>\n",
       "      <td>0.0381</td>\n",
       "      <td>0.0441</td>\n",
       "      <td>0.0167</td>\n",
       "      <td>0.0065</td>\n",
       "      <td>0.0086</td>\n",
       "      <td>0.2337</td>\n",
       "      <td>0.1756</td>\n",
       "      <td>0.0998</td>\n",
       "      <td>0.0277</td>\n",
       "      <td>0.0049</td>\n",
       "      <td>0.0127</td>\n",
       "    </tr>\n",
       "  </tbody>\n",
       "</table>\n",
       "</div>"
      ],
      "text/plain": [
       "            A       C       D       E       F       G       H       I       K  \\\n",
       "site1  0.0022  0.0045  0.0604  0.0031  0.2144  0.0886  0.0047  0.0060  0.0060   \n",
       "site2  0.0087  0.0045  0.0215  0.0037  0.0002  0.9298  0.0013  0.0005  0.0008   \n",
       "site3  0.0041  0.0001  0.5605  0.0060  0.0001  0.0054  0.0053  0.0014  0.0038   \n",
       "site4  0.0074  0.0011  0.9259  0.0100  0.0001  0.0311  0.0012  0.0000  0.0002   \n",
       "site5  0.0311  0.0049  0.0103  0.0117  0.0129  0.0405  0.0082  0.1911  0.0208   \n",
       "\n",
       "            L       M       N       P       Q       R       S       T       V  \\\n",
       "site1  0.0799  0.0008  0.2213  0.0014  0.0006  0.0122  0.2585  0.0210  0.0097   \n",
       "site2  0.0006  0.0000  0.0069  0.0008  0.0005  0.0047  0.0073  0.0017  0.0051   \n",
       "site3  0.0001  0.0001  0.3951  0.0000  0.0004  0.0005  0.0068  0.0054  0.0013   \n",
       "site4  0.0000  0.0001  0.0142  0.0000  0.0000  0.0001  0.0010  0.0001  0.0025   \n",
       "site5  0.0381  0.0441  0.0167  0.0065  0.0086  0.2337  0.1756  0.0998  0.0277   \n",
       "\n",
       "            W       Y  \n",
       "site1  0.0002  0.0045  \n",
       "site2  0.0003  0.0011  \n",
       "site3  0.0000  0.0034  \n",
       "site4  0.0000  0.0049  \n",
       "site5  0.0049  0.0127  "
      ]
     },
     "execution_count": 101,
     "metadata": {},
     "output_type": "execute_result"
    }
   ],
   "source": [
    "germline_frequency = sites.apply(get_site_germline_frequency, axis=1)\n",
    "germline_frequency.head()"
   ]
  },
  {
   "cell_type": "code",
   "execution_count": 102,
   "metadata": {},
   "outputs": [
    {
     "data": {
      "text/html": [
       "<div>\n",
       "<style scoped>\n",
       "    .dataframe tbody tr th:only-of-type {\n",
       "        vertical-align: middle;\n",
       "    }\n",
       "\n",
       "    .dataframe tbody tr th {\n",
       "        vertical-align: top;\n",
       "    }\n",
       "\n",
       "    .dataframe thead th {\n",
       "        text-align: right;\n",
       "    }\n",
       "</style>\n",
       "<table border=\"1\" class=\"dataframe\">\n",
       "  <thead>\n",
       "    <tr style=\"text-align: right;\">\n",
       "      <th></th>\n",
       "      <th>index</th>\n",
       "      <th>residue</th>\n",
       "      <th>frequency</th>\n",
       "      <th>site</th>\n",
       "    </tr>\n",
       "  </thead>\n",
       "  <tbody>\n",
       "    <tr>\n",
       "      <th>0</th>\n",
       "      <td>site1</td>\n",
       "      <td>A</td>\n",
       "      <td>0.0022</td>\n",
       "      <td>DG position N</td>\n",
       "    </tr>\n",
       "    <tr>\n",
       "      <th>1</th>\n",
       "      <td>site2</td>\n",
       "      <td>A</td>\n",
       "      <td>0.0087</td>\n",
       "      <td>DG position N+1</td>\n",
       "    </tr>\n",
       "    <tr>\n",
       "      <th>2</th>\n",
       "      <td>site3</td>\n",
       "      <td>A</td>\n",
       "      <td>0.0041</td>\n",
       "      <td>DG position N</td>\n",
       "    </tr>\n",
       "    <tr>\n",
       "      <th>3</th>\n",
       "      <td>site4</td>\n",
       "      <td>A</td>\n",
       "      <td>0.0074</td>\n",
       "      <td>DG position N+1</td>\n",
       "    </tr>\n",
       "    <tr>\n",
       "      <th>4</th>\n",
       "      <td>site5</td>\n",
       "      <td>A</td>\n",
       "      <td>0.0311</td>\n",
       "      <td>DG position N</td>\n",
       "    </tr>\n",
       "  </tbody>\n",
       "</table>\n",
       "</div>"
      ],
      "text/plain": [
       "   index residue  frequency             site\n",
       "0  site1       A     0.0022    DG position N\n",
       "1  site2       A     0.0087  DG position N+1\n",
       "2  site3       A     0.0041    DG position N\n",
       "3  site4       A     0.0074  DG position N+1\n",
       "4  site5       A     0.0311    DG position N"
      ]
     },
     "execution_count": 102,
     "metadata": {},
     "output_type": "execute_result"
    }
   ],
   "source": [
    "melted_germline_frequency = germline_frequency.melt(var_name='residue', value_name='frequency', ignore_index=False)\n",
    "melted_germline_frequency['site'] = (sites['motif'] + ' position ' + sites['n']).loc[melted_germline_frequency.index]\n",
    "melted_germline_frequency = melted_germline_frequency.reset_index()\n",
    "melted_germline_frequency.head()"
   ]
  },
  {
   "cell_type": "code",
   "execution_count": 107,
   "metadata": {},
   "outputs": [
    {
     "data": {
      "text/plain": [
       "<AxesSubplot:xlabel='residue', ylabel='frequency'>"
      ]
     },
     "execution_count": 107,
     "metadata": {},
     "output_type": "execute_result"
    },
    {
     "data": {
      "image/png": "[encoded data removed]",
      "text/plain": [
       "<Figure size 1080x288 with 1 Axes>"
      ]
     },
     "metadata": {
      "image/png": {
       "height": 261,
       "width": 887
      },
      "needs_background": "light"
     },
     "output_type": "display_data"
    }
   ],
   "source": [
    "fig, ax = plt.subplots(figsize=(15, 4))\n",
    "sns.barplot(\n",
    "    data=melted_germline_frequency,\n",
    "    hue='site',\n",
    "    x='residue',\n",
    "    y='frequency',\n",
    "    ax=ax\n",
    ")"
   ]
  },
  {
   "cell_type": "code",
   "execution_count": 108,
   "metadata": {},
   "outputs": [
    {
     "data": {
      "text/plain": [
       "<AxesSubplot:xlabel='residue', ylabel='frequency'>"
      ]
     },
     "execution_count": 108,
     "metadata": {},
     "output_type": "execute_result"
    },
    {
     "data": {
      "image/png": "[encoded data removed]",
      "text/plain": [
       "<Figure size 1080x288 with 1 Axes>"
      ]
     },
     "metadata": {
      "image/png": {
       "height": 261,
       "width": 894
      },
      "needs_background": "light"
     },
     "output_type": "display_data"
    }
   ],
   "source": [
    "fig, ax = plt.subplots(figsize=(15, 4))\n",
    "sns.barplot(\n",
    "    data=melted_germline_frequency[melted_germline_frequency['residue'].isin(LOW_DEAMIDATION_ISOMERIZATION_RISK)],\n",
    "    hue='site',\n",
    "    x='residue',\n",
    "    y='frequency',\n",
    "    ax=ax\n",
    ")"
   ]
  },
  {
   "cell_type": "code",
   "execution_count": 109,
   "metadata": {},
   "outputs": [
    {
     "data": {
      "text/plain": [
       "site1      F\n",
       "site2      V\n",
       "site3      E\n",
       "site4      E\n",
       "site5      R\n",
       "          ..\n",
       "site618    V\n",
       "site619    I\n",
       "site620    F\n",
       "site621    F\n",
       "site622    V\n",
       "Length: 622, dtype: object"
      ]
     },
     "execution_count": 109,
     "metadata": {},
     "output_type": "execute_result"
    }
   ],
   "source": [
    "frequency_choice = germline_frequency[LOW_DEAMIDATION_ISOMERIZATION_RISK].idxmax(axis=1)\n",
    "frequency_choice"
   ]
  },
  {
   "cell_type": "code",
   "execution_count": 112,
   "metadata": {},
   "outputs": [
    {
     "data": {
      "text/plain": [
       "E    113\n",
       "V     88\n",
       "Y     88\n",
       "T     80\n",
       "F     75\n",
       "K     68\n",
       "R     67\n",
       "L      8\n",
       "Q      4\n",
       "I      3\n",
       "W      1\n",
       "P      1\n",
       "dtype: int64"
      ]
     },
     "execution_count": 112,
     "metadata": {},
     "output_type": "execute_result"
    }
   ],
   "source": [
    "frequency_choice.value_counts()"
   ]
  },
  {
   "cell_type": "code",
   "execution_count": 124,
   "metadata": {},
   "outputs": [
    {
     "data": {
      "image/png": "[encoded data removed]",
      "text/plain": [
       "<Figure size 432x288 with 2 Axes>"
      ]
     },
     "metadata": {
      "image/png": {
       "height": 261,
       "width": 359
      },
      "needs_background": "light"
     },
     "output_type": "display_data"
    }
   ],
   "source": [
    "agreement = pd.DataFrame({\n",
    "    'Sapiens': sapiens_choice,\n",
    "    'Frequency': frequency_choice\n",
    "}).groupby(['Sapiens','Frequency']).size().unstack().reindex(LOW_DEAMIDATION_ISOMERIZATION_RISK).reindex(LOW_DEAMIDATION_ISOMERIZATION_RISK, axis=1)\n",
    "agreement = agreement.fillna(0).astype(int)\n",
    "\n",
    "ax = sns.heatmap(agreement, robust=True);"
   ]
  },
  {
   "cell_type": "code",
   "execution_count": 128,
   "metadata": {},
   "outputs": [
    {
     "name": "stdout",
     "output_type": "stream",
     "text": [
      "                                                      ↓\n",
      "QVKLQESGAELARPGASVKLSCKASGYTFTNYWMQWVKQRPGQGLDWIGAIYPGDGNTRYTHKFKGKATLTADKSSSTAYMQLSSLASEDSGVYYCARGEGNYAWFAYWGQGTTVTVSS\n",
      "QVKLQESGAELARPGASVKLSCKASGYTFTNYWMQWVKQRPGQGLDWIGAIYPGFGNTRYTHKFKGKATLTADKSSSTAYMQLSSLASEDSGVYYCARGEGNYAWFAYWGQGTTVTVSS\n"
     ]
    }
   ],
   "source": [
    "frequency_mutants = sites[~frequency_choice.isna()].apply(mutate_site, choices=frequency_choice, axis=1)\n",
    "\n",
    "print(' '*sites['raw_pos'][0] + '↓')\n",
    "print(sites['seq'][0])\n",
    "print(frequency_mutants[0])"
   ]
  },
  {
   "cell_type": "code",
   "execution_count": 129,
   "metadata": {},
   "outputs": [
    {
     "name": "stdout",
     "output_type": "stream",
     "text": [
      "                                                       ↓\n",
      "QVKLQESGAELARPGASVKLSCKASGYTFTNYWMQWVKQRPGQGLDWIGAIYPGDGNTRYTHKFKGKATLTADKSSSTAYMQLSSLASEDSGVYYCARGEGNYAWFAYWGQGTTVTVSS\n",
      "QVKLQESGAELARPGASVKLSCKASGYTFTNYWMQWVKQRPGQGLDWIGAIYPGDVNTRYTHKFKGKATLTADKSSSTAYMQLSSLASEDSGVYYCARGEGNYAWFAYWGQGTTVTVSS\n"
     ]
    }
   ],
   "source": [
    "print(' '*sites['raw_pos'][1] + '↓')\n",
    "print(sites['seq'][1])\n",
    "print(frequency_mutants[1])"
   ]
  },
  {
   "cell_type": "code",
   "execution_count": 130,
   "metadata": {},
   "outputs": [],
   "source": [
    "with open('../../data/tasks/ptm_mitigation/mutants_frequency.fa', 'w') as f:\n",
    "    for site_id, seq in frequency_mutants.items():\n",
    "        SeqIO.write(SeqRecord(Seq(seq), id=site_id, description=''), f, 'fasta-2line')"
   ]
  },
  {
   "cell_type": "code",
   "execution_count": 131,
   "metadata": {},
   "outputs": [
    {
     "name": "stdout",
     "output_type": "stream",
     "text": [
      "source $(conda info --base)/bin/activate biophi && biophi oasis \\\n",
      "        data/tasks/ptm_mitigation/mutants_frequency.fa \\\n",
      "        --output data/tasks/ptm_mitigation/mutants_frequency_oasis.xlsx \\\n",
      "        --oas-db sqlite:///../biophi/work/oas_clean_human_subject_9mers_2019_11.db \\\n",
      "        --proteome-db sqlite:///../biophi/work/uniprot_human_proteome_9mers.db\n",
      "      __     ____  _       ____  _     _      ___    _   ____  _\n",
      "  /| /  \\   | __ )(_) ___ |  _ \\| |__ (_)    / _ \\  / \\ / ___|(_)___\n",
      " ( || [] )  |  _ \\| |/ _ \\| |_) | '_ \\| |   | | | |/ _ \\\\___ \\| / __|\n",
      "  \\_   _/   | |_) | | (_) |  __/| | | | |   | |_| / ___ \\___| | \\__ \\\n",
      "    | |     |____/|_|\\___/|_|   |_| |_|_|    \\___/_/   \\_\\___/|_|___/\n",
      "    |_|                       version 1.0                  version 1.0\n",
      "────────────────────────────────────────────────────────────────────────\n",
      "\n",
      "Settings:\n",
      "- OAS database: sqlite:///../biophi/work/oas_clean_human_subject_9mers_2019_11.db\n",
      "- Proteome database: sqlite:///../biophi/work/uniprot_human_proteome_9mers.db\n",
      "\n",
      "Loading chains: data/tasks/ptm_mitigation/mutants_frequency.fa\n",
      "Running OASis on 596 antibodies...\n",
      "Warning:\n",
      "Found 596 unpaired chains\n",
      "These will be processed and analyzed separately\n",
      "Please use the same fasta ID for heavy and light chain to report results for whole antibody(no spaces, optionally with _VH and _VL suffix).\n",
      "\n",
      "100%|█████████████████████████████████████████| 596/596 [03:06<00:00,  3.19it/s]\n",
      "Saving report...\n",
      "Saved XLSX report to: data/tasks/ptm_mitigation/mutants_frequency_oasis.xlsx\n"
     ]
    }
   ],
   "source": [
    "!cd ../../; make data/tasks/ptm_mitigation/mutants_frequency_oasis.xlsx"
   ]
  },
  {
   "cell_type": "markdown",
   "metadata": {},
   "source": [
    "## Random mutants"
   ]
  },
  {
   "cell_type": "code",
   "execution_count": 136,
   "metadata": {},
   "outputs": [
    {
     "data": {
      "text/plain": [
       "site1    R\n",
       "site2    M\n",
       "site3    P\n",
       "site4    L\n",
       "site5    Q\n",
       "dtype: object"
      ]
     },
     "execution_count": 136,
     "metadata": {},
     "output_type": "execute_result"
    }
   ],
   "source": [
    "np.random.seed(0)\n",
    "random_choice = sites.apply(lambda row: LOW_DEAMIDATION_ISOMERIZATION_RISK[np.random.randint(len(LOW_DEAMIDATION_ISOMERIZATION_RISK))], axis=1)\n",
    "random_choice.head()"
   ]
  },
  {
   "cell_type": "code",
   "execution_count": 137,
   "metadata": {},
   "outputs": [
    {
     "name": "stdout",
     "output_type": "stream",
     "text": [
      "                                                      ↓↓\n",
      "QVKLQESGAELARPGASVKLSCKASGYTFTNYWMQWVKQRPGQGLDWIGAIYPGDGNTRYTHKFKGKATLTADKSSSTAYMQLSSLASEDSGVYYCARGEGNYAWFAYWGQGTTVTVSS\n",
      "QVKLQESGAELARPGASVKLSCKASGYTFTNYWMQWVKQRPGQGLDWIGAIYPGRGNTRYTHKFKGKATLTADKSSSTAYMQLSSLASEDSGVYYCARGEGNYAWFAYWGQGTTVTVSS\n"
     ]
    }
   ],
   "source": [
    "random_mutants = sites.apply(mutate_site, choices=random_choice, axis=1)\n",
    "\n",
    "print(' '*sites['raw_pos'][0] + '↓↓')\n",
    "print(sites['seq'][0])\n",
    "print(random_mutants[0])"
   ]
  },
  {
   "cell_type": "code",
   "execution_count": 138,
   "metadata": {},
   "outputs": [],
   "source": [
    "with open('../../data/tasks/ptm_mitigation/mutants_random.fa', 'w') as f:\n",
    "    for site_id, seq in random_mutants.items():\n",
    "        SeqIO.write(SeqRecord(Seq(seq), id=site_id, description=''), f, 'fasta-2line')"
   ]
  },
  {
   "cell_type": "code",
   "execution_count": 145,
   "metadata": {},
   "outputs": [
    {
     "name": "stdout",
     "output_type": "stream",
     "text": [
      "source $(conda info --base)/bin/activate biophi && biophi oasis \\\n",
      "        data/tasks/ptm_mitigation/mutants_random.fa \\\n",
      "        --output data/tasks/ptm_mitigation/mutants_random_oasis.xlsx \\\n",
      "        --oas-db sqlite:///../biophi/work/oas_clean_human_subject_9mers_2019_11.db \\\n",
      "        --proteome-db sqlite:///../biophi/work/uniprot_human_proteome_9mers.db\n",
      "      __     ____  _       ____  _     _      ___    _   ____  _\n",
      "  /| /  \\   | __ )(_) ___ |  _ \\| |__ (_)    / _ \\  / \\ / ___|(_)___\n",
      " ( || [] )  |  _ \\| |/ _ \\| |_) | '_ \\| |   | | | |/ _ \\\\___ \\| / __|\n",
      "  \\_   _/   | |_) | | (_) |  __/| | | | |   | |_| / ___ \\___| | \\__ \\\n",
      "    | |     |____/|_|\\___/|_|   |_| |_|_|    \\___/_/   \\_\\___/|_|___/\n",
      "    |_|                       version 1.0                  version 1.0\n",
      "────────────────────────────────────────────────────────────────────────\n",
      "\n",
      "Settings:\n",
      "- OAS database: sqlite:///../biophi/work/oas_clean_human_subject_9mers_2019_11.db\n",
      "- Proteome database: sqlite:///../biophi/work/uniprot_human_proteome_9mers.db\n",
      "\n",
      "Loading chains: data/tasks/ptm_mitigation/mutants_random.fa\n",
      "Running OASis on 622 antibodies...\n",
      "Warning:\n",
      "Found 622 unpaired chains\n",
      "These will be processed and analyzed separately\n",
      "Please use the same fasta ID for heavy and light chain to report results for whole antibody(no spaces, optionally with _VH and _VL suffix).\n",
      "\n",
      "100%|█████████████████████████████████████████| 622/622 [03:27<00:00,  3.00it/s]\n",
      "Saving report...\n",
      "Saved XLSX report to: data/tasks/ptm_mitigation/mutants_random_oasis.xlsx\n"
     ]
    }
   ],
   "source": [
    "!cd ../../; make data/tasks/ptm_mitigation/mutants_random_oasis.xlsx"
   ]
  },
  {
   "cell_type": "code",
   "execution_count": null,
   "metadata": {},
   "outputs": [],
   "source": []
  }
 ],
 "metadata": {
  "kernelspec": {
   "display_name": "Python 3",
   "language": "python",
   "name": "python3"
  },
  "language_info": {
   "codemirror_mode": {
    "name": "ipython",
    "version": 3
   },
   "file_extension": ".py",
   "mimetype": "text/x-python",
   "name": "python",
   "nbconvert_exporter": "python",
   "pygments_lexer": "ipython3",
   "version": "3.8.6"
  }
 },
 "nbformat": 4,
 "nbformat_minor": 4
}
