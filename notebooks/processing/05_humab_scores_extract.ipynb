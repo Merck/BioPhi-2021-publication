{
 "cells": [
  {
   "cell_type": "code",
   "execution_count": 18,
   "metadata": {},
   "outputs": [],
   "source": [
    "import pandas as pd\n",
    "import numpy as np\n",
    "import os\n",
    "from abnumber import Chain\n",
    "from Bio import SeqIO\n",
    "import requests\n",
    "from io import StringIO\n",
    "import time\n",
    "from tqdm import tqdm\n",
    "import seaborn as sns\n",
    "\n",
    "%config InlineBackend.figure_format = 'retina'"
   ]
  },
  {
   "cell_type": "code",
   "execution_count": 21,
   "metadata": {},
   "outputs": [],
   "source": [
    "TASK_DIR = '../../data/tasks/humanness'\n",
    "PREFIX = os.path.join(TASK_DIR, 'thera_sabdab')"
   ]
  },
  {
   "cell_type": "code",
   "execution_count": 3,
   "metadata": {},
   "outputs": [
    {
     "data": {
      "text/plain": [
       "(962,\n",
       " 'EVQLVESGGGLVQPGRSLRLSCAASGFTFDDYAMHWVRQAPGKGLEWVSAITWNSGHIDYADSVEGRFTISRDNAKNSLYLQMNSLRAEDTAVYYCAKVSYLSTASSLDYWGQGTLVTVSS')"
      ]
     },
     "execution_count": 3,
     "metadata": {},
     "output_type": "execute_result"
    }
   ],
   "source": [
    "known = list([str(r.seq) for r in SeqIO.parse(os.path.join(TASK_DIR, 'thera_sabdab.fa'), 'fasta')])\n",
    "len(known), known[0]"
   ]
  },
  {
   "cell_type": "code",
   "execution_count": 4,
   "metadata": {},
   "outputs": [
    {
     "data": {
      "text/plain": [
       "(197,\n",
       " 'AIQLTQSPSSLSASVGDRVTITCRASESVEYYGTSLMQWYQQKPGKAPKLLIYAASNVESGVPSRFSGSGSGTDFTLTISSLQPEDFATYFCQQSRKDPSTFGGGTKVEIK')"
      ]
     },
     "execution_count": 4,
     "metadata": {},
     "output_type": "execute_result"
    }
   ],
   "source": [
    "wanted = list([str(r.seq) for r in SeqIO.parse(os.path.join(TASK_DIR, 'imgt_mab_db.fa'), 'fasta')])\n",
    "wanted += list([str(r.seq) for r in SeqIO.parse('../../data/tasks/immunogenicity/mabs.fa', 'fasta')])\n",
    "wanted = sorted(set(wanted).difference(known))\n",
    "len(wanted), wanted[0]"
   ]
  },
  {
   "cell_type": "code",
   "execution_count": 5,
   "metadata": {},
   "outputs": [
    {
     "data": {
      "text/plain": [
       "AIQLTQSPSSLSASVGDRVTITCRASESVEYYGTSLMQWYQQKPGKAPKLLIYAASNVESGVPSRFSGSGSGTDFTLTISSLQPEDFATYFCQQSRKDPSTFGGGTKVEIK\n",
       "                          ^^^^^^^^^^                 ^^^                                    ^^^^^^^^^          "
      ]
     },
     "execution_count": 5,
     "metadata": {},
     "output_type": "execute_result"
    }
   ],
   "source": [
    "chains = [Chain(seq, 'imgt') for seq in wanted]\n",
    "chains[0]"
   ]
  },
  {
   "cell_type": "code",
   "execution_count": 13,
   "metadata": {},
   "outputs": [],
   "source": [
    "def get_humab_score(chain, jobname='Thanks'):\n",
    "    data = {\n",
    "        'h_sequence_score': chain.seq if chain.is_heavy_chain() else '',\n",
    "        'l_sequence_score': chain.seq if chain.is_light_chain() else '',\n",
    "        'jobname_score': jobname\n",
    "    }\n",
    "    job_request = requests.post('http://opig.stats.ox.ac.uk/webapps/newsabdab/sabpred/humab', data=data)\n",
    "    jobid = job_request.url.strip('/').split('/')[-1]\n",
    "    suffix = 'heavy_scores' if chain.is_heavy_chain() else 'light_scores'\n",
    "    job_url = f'http://opig.stats.ox.ac.uk/webapps/newsabdab/sabpred/humab_results/{jobid}/{jobname}/{suffix}/'\n",
    "    for retry in range(100):\n",
    "        result_request = requests.get(job_url)\n",
    "        time.sleep(retry * 5)\n",
    "        if result_request.ok:\n",
    "            text = result_request.text\n",
    "            break\n",
    "        else:\n",
    "            if retry > 10:\n",
    "                print('Retry', retry+1)\n",
    "    \n",
    "    scores = pd.read_csv(StringIO(text.replace('NOT HUMAN','NOT_HUMAN')), sep='\\s+', usecols=[0,1])\n",
    "    return scores['Score'].max()"
   ]
  },
  {
   "cell_type": "code",
   "execution_count": 15,
   "metadata": {},
   "outputs": [
    {
     "data": {
      "text/plain": [
       "0.835"
      ]
     },
     "execution_count": 15,
     "metadata": {},
     "output_type": "execute_result"
    }
   ],
   "source": [
    "get_humab_score(\n",
    "    Chain('QVQLQESGPGLVRPSQTLSLTCTVSGFTFTDFYMNWVRQPPGRGLEWIGFIRDKAKGYTTEYNPSVKGRVTMLVDTSKNQFSLRLSSVTAADTAVYYCAREGHTAAPFDYWGQGSLVTVSS', 'imgt')\n",
    ")"
   ]
  },
  {
   "cell_type": "code",
   "execution_count": null,
   "metadata": {},
   "outputs": [],
   "source": [
    "#scores = {}"
   ]
  },
  {
   "cell_type": "code",
   "execution_count": 17,
   "metadata": {},
   "outputs": [
    {
     "name": "stderr",
     "output_type": "stream",
     "text": [
      "100%|██████████| 197/197 [1:25:08<00:00, 25.93s/it]\n"
     ]
    }
   ],
   "source": [
    "for chain in tqdm(chains):\n",
    "    if chain.seq in scores:\n",
    "        continue\n",
    "    scores[chain.seq] = get_humab_score(chain)"
   ]
  },
  {
   "cell_type": "code",
   "execution_count": 20,
   "metadata": {},
   "outputs": [
    {
     "name": "stdout",
     "output_type": "stream",
     "text": [
      "False\n",
      "False\n",
      "False\n",
      "False\n"
     ]
    }
   ],
   "source": [
    "for seq in [\n",
    "    'EVQLQQSGPELVKPGASVKMSCKASGYTFTSYVVHWVKQNPGQGLEWIGYINPFNDGTKYNENFKGKATLTSDRSSSTAYMELSSLTSEESAVYFCARDMGREGFAYWGQGTLVTVSA',\n",
    "    'DIVMTQAAFSNPVTLGTSASISCRSSKSLLHSNGITYLYWYLQKPGQSPQLLIYQMSNLASGVPDRFSSSGSGTDFTLRISRVEAEDVGVYYCAQNLELPRTFGGGTKLEI',\n",
    "    'QVQLVQSGAEVKKPGASVKVSCKASGYIFSNYWIQWVRQAPGQGLEWMGEILPGSGSTEYAQKFQGRVTMTADTSTSTAYMELSSLRSEDTAVYYCARYFFGSSPNWYFVWGQGT',\n",
    "    'DIQMTQSPSLSASVGDRVTITCGASENIYGALNWYQRKPGKAPKLLIYGATNLADGVPSRFSGSGSGTDYTLTISSLQPEDFATYYCQNVLNTPLTFGQGTKVEIK'\n",
    "]:\n",
    "    print(seq in scores)\n",
    "    if seq in scores:\n",
    "        continue\n",
    "    chain = Chain(seq, 'imgt')\n",
    "    scores[chain.seq] = get_humab_score(chain)"
   ]
  },
  {
   "cell_type": "code",
   "execution_count": 22,
   "metadata": {},
   "outputs": [
    {
     "name": "stderr",
     "output_type": "stream",
     "text": [
      "/Users/prihodad/Documents/bioinformatics/projects/oas-humanization/condaenv/lib/python3.8/site-packages/seaborn/distributions.py:2557: FutureWarning: `distplot` is a deprecated function and will be removed in a future version. Please adapt your code to use either `displot` (a figure-level function with similar flexibility) or `histplot` (an axes-level function for histograms).\n",
      "  warnings.warn(msg, FutureWarning)\n"
     ]
    },
    {
     "data": {
      "text/plain": [
       "<AxesSubplot:ylabel='Density'>"
      ]
     },
     "execution_count": 22,
     "metadata": {},
     "output_type": "execute_result"
    },
    {
     "data": {
      "image/png": "[encoded data removed]",
      "text/plain": [
       "<Figure size 432x288 with 1 Axes>"
      ]
     },
     "metadata": {
      "image/png": {
       "height": 248,
       "width": 376
      },
      "needs_background": "light"
     },
     "output_type": "display_data"
    }
   ],
   "source": [
    "sns.distplot(pd.Series(scores))"
   ]
  },
  {
   "cell_type": "code",
   "execution_count": 72,
   "metadata": {},
   "outputs": [],
   "source": [
    "immunogenicity_seqs = [str(r.seq) for r in SeqIO.parse('../../data/tasks/immunogenicity/mabs.fa', 'fasta')]\n",
    "immunogenicity_names = [r.description for r in SeqIO.parse('../../data/tasks/immunogenicity/mabs.fa', 'fasta')]"
   ]
  },
  {
   "cell_type": "code",
   "execution_count": 73,
   "metadata": {},
   "outputs": [],
   "source": [
    "humanness_seqs = [str(r.seq) for r in SeqIO.parse('../../data/tasks/humanness/imgt_mab_db.fa', 'fasta')]\n",
    "humanness_names = [r.description for r in SeqIO.parse('../../data/tasks/humanness/imgt_mab_db.fa', 'fasta')]"
   ]
  },
  {
   "cell_type": "code",
   "execution_count": 32,
   "metadata": {},
   "outputs": [],
   "source": [
    "thera = {str(r.seq): r.description for r in SeqIO.parse('../../data/tasks/humanness/thera_sabdab.fa', 'fasta')}"
   ]
  },
  {
   "cell_type": "code",
   "execution_count": 29,
   "metadata": {},
   "outputs": [
    {
     "data": {
      "text/html": [
       "<div>\n",
       "<style scoped>\n",
       "    .dataframe tbody tr th:only-of-type {\n",
       "        vertical-align: middle;\n",
       "    }\n",
       "\n",
       "    .dataframe tbody tr th {\n",
       "        vertical-align: top;\n",
       "    }\n",
       "\n",
       "    .dataframe thead th {\n",
       "        text-align: right;\n",
       "    }\n",
       "</style>\n",
       "<table border=\"1\" class=\"dataframe\">\n",
       "  <thead>\n",
       "    <tr style=\"text-align: right;\">\n",
       "      <th></th>\n",
       "      <th>Origin</th>\n",
       "      <th>Hu-mAb Score (H)</th>\n",
       "      <th>Hu-mAb Class (H)</th>\n",
       "      <th>Hu-mAb Score (L)</th>\n",
       "      <th>Hu-mAb Class (L)</th>\n",
       "    </tr>\n",
       "    <tr>\n",
       "      <th>Therapeutic</th>\n",
       "      <th></th>\n",
       "      <th></th>\n",
       "      <th></th>\n",
       "      <th></th>\n",
       "      <th></th>\n",
       "    </tr>\n",
       "  </thead>\n",
       "  <tbody>\n",
       "    <tr>\n",
       "      <th>Adalimumab</th>\n",
       "      <td>u</td>\n",
       "      <td>1.000</td>\n",
       "      <td>V3</td>\n",
       "      <td>0.999</td>\n",
       "      <td>KV1</td>\n",
       "    </tr>\n",
       "    <tr>\n",
       "      <th>Afutuzumab</th>\n",
       "      <td>zu</td>\n",
       "      <td>0.830</td>\n",
       "      <td>V1</td>\n",
       "      <td>0.562</td>\n",
       "      <td>Negative</td>\n",
       "    </tr>\n",
       "    <tr>\n",
       "      <th>Alemtuzumab</th>\n",
       "      <td>zu</td>\n",
       "      <td>0.835</td>\n",
       "      <td>V4</td>\n",
       "      <td>0.842</td>\n",
       "      <td>KV1</td>\n",
       "    </tr>\n",
       "    <tr>\n",
       "      <th>Alirocumab</th>\n",
       "      <td>u</td>\n",
       "      <td>1.000</td>\n",
       "      <td>V3</td>\n",
       "      <td>1.000</td>\n",
       "      <td>KV4</td>\n",
       "    </tr>\n",
       "    <tr>\n",
       "      <th>Atezolizumab</th>\n",
       "      <td>zu</td>\n",
       "      <td>0.975</td>\n",
       "      <td>V3</td>\n",
       "      <td>0.941</td>\n",
       "      <td>KV1</td>\n",
       "    </tr>\n",
       "  </tbody>\n",
       "</table>\n",
       "</div>"
      ],
      "text/plain": [
       "             Origin  Hu-mAb Score (H) Hu-mAb Class (H)  Hu-mAb Score (L)  \\\n",
       "Therapeutic                                                                \n",
       "Adalimumab        u             1.000               V3             0.999   \n",
       "Afutuzumab       zu             0.830               V1             0.562   \n",
       "Alemtuzumab      zu             0.835               V4             0.842   \n",
       "Alirocumab        u             1.000               V3             1.000   \n",
       "Atezolizumab     zu             0.975               V3             0.941   \n",
       "\n",
       "             Hu-mAb Class (L)  \n",
       "Therapeutic                    \n",
       "Adalimumab                KV1  \n",
       "Afutuzumab           Negative  \n",
       "Alemtuzumab               KV1  \n",
       "Alirocumab                KV4  \n",
       "Atezolizumab              KV1  "
      ]
     },
     "execution_count": 29,
     "metadata": {},
     "output_type": "execute_result"
    }
   ],
   "source": [
    "humab = pd.read_csv('../../data/tasks/humanness/thera_sabdab_humab.tsv', sep='\\t', index_col=0)\n",
    "humab.head()"
   ]
  },
  {
   "cell_type": "code",
   "execution_count": 34,
   "metadata": {},
   "outputs": [],
   "source": [
    "heavy_scores = {seq: humab['Hu-mAb Score (H)'].loc[desc.split()[0]] for seq, desc in thera.items() if desc.endswith('VH')}\n",
    "light_scores = {seq: humab['Hu-mAb Score (L)'].loc[desc.split()[0]] for seq, desc in thera.items() if desc.endswith('VL')}"
   ]
  },
  {
   "cell_type": "code",
   "execution_count": 35,
   "metadata": {},
   "outputs": [],
   "source": [
    "all_scores = {\n",
    "    **scores,\n",
    "    **heavy_scores,\n",
    "    **light_scores\n",
    "}"
   ]
  },
  {
   "cell_type": "code",
   "execution_count": 74,
   "metadata": {},
   "outputs": [
    {
     "data": {
      "text/plain": [
       "Antibody\n",
       "3F8 VH            0.00\n",
       "3F8 VL            0.92\n",
       "moAb_81C6 VH      0.00\n",
       "moAb_81C6 VL      0.72\n",
       "Pexelizumab VH    0.99\n",
       "dtype: float64"
      ]
     },
     "execution_count": 74,
     "metadata": {},
     "output_type": "execute_result"
    }
   ],
   "source": [
    "x = pd.Series(all_scores).loc[immunogenicity_seqs]\n",
    "x.index = immunogenicity_names\n",
    "x.index.name = 'Antibody'\n",
    "x.head()"
   ]
  },
  {
   "cell_type": "code",
   "execution_count": 78,
   "metadata": {},
   "outputs": [],
   "source": [
    "x.rename('Hu-mAb').to_csv('../../data/tasks/immunogenicity/mabs_humab.tsv', sep='\\t')"
   ]
  },
  {
   "cell_type": "code",
   "execution_count": 76,
   "metadata": {},
   "outputs": [
    {
     "data": {
      "text/plain": [
       "Antibody\n",
       "8659_seq1     0.000\n",
       "8659_seq2     0.050\n",
       "10881_seq1    1.000\n",
       "10881_seq2    1.000\n",
       "9509_seq1     0.619\n",
       "dtype: float64"
      ]
     },
     "execution_count": 76,
     "metadata": {},
     "output_type": "execute_result"
    }
   ],
   "source": [
    "y = pd.Series(all_scores).loc[humanness_seqs]\n",
    "y.index = humanness_names\n",
    "y.index.name = 'Antibody'\n",
    "y.head()"
   ]
  },
  {
   "cell_type": "code",
   "execution_count": 79,
   "metadata": {},
   "outputs": [],
   "source": [
    "y.rename('Hu-mAb').to_csv('../../data/tasks/humanness/imgt_mab_db_humab.tsv', sep='\\t')"
   ]
  },
  {
   "cell_type": "code",
   "execution_count": null,
   "metadata": {},
   "outputs": [],
   "source": [
    "\n",
    "\n",
    "\n",
    "# TODO TEST duplicate seqs\n",
    "\n",
    "\n"
   ]
  },
  {
   "cell_type": "code",
   "execution_count": 80,
   "metadata": {},
   "outputs": [
    {
     "data": {
      "text/plain": [
       "14      DIQMTQSPSSLSASVGDRVTITCRASQGIRNYLAWYQQKPGKAPKL...\n",
       "15      EVQLVESGGGLVQPGRSLRLSCAASGFTFDDYAMHWVRQAPGKGLE...\n",
       "16      EVQLVESGGGLVQPGRSLRLSCAASGFTFDDYAMHWVRQAPGKGLE...\n",
       "17      DIQMTQSPSSLSASVGDRVTITCRASQGIRNYLAWYQQKPGKAPKL...\n",
       "40      DIALTQPASVSGSPGQSITISCTGTSSDIGGYNSVSWYQQHPGKAP...\n",
       "                              ...                        \n",
       "1117    QVQLVQSGAEVKKPGASVKVSCKASGYTFTNYGMNWVRQAPGQGLK...\n",
       "1118    DIVMTQSPDSLAVSLGERATINCRASKSVSTSGYSFMHWYQQKPGQ...\n",
       "1125    QVQLQQSGAEVKKPGASVKVSCEASGYTFPSYVLHWVKQAPGQGLE...\n",
       "1126    DIQLTQSPSSLSASVGDRVTMTCSASSSVSSSYLYWYQQKPGKAPK...\n",
       "1139    DIQMTQSPSSLSASVGDRVTITCRASQSISSYLNWYQQKPGKAPKL...\n",
       "Length: 256, dtype: object"
      ]
     },
     "execution_count": 80,
     "metadata": {},
     "output_type": "execute_result"
    }
   ],
   "source": [
    "pd.Series(humanness_seqs)[pd.Series(humanness_seqs).duplicated(keep=False)]"
   ]
  },
  {
   "cell_type": "code",
   "execution_count": 62,
   "metadata": {},
   "outputs": [
    {
     "data": {
      "text/plain": [
       "dict_values(['3F8 VH', '3F8 VL', 'moAb_81C6 VH', 'moAb_81C6 VL', 'Pexelizumab VH', 'Pexelizumab VL', 'Arcitumomab VH', 'Arcitumomab VL', 'Blinatumomab VH', 'Blinatumomab VL', 'Ibritumomab VH', 'Tositumomab VL', 'Zolimomab VH', 'Zolimomab VL', 'Satumomab VH', 'Satumomab VL', 'Tositumomab VH', 'Abciximab VH', 'Abciximab VL', 'Basiliximab VH', 'Basiliximab VL', 'Bavituximab VH', 'Bavituximab VL', 'Cetuximab VH', 'Tomuzotuximab VL', 'Rituximab VH', 'Rituximab VL', 'Siltuximab VH', 'Siltuximab VL', 'Alemtuzumab VH', 'Alemtuzumab VL', 'Atezolizumab VH', 'Atezolizumab VL', 'Bevacizumab VH', 'Bevacizumab VL', 'Certolizumab VH', 'Certolizumab VL', 'Daclizumab VH', 'Daclizumab VL', 'Elotuzumab VH', 'Elotuzumab VL', 'Farletuzumab VH', 'Farletuzumab VL', 'Gemtuzumab VH', 'Gemtuzumab VL', 'Idarucizumab VH', 'Idarucizumab VL', 'Ixekizumab VH', 'Ixekizumab VL', 'Matuzumab VH', 'Matuzumab VL', 'Omalizumab VH', 'Omalizumab VL', 'Oportuzumab VH', 'Oportuzumab VL', 'Pembrolizumab VH', 'Pembrolizumab VL', 'Pertuzumab VH', 'Pertuzumab VL', 'Ranibizumab VH', 'Ranibizumab VL', 'Trastuzumab VH', 'Trastuzumab VL', 'Vedolizumab VH', 'Vedolizumab VL', 'Adalimumab VH', 'Adalimumab VL', 'Denosumab VH', 'Denosumab VL', 'Durvalumab VH', 'Durvalumab VL', 'Ipilimumab VH', 'Ipilimumab VL', 'Necitumumab VH', 'Necitumumab VL', 'Nivolumab VH', 'Nivolumab VL', 'Ofatumumab VH', 'Ofatumumab VL', 'Olaratumab VH', 'Olaratumab VL', 'Ramucirumab VH', 'Ramucirumab VL', 'Secukinumab VH', 'Secukinumab VL', 'Zalutumumab VH', 'Zalutumumab VL', 'Moxetumomab VH', 'Moxetumomab VL', 'Abagovomab VH', 'Abagovomab VL', 'Begelomab VH', 'Begelomab VL', 'Gatipotuzumab VH', 'Gatipotuzumab VL', 'Infliximab VH', 'Infliximab VL', 'Eculizumab VH', 'Ravulizumab VL', 'Natalizumab VH', 'Natalizumab VL', 'Golimumab VH', 'Golimumab VL', 'Ustekinumab VH', 'Ustekinumab VL', 'Tocilizumab VH', 'Tocilizumab VL', 'Avelumab VH', 'Avelumab VL', 'Canakinumab VH', 'Canakinumab VL', 'Panitumumab VH', 'Panitumumab VL', 'Brentuximab VH', 'Brentuximab VL', 'Daratumumab VH', 'Daratumumab VL', 'Afutuzumab VH', 'Afutuzumab VL', 'Dinutuximab VH', 'Dinutuximab VL', 'Polatuzumab VH', 'Polatuzumab VL', 'Concizumab VH', 'Concizumab VL', 'Gevokizumab VH', 'Gevokizumab VL', 'Lebrikizumab VH', 'Lebrikizumab VL', 'Clivatuzumab VH', 'Clivatuzumab VL', 'Tafasitamab VH', 'Tafasitamab VL', 'Talacotuzumab VH', 'Talacotuzumab VL', 'Vatelizumab VH', 'Vatelizumab VL', 'Erenumab VH', 'Erenumab VL', 'Tezepelumab VH', 'Tezepelumab VL', 'Tralokinumab VH', 'Tralokinumab VL', 'Berlimatoxumab VH', 'Berlimatoxumab VL', 'Loncastuximab VH', 'Coltuximab VL', 'Ficlatuzumab VH', 'Ficlatuzumab VL', 'Ocaratuzumab VH', 'Ocaratuzumab VL', 'Ozanezumab VH', 'Ozanezumab VL', 'Temelimab VH', 'Temelimab VL', 'Veltuzumab VH', 'Veltuzumab VL', 'Navicixizumab VH', 'Navicixizumab VL', 'Palivizumab VH', 'Palivizumab VL', 'Reslizumab VH', 'Reslizumab VL', 'Naptumomab VH', 'Naptumomab VL', 'Xentuzumab VH', 'Xentuzumab VL', 'Andecaliximab VH', 'Andecaliximab VL', 'Ibalizumab VH', 'Ibalizumab VL', 'Ublituximab VH', 'Ublituximab VL', 'Zolbetuximab VH', 'Zolbetuximab VL', 'Fontolizumab VH', 'Fontolizumab VL', 'Futuximab VH', 'Futuximab VL', 'Labetuzumab VH', 'Labetuzumab VL', 'Modotuximab VH', 'Modotuximab VL', 'Tomuzotuximab VH', 'Tigatuzumab VH', 'Tigatuzumab VL', 'Gremubamab VH', 'Gremubamab VL', 'Inclacumab VH', 'Inclacumab VL', 'Ponezumab VH', 'Ponezumab VL', 'Setrusumab VH', 'Setrusumab VL', 'Ticilimumab VH', 'Ticilimumab VL', 'Rovalpituzumab VH', 'Rovalpituzumab VL', 'Fulranumab VH', 'Fletikumab VL', 'Guselkumab VH', 'Guselkumab VL', 'Galcanezumab VH', 'Galcanezumab VL', 'Inotuzumab VH', 'Inotuzumab VL', 'Netakimab VH', 'Netakimab VL', 'Ocrelizumab VH', 'Ocrelizumab VL', 'Risankizumab VH', 'Risankizumab VL', 'Romosozumab VH', 'Romosozumab VL', 'Sarilumab VH', 'Sarilumab VL', 'Tildrakizumab VH', 'Tildrakizumab VL', 'Toripalimab VH', 'Toripalimab VL', 'Ravulizumab VH', 'Racotumomab VH', 'Racotumomab VL', 'Aducanumab VH', 'Aducanumab VL', 'Anifrolumab VH', 'Anifrolumab VL', 'Bococizumab VH', 'Bococizumab VL', 'Bimekizumab VH', 'Bimekizumab VL', 'Birtamimab VH', 'Birtamimab VL', 'Brazikumab VH', 'Brazikumab VL', 'Clazakizumab VH', 'Clazakizumab VL', 'Crenezumab VH', 'Crenezumab VL', 'Depatuxizumab VH', 'Depatuxizumab VL', 'Etrolizumab VH', 'Etrolizumab VL', 'Ganitumab VH', 'Ganitumab VL', 'Glembatumumab VH', 'Glembatumumab VL', 'Ligelizumab VH', 'Ligelizumab VL', 'Motavizumab VH', 'Motavizumab VL', 'Nirsevimab VH', 'Nirsevimab VL', 'Olokizumab VH', 'Olokizumab VL', 'Onartuzumab VH', 'Onartuzumab VL', 'Pamrevlumab VH', 'Pamrevlumab VL', 'Roledumab VH', 'Roledumab VL', 'Sirukumab VH', 'Sirukumab VL', 'Solanezumab VH', 'Solanezumab VL', 'Suptavumab VH', 'Suptavumab VL', 'Sutimlimab VH', 'Sutimlimab VL', 'Tabalumab VH', 'Tabalumab VL', 'Abrilumab VH', 'Abrilumab VL', 'Amatuximab VH', 'Amatuximab VL', 'Bleselumab VH', 'Bleselumab VL', 'Cendakimab VH', 'Cendakimab VL', 'Cinpanemab VH', 'Cinpanemab VL', 'Conatumumab VH', 'Conatumumab VL', 'Dacetuzumab VH', 'Dacetuzumab VL', 'Dalotuzumab VH', 'Dalotuzumab VL', 'Dapirolizumab VH', 'Dapirolizumab VL', 'Disitamab VH', 'Disitamab VL', 'Dusigitumab VH', 'Dusigitumab VL', 'Eldelumab VH', 'Eldelumab VL', 'Emibetuzumab VH', 'Emibetuzumab VL', 'Enokizumab VH', 'Enokizumab VL', 'Fletikumab VH', 'Frovocimab VH', 'Frovocimab VL', 'Galiximab VH', 'Galiximab VL', 'Gancotamab VH', 'Gancotamab VL', 'Gedivumab VH', 'Gedivumab VL', 'Gosuranemab VH', 'Gosuranemab VL', 'Icrucumab VH', 'Icrucumab VL', 'Imalumab VH', 'Imalumab VL', 'Indusatumab VH', 'Indusatumab VL', 'Etaracizumab VH', 'Etaracizumab VL', 'Iscalimab VH', 'Iscalimab VL', 'Levilimab VH', 'Levilimab VL', 'Lifastuzumab VH', 'Lifastuzumab VL', 'Lintuzumab VH', 'Lintuzumab VL', 'Loncastuximab VL', 'Lorvotuzumab VH', 'Lorvotuzumab VL', 'Lutikizumab VH', 'Lutikizumab VL', 'Mavrilimumab VH', 'Mavrilimumab VL', 'Namilumab VH', 'Namilumab VL', 'Ontuxizumab VH', 'Ontuxizumab VL', 'Opicinumab VH', 'Opicinumab VL', 'Otlertuzumab VH', 'Otlertuzumab VL', 'Parsatuzumab VH', 'Parsatuzumab VL', 'Pateclizumab VH', 'Pateclizumab VL', 'Pinatuzumab VH', 'Pinatuzumab VL', 'Prasinezumab VH', 'Prasinezumab VL', 'Prezalumab VH', 'Prezalumab VL', 'Refanezumab VH', 'Refanezumab VL', 'Robatumumab VH', 'Robatumumab VL', 'Sifalimumab VH', 'Sifalimumab VL', 'Suvratoxumab VH', 'Suvratoxumab VL', 'Tarextumab VH', 'Tarextumab VL', 'Tovetumab VH', 'Tovetumab VL', 'Mogamulizumab VH', 'Mogamulizumab VL', 'Varlilumab VH', 'Varlilumab VL', 'Utomilumab VH', 'Utomilumab VL', 'Domagrozumab VH', 'Domagrozumab VL', 'Gantenerumab VH', 'Gantenerumab VL', 'Lanadelumab VH', 'Lanadelumab VL', 'Itolizumab VH', 'Itolizumab VL', 'Fremanezumab VH', 'Fremanezumab VL', 'Evolocumab VH', 'Evolocumab VL', 'Enfortumab VH', 'Enfortumab VL', 'Emicizumab VH', 'Emicizumab VL', 'Emapalumab VH', 'Emapalumab VL', 'Efalizumab VH', 'Efalizumab VL', 'Dupilumab VH', 'Dupilumab VL', 'Crizanlizumab VH', 'Crizanlizumab VL', 'Cemiplimab VH', 'Cemiplimab VL', 'Burosumab VH', 'Burosumab VL', 'Brodalumab VH', 'Brodalumab VL', 'Bezlotoxumab VH', 'Bezlotoxumab VL', 'Benralizumab VH', 'Benralizumab VL', 'Belimumab VH', 'Belimumab VL', 'Alirocumab VH', 'Alirocumab VL', 'Obiltoxaximab VH', 'Obiltoxaximab VL', 'Mepolizumab VH', 'Mepolizumab VL', 'Actoxumab VH', 'Actoxumab VL', 'Tosatoxumab VH', 'Tosatoxumab VL', 'Derlotuximab VH', 'Derlotuximab VL', 'Edrecolomab VH', 'Edrecolomab VL'])"
      ]
     },
     "execution_count": 62,
     "metadata": {},
     "output_type": "execute_result"
    }
   ],
   "source": [
    "immunogenicity"
   ]
  },
  {
   "cell_type": "code",
   "execution_count": null,
   "metadata": {},
   "outputs": [],
   "source": []
  }
 ],
 "metadata": {
  "kernelspec": {
   "display_name": "Python 3",
   "language": "python",
   "name": "python3"
  },
  "language_info": {
   "codemirror_mode": {
    "name": "ipython",
    "version": 3
   },
   "file_extension": ".py",
   "mimetype": "text/x-python",
   "name": "python",
   "nbconvert_exporter": "python",
   "pygments_lexer": "ipython3",
   "version": "3.8.6"
  }
 },
 "nbformat": 4,
 "nbformat_minor": 4
}
