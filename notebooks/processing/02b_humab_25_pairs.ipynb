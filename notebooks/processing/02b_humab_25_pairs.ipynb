{
 "cells": [
  {
   "cell_type": "code",
   "execution_count": 14,
   "metadata": {},
   "outputs": [],
   "source": [
    "import pandas as pd\n",
    "import numpy as np\n",
    "import os\n",
    "from abnumber import Chain\n",
    "from Bio import SeqIO\n",
    "import requests\n",
    "from io import StringIO\n",
    "import time\n",
    "from tqdm import tqdm\n",
    "import seaborn as sns\n",
    "from bin.utils import iterate_fasta\n",
    "import re\n",
    "import time\n",
    "\n",
    "%config InlineBackend.figure_format = 'retina'"
   ]
  },
  {
   "cell_type": "code",
   "execution_count": 15,
   "metadata": {},
   "outputs": [],
   "source": [
    "SCHEME = 'kabat'\n",
    "TASK_DIR = '../../data/tasks/humab_25_pairs'"
   ]
  },
  {
   "cell_type": "code",
   "execution_count": 25,
   "metadata": {},
   "outputs": [
    {
     "data": {
      "text/html": [
       "<div>\n",
       "<style scoped>\n",
       "    .dataframe tbody tr th:only-of-type {\n",
       "        vertical-align: middle;\n",
       "    }\n",
       "\n",
       "    .dataframe tbody tr th {\n",
       "        vertical-align: top;\n",
       "    }\n",
       "\n",
       "    .dataframe thead th {\n",
       "        text-align: right;\n",
       "    }\n",
       "</style>\n",
       "<table border=\"1\" class=\"dataframe\">\n",
       "  <thead>\n",
       "    <tr style=\"text-align: right;\">\n",
       "      <th></th>\n",
       "      <th>V Gene</th>\n",
       "      <th>Initial Score</th>\n",
       "      <th>Target Score</th>\n",
       "      <th># Exp. Mutations</th>\n",
       "      <th># Hu-mAb Mutations</th>\n",
       "      <th>Mutation Ratio</th>\n",
       "      <th>Overlap Ratio</th>\n",
       "      <th>Adjusted OR</th>\n",
       "    </tr>\n",
       "    <tr>\n",
       "      <th>Therapeutic</th>\n",
       "      <th></th>\n",
       "      <th></th>\n",
       "      <th></th>\n",
       "      <th></th>\n",
       "      <th></th>\n",
       "      <th></th>\n",
       "      <th></th>\n",
       "      <th></th>\n",
       "    </tr>\n",
       "  </thead>\n",
       "  <tbody>\n",
       "    <tr>\n",
       "      <th>AntiCD28</th>\n",
       "      <td>kv4</td>\n",
       "      <td>0.050</td>\n",
       "      <td>0.805</td>\n",
       "      <td>19</td>\n",
       "      <td>11</td>\n",
       "      <td>0.58</td>\n",
       "      <td>0.64</td>\n",
       "      <td>0.73</td>\n",
       "    </tr>\n",
       "    <tr>\n",
       "      <th>Campath</th>\n",
       "      <td>kv1</td>\n",
       "      <td>0.724</td>\n",
       "      <td>0.842</td>\n",
       "      <td>14</td>\n",
       "      <td>3</td>\n",
       "      <td>0.21</td>\n",
       "      <td>0.67</td>\n",
       "      <td>0.67</td>\n",
       "    </tr>\n",
       "    <tr>\n",
       "      <th>Bevacizumab</th>\n",
       "      <td>kv1</td>\n",
       "      <td>0.017</td>\n",
       "      <td>0.899</td>\n",
       "      <td>16</td>\n",
       "      <td>9</td>\n",
       "      <td>0.56</td>\n",
       "      <td>0.89</td>\n",
       "      <td>1.00</td>\n",
       "    </tr>\n",
       "    <tr>\n",
       "      <th>Herceptin</th>\n",
       "      <td>kv1</td>\n",
       "      <td>0.032</td>\n",
       "      <td>0.776</td>\n",
       "      <td>22</td>\n",
       "      <td>8</td>\n",
       "      <td>0.36</td>\n",
       "      <td>0.88</td>\n",
       "      <td>0.88</td>\n",
       "    </tr>\n",
       "    <tr>\n",
       "      <th>Omalizumab</th>\n",
       "      <td>kv1</td>\n",
       "      <td>0.081</td>\n",
       "      <td>0.874</td>\n",
       "      <td>25</td>\n",
       "      <td>19</td>\n",
       "      <td>0.76</td>\n",
       "      <td>0.89</td>\n",
       "      <td>0.95</td>\n",
       "    </tr>\n",
       "  </tbody>\n",
       "</table>\n",
       "</div>"
      ],
      "text/plain": [
       "            V Gene  Initial Score  Target Score  # Exp. Mutations  \\\n",
       "Therapeutic                                                         \n",
       "AntiCD28       kv4          0.050         0.805                19   \n",
       "Campath        kv1          0.724         0.842                14   \n",
       "Bevacizumab    kv1          0.017         0.899                16   \n",
       "Herceptin      kv1          0.032         0.776                22   \n",
       "Omalizumab     kv1          0.081         0.874                25   \n",
       "\n",
       "             # Hu-mAb Mutations  Mutation Ratio  Overlap Ratio  Adjusted OR  \n",
       "Therapeutic                                                                  \n",
       "AntiCD28                     11            0.58           0.64         0.73  \n",
       "Campath                       3            0.21           0.67         0.67  \n",
       "Bevacizumab                   9            0.56           0.89         1.00  \n",
       "Herceptin                     8            0.36           0.88         0.88  \n",
       "Omalizumab                   19            0.76           0.89         0.95  "
      ]
     },
     "execution_count": 25,
     "metadata": {},
     "output_type": "execute_result"
    }
   ],
   "source": [
    "results = pd.read_excel('../../data/tasks/humab_25_pairs/pairs/humab_results.xlsx', index_col=0)\n",
    "results.head()"
   ]
  },
  {
   "cell_type": "code",
   "execution_count": 16,
   "metadata": {},
   "outputs": [],
   "source": [
    "def read_chains(oasis_path):\n",
    "    vh_table = pd.read_excel(oasis_path, sheet_name='VH', index_col=0)\n",
    "    vl_table = pd.read_excel(oasis_path, sheet_name='VL', index_col=0)\n",
    "    scheme = vh_table['scheme'].iloc[0]\n",
    "    assert scheme == SCHEME, f'Expected OASis in {SCHEME}, got {scheme} in: {oasis_path}'\n",
    "    vh_chains = Chain.from_dataframe(vh_table, scheme=SCHEME, as_series=True)    \n",
    "    vl_chains = Chain.from_dataframe(vl_table, scheme=SCHEME, as_series=True)\n",
    "    return vh_chains, vl_chains"
   ]
  },
  {
   "cell_type": "code",
   "execution_count": 17,
   "metadata": {},
   "outputs": [],
   "source": [
    "parental_heavy = {}\n",
    "parental_light = {}\n",
    "for record in iterate_fasta(os.path.join(TASK_DIR, f'pairs/parental.fa')):\n",
    "    if record.description.endswith(' VH'):\n",
    "        parental_heavy[record.id] = str(record.seq)\n",
    "    elif record.description.endswith(' VL'):\n",
    "        parental_light[record.id] = str(record.seq)\n",
    "    else:\n",
    "        raise ValueError(record.description)"
   ]
  },
  {
   "cell_type": "code",
   "execution_count": 18,
   "metadata": {},
   "outputs": [
    {
     "data": {
      "text/plain": [
       "'QVQLQQPGAELVKPGTSVKLSCKASGYTFTNYYMYWVKQRPGQGLEWIGGINPSNGGTNFNEKFKNKATLTVDSSSSTTYMQLSSLTSEDSAVYYCTRRDYRFDMGFDYWGQGTTLTVSS'"
      ]
     },
     "execution_count": 18,
     "metadata": {},
     "output_type": "execute_result"
    }
   ],
   "source": [
    "parental_heavy['Pembrolizumab']"
   ]
  },
  {
   "cell_type": "code",
   "execution_count": 19,
   "metadata": {},
   "outputs": [
    {
     "data": {
      "text/plain": [
       "'DIVLTQSPASLAVSLGQRAAISCRASKGVSTSGYSYLHWYQQKPGQSPKLLIYLASYLESGVPARFSGSGSGTDFTLNIHPVEEEDAATYYCQHSRDLPLTFGTGTKLELK'"
      ]
     },
     "execution_count": 19,
     "metadata": {},
     "output_type": "execute_result"
    }
   ],
   "source": [
    "parental_light['Pembrolizumab']"
   ]
  },
  {
   "cell_type": "code",
   "execution_count": 20,
   "metadata": {},
   "outputs": [],
   "source": [
    "def submit_humanization(h_sequence, h_v_gene, h_threshold, l_sequence, l_v_gene, l_threshold, jobname='Test'):\n",
    "    data = {\n",
    "        'h_sequence': h_sequence,\n",
    "        'h_v_gene': h_v_gene,\n",
    "        'h_threshold': h_threshold,\n",
    "        'l_sequence': l_sequence,\n",
    "        'l_v_gene': l_v_gene,\n",
    "        'l_threshold': l_threshold,\n",
    "        'jobname': jobname\n",
    "    }\n",
    "    job_request = requests.post('http://opig.stats.ox.ac.uk/webapps/newsabdab/sabpred/humab', data=data)\n",
    "    jobid = job_request.url.strip('/').split('/')[-1]\n",
    "    return jobid\n",
    "\n",
    "def get_humanization_results(jobid, jobname='Test'):\n",
    "    url = f'http://opig.stats.ox.ac.uk/webapps/newsabdab/sabpred/humab_results/{jobid}'\n",
    "    heavy_url = f'http://opig.stats.ox.ac.uk/webapps/newsabdab/sabpred/humab_results/{jobid}/{jobname}/heavy'\n",
    "    light_url = f'http://opig.stats.ox.ac.uk/webapps/newsabdab/sabpred/humab_results/{jobid}/{jobname}/light'\n",
    "    for wait in range(100):\n",
    "        result_request = None\n",
    "        for retry in range(100):\n",
    "            try:\n",
    "                result_request = requests.get(url)\n",
    "                break\n",
    "            except:\n",
    "                time.sleep(retry * 5)\n",
    "        assert result_request is not None, f'Retry failed: {url}'\n",
    "        time.sleep(wait * 5)\n",
    "        if 'Error loading Hu-mAb results' in result_request.text or '>failed<' in result_request.text:\n",
    "            raise ValueError('Hu-mAb error') \n",
    "        heavy_request = requests.get(heavy_url)\n",
    "        if heavy_request.ok:\n",
    "            heavy_text = heavy_request.text\n",
    "            light_text = requests.get(light_url).text\n",
    "            break\n",
    "    \n",
    "    regex = re.compile('humanised sequence: (.*)')\n",
    "    try:\n",
    "        heavy_seq = regex.search(heavy_text).group(1).strip()\n",
    "    except:\n",
    "        print(heavy_text)\n",
    "        raise ValueError()\n",
    "    try:\n",
    "        light_seq = regex.search(light_text).group(1).strip()\n",
    "    except:\n",
    "        print(light_text)\n",
    "        raise ValueError()\n",
    "    return heavy_seq, light_seq"
   ]
  },
  {
   "cell_type": "code",
   "execution_count": null,
   "metadata": {},
   "outputs": [],
   "source": []
  },
  {
   "cell_type": "code",
   "execution_count": null,
   "metadata": {},
   "outputs": [],
   "source": []
  },
  {
   "cell_type": "code",
   "execution_count": 21,
   "metadata": {},
   "outputs": [],
   "source": [
    "!mkdir -p {TASK_DIR}/humab/tmp"
   ]
  },
  {
   "cell_type": "code",
   "execution_count": 22,
   "metadata": {},
   "outputs": [],
   "source": [
    "out_dir = os.path.join(TASK_DIR, 'humab', 'tmp')"
   ]
  },
  {
   "cell_type": "code",
   "execution_count": 23,
   "metadata": {},
   "outputs": [],
   "source": [
    "SKIP = []"
   ]
  },
  {
   "cell_type": "code",
   "execution_count": null,
   "metadata": {},
   "outputs": [
    {
     "name": "stdout",
     "output_type": "stream",
     "text": [
      "1 AntiCD28 ../../data/tasks/humab_25_pairs/humab/tmp/AntiCD28.fa\n",
      "  Waiting for job: http://opig.stats.ox.ac.uk/webapps/newsabdab/sabpred/humab_results/20210311_0487374\n",
      "  FAILED Hu-mAb error\n",
      "2 Campath ../../data/tasks/humab_25_pairs/humab/tmp/Campath.fa\n",
      "  Waiting for job: http://opig.stats.ox.ac.uk/webapps/newsabdab/sabpred/humab_results/20210312_0203231\n",
      "  FAILED Hu-mAb error\n",
      "3 Bevacizumab ../../data/tasks/humab_25_pairs/humab/tmp/Bevacizumab.fa\n",
      "  Waiting for job: http://opig.stats.ox.ac.uk/webapps/newsabdab/sabpred/humab_results/20210318_0507171\n"
     ]
    }
   ],
   "source": [
    "for i, name in enumerate(parental_heavy.keys()):\n",
    "    if name in SKIP:\n",
    "        print('Skipping', name)\n",
    "        continue\n",
    "    outpath = os.path.join(out_dir, name+'.fa')\n",
    "    print(i+1, name, outpath)\n",
    "    if os.path.exists(outpath):\n",
    "        continue\n",
    "    jobname = name+'_25pairs'\n",
    "    jobid_path = os.path.join(out_dir, name+'.jobid')\n",
    "    if os.path.exists(jobid_path):\n",
    "        with open(jobid_path, 'rt') as f:\n",
    "            jobid = f.read().strip()\n",
    "    else:\n",
    "        jobid = submit_humanization(\n",
    "            h_sequence=parental_heavy[name], \n",
    "            h_v_gene='', \n",
    "            h_threshold=1, \n",
    "            l_sequence=parental_light[name], \n",
    "            l_v_gene='', \n",
    "            l_threshold=1, \n",
    "            jobname=jobname\n",
    "        )\n",
    "        with open(jobid_path, 'wt') as f:\n",
    "            f.write(f'{jobid}\\n')\n",
    "    \n",
    "    print('  Waiting for job:', 'http://opig.stats.ox.ac.uk/webapps/newsabdab/sabpred/humab_results/'+jobid)\n",
    "    try:\n",
    "        heavy_seq, light_seq = get_humanization_results(jobid, jobname=jobname)\n",
    "        with open(outpath, 'wt') as f:\n",
    "            f.write(f'>{name} VH (threshold 1)\\n')\n",
    "            f.write(f'{heavy_seq}\\n')\n",
    "            f.write(f'>{name} VL (threshold 1)\\n')\n",
    "            f.write(f'{light_seq}\\n')\n",
    "    except Exception as e:\n",
    "        print('  FAILED', str(e))\n"
   ]
  },
  {
   "cell_type": "code",
   "execution_count": null,
   "metadata": {},
   "outputs": [],
   "source": []
  }
 ],
 "metadata": {
  "kernelspec": {
   "display_name": "Python 3",
   "language": "python",
   "name": "python3"
  },
  "language_info": {
   "codemirror_mode": {
    "name": "ipython",
    "version": 3
   },
   "file_extension": ".py",
   "mimetype": "text/x-python",
   "name": "python",
   "nbconvert_exporter": "python",
   "pygments_lexer": "ipython3",
   "version": "3.8.6"
  }
 },
 "nbformat": 4,
 "nbformat_minor": 4
}
