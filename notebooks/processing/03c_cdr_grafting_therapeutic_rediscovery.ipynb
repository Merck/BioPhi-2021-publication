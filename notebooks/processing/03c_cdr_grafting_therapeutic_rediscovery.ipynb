{
 "cells": [
  {
   "cell_type": "code",
   "execution_count": 1,
   "metadata": {},
   "outputs": [],
   "source": [
    "import os\n",
    "from abnumber import Chain, Position, Alignment\n",
    "import pandas as pd"
   ]
  },
  {
   "cell_type": "code",
   "execution_count": 2,
   "metadata": {},
   "outputs": [],
   "source": [
    "SCHEME = 'kabat'\n",
    "CDR_DEFINITION = 'kabat'\n",
    "TASK_DIR = '../../data/tasks/therapeutic_rediscovery'"
   ]
  },
  {
   "cell_type": "code",
   "execution_count": 3,
   "metadata": {},
   "outputs": [],
   "source": [
    "def read_chains(oasis_path):\n",
    "    vh_table = pd.read_excel(oasis_path, sheet_name='VH', index_col=0)\n",
    "    vl_table = pd.read_excel(oasis_path, sheet_name='VL', index_col=0)\n",
    "    scheme = vh_table['scheme'].iloc[0]\n",
    "    assert scheme == SCHEME, f'Expected OASis in {SCHEME}, got {scheme} in: {oasis_path}'\n",
    "    vh_chains = Chain.from_dataframe(vh_table, scheme=SCHEME, as_series=True)    \n",
    "    vl_chains = Chain.from_dataframe(vl_table, scheme=SCHEME, as_series=True)\n",
    "    return vh_chains, vl_chains"
   ]
  },
  {
   "cell_type": "markdown",
   "metadata": {},
   "source": [
    "## Parental (murine) chains"
   ]
  },
  {
   "cell_type": "code",
   "execution_count": 4,
   "metadata": {},
   "outputs": [],
   "source": [
    "parental_heavy, parental_light = read_chains(os.path.join(TASK_DIR, f'oas_cdr_hits/parental_oasis.xlsx'))"
   ]
  },
  {
   "cell_type": "code",
   "execution_count": 5,
   "metadata": {},
   "outputs": [
    {
     "name": "stdout",
     "output_type": "stream",
     "text": [
      "QVQLQQSGAELAKPGASVKLSCKASGYTFTSFWMHWVKQRPGQGLEWIGYINPRSGYTEYNEIFRDKATLTADKSSSTAYMQLSSLTSEDSAVYYCARFLGRGAMDYWGQGTSVTVSS\n"
     ]
    },
    {
     "data": {
      "text/plain": [
       "QVQLVQSGAEVKKPGASVKVSCKASGYTFTSFWMHWVRQAPGQGLEWMGYINPRSGYTEYNEIFRDRVTMTRDTSTSTVYMELSSLRSEDTAVYYCARFLGRGAMDYWGQGTMVTVSS\n",
       " °                        °°°°^^^^^           °°°^^^^^^^^^^^^^^^^^ ° ° ° °    °                 °°^^^^^^^^^°          "
      ]
     },
     "execution_count": 5,
     "metadata": {},
     "output_type": "execute_result"
    }
   ],
   "source": [
    "print(parental_heavy[0])\n",
    "parental_heavy[0].graft_cdrs_onto_human_germline()"
   ]
  },
  {
   "cell_type": "code",
   "execution_count": 6,
   "metadata": {},
   "outputs": [
    {
     "name": "stdout",
     "output_type": "stream",
     "text": [
      "DIQMTQTTSSLSASLGDRVTISCRASQDISNYLAWYQQKPDGTIKLLIYYTSKIHSGVPSRFSGSGSGTDYSLTISNLEQEDIATYFCQQGNTFPYTFGGGTKLEIK\n"
     ]
    },
    {
     "data": {
      "text/plain": [
       "DIQMTQSPSSLSASVGDRVTITCRASQDISNYLAWYQQKPGKVPKLLIYYTSKIHSGVPSRFSGSGSGTDFTLTISSLQPEDVATYYCQQGNTFPYTFGQGTKLEIK\n",
       " ° °                   ^^^^^^^^^^^°°         °°°°^^^^^^^       ° ° °° °                 ^^^^^^^^^°         "
      ]
     },
     "execution_count": 6,
     "metadata": {},
     "output_type": "execute_result"
    }
   ],
   "source": [
    "print(parental_light[0])\n",
    "parental_light[0].graft_cdrs_onto_human_germline()"
   ]
  },
  {
   "cell_type": "markdown",
   "metadata": {},
   "source": [
    "## Experimentally humanized sequences"
   ]
  },
  {
   "cell_type": "code",
   "execution_count": 7,
   "metadata": {},
   "outputs": [],
   "source": [
    "experimental_heavy, experimental_light = read_chains(os.path.join(TASK_DIR, f'thera/humanized_oasis.xlsx'))"
   ]
  },
  {
   "cell_type": "code",
   "execution_count": 44,
   "metadata": {},
   "outputs": [],
   "source": [
    "def get_germline_names(chain):\n",
    "    v_chains, j_chains = chain.find_human_germlines(1)\n",
    "    return (\n",
    "        v_chains[0].name.split('*')[0],\n",
    "        j_chains[0].name.split('*')[0]\n",
    "    )"
   ]
  },
  {
   "cell_type": "code",
   "execution_count": 49,
   "metadata": {},
   "outputs": [
    {
     "data": {
      "text/plain": [
       "Abituzumab           (IGHV1-46, IGHJ3)\n",
       "Afutuzumab           (IGHV1-69, IGHJ4)\n",
       "Alacizumab            (IGHV3-7, IGHJ3)\n",
       "Alemtuzumab        (IGHV4-30-4, IGHJ4)\n",
       "Anrukinzumab    (IGHV3/OR16-10, IGHJ4)\n",
       "dtype: object"
      ]
     },
     "execution_count": 49,
     "metadata": {},
     "output_type": "execute_result"
    }
   ],
   "source": [
    "genes_heavy = experimental_heavy.apply(get_germline_names)\n",
    "genes_heavy.head()"
   ]
  },
  {
   "cell_type": "code",
   "execution_count": 50,
   "metadata": {},
   "outputs": [
    {
     "data": {
      "text/plain": [
       "Abituzumab      (IGKV1-33, IGKJ1)\n",
       "Afutuzumab      (IGKV2-28, IGKJ4)\n",
       "Alacizumab      (IGKV1-16, IGKJ1)\n",
       "Alemtuzumab     (IGKV1-33, IGKJ1)\n",
       "Anrukinzumab    (IGKV1-39, IGKJ1)\n",
       "dtype: object"
      ]
     },
     "execution_count": 50,
     "metadata": {},
     "output_type": "execute_result"
    }
   ],
   "source": [
    "genes_light = experimental_light.apply(get_germline_names)\n",
    "genes_light.head()"
   ]
  },
  {
   "cell_type": "code",
   "execution_count": 51,
   "metadata": {},
   "outputs": [
    {
     "data": {
      "text/plain": [
       "(IGHV1-46, IGHJ4)     11%\n",
       "(IGHV3-23, IGHJ4)     10%\n",
       "(IGHV1-2, IGHJ4)       7%\n",
       "(IGHV1-69, IGHJ4)      7%\n",
       "(IGHV1-3, IGHJ4)       4%\n",
       "(IGHV3-66, IGHJ4)      3%\n",
       "(IGHV7-4-1, IGHJ4)     2%\n",
       "(IGHV4-4, IGHJ4)       2%\n",
       "(IGHV3-74, IGHJ4)      2%\n",
       "(IGHV1-18, IGHJ4)      2%\n",
       "dtype: object"
      ]
     },
     "execution_count": 51,
     "metadata": {},
     "output_type": "execute_result"
    }
   ],
   "source": [
    "genes_heavy.value_counts(normalize=True).head(10).apply('{:.0%}'.format)"
   ]
  },
  {
   "cell_type": "code",
   "execution_count": 52,
   "metadata": {},
   "outputs": [
    {
     "data": {
      "text/plain": [
       "(IGKV1-39, IGKJ1)    20%\n",
       "(IGKV1-33, IGKJ1)    10%\n",
       "(IGKV1-39, IGKJ4)     8%\n",
       "(IGKV4-1, IGKJ2)      5%\n",
       "(IGKV1-39, IGKJ2)     4%\n",
       "(IGKV4-1, IGKJ1)      4%\n",
       "(IGKV2-28, IGKJ1)     3%\n",
       "(IGKV3-11, IGKJ4)     2%\n",
       "(IGKV1-16, IGKJ1)     2%\n",
       "(IGKV3-11, IGKJ2)     2%\n",
       "dtype: object"
      ]
     },
     "execution_count": 52,
     "metadata": {},
     "output_type": "execute_result"
    }
   ],
   "source": [
    "genes_light.value_counts(normalize=True).head(10).apply('{:.0%}'.format)"
   ]
  },
  {
   "cell_type": "markdown",
   "metadata": {},
   "source": [
    "## Straight CDR grafting"
   ]
  },
  {
   "cell_type": "code",
   "execution_count": 53,
   "metadata": {},
   "outputs": [],
   "source": [
    "manual_straight_heavy = [c.graft_cdrs_onto_human_germline(*genes_heavy.loc[c.name]) for c in parental_heavy]\n",
    "manual_straight_light = [c.graft_cdrs_onto_human_germline(*genes_light.loc[c.name]) for c in parental_light]"
   ]
  },
  {
   "cell_type": "code",
   "execution_count": 12,
   "metadata": {},
   "outputs": [],
   "source": [
    "automatic_straight_heavy = [c.graft_cdrs_onto_human_germline() for c in parental_heavy]\n",
    "automatic_straight_light = [c.graft_cdrs_onto_human_germline() for c in parental_light]"
   ]
  },
  {
   "cell_type": "markdown",
   "metadata": {},
   "source": [
    "## Vernier+CDR grafting"
   ]
  },
  {
   "cell_type": "code",
   "execution_count": 54,
   "metadata": {},
   "outputs": [],
   "source": [
    "manual_vernier_heavy = [c.graft_cdrs_onto_human_germline(*genes_heavy.loc[c.name], backmutate_vernier=True) for c in parental_heavy]\n",
    "manual_vernier_light = [c.graft_cdrs_onto_human_germline(*genes_light.loc[c.name], backmutate_vernier=True) for c in parental_light]"
   ]
  },
  {
   "cell_type": "code",
   "execution_count": 24,
   "metadata": {},
   "outputs": [],
   "source": [
    "automatic_vernier_heavy = [c.graft_cdrs_onto_human_germline(backmutate_vernier=True) for c in parental_heavy]\n",
    "automatic_vernier_light = [c.graft_cdrs_onto_human_germline(backmutate_vernier=True) for c in parental_light]"
   ]
  },
  {
   "cell_type": "markdown",
   "metadata": {},
   "source": [
    "## Alignments"
   ]
  },
  {
   "cell_type": "code",
   "execution_count": 55,
   "metadata": {},
   "outputs": [],
   "source": [
    "LIMIT = 10"
   ]
  },
  {
   "cell_type": "code",
   "execution_count": 56,
   "metadata": {},
   "outputs": [
    {
     "name": "stdout",
     "output_type": "stream",
     "text": [
      "Abituzumab (parental -> vernier -> straight):\n",
      "QVQLQQSGAELAKPGASVKLSCKASGYTFTSFWMHWVKQRPGQGLEWIGYINPRSGYTEYNEIFRDKATLTADKSSSTAYMQLSSLTSEDSAVYYCARFLGRGAMDYWGQGTSVTVSS\n",
      "||||.|||||+.|||||||+|||||||||||||||||+|.||||||||||||||||||||||||||+||||||||+|||||+||||.|||+|||||||||||||||||||||.|||||\n",
      "QVQLVQSGAEVKKPGASVKVSCKASGYTFTSFWMHWVRQAPGQGLEWIGYINPRSGYTEYNEIFRDRATLTADKSTSTAYMELSSLRSEDTAVYYCARFLGRGAMDYWGQGTMVTVSS\n",
      "|||||||||||||||||||||||||||||||||||||||||||||||+|||||||||||||||||||.|+|.|.||||.|||||||||||||||||||||||||||||||||||||||\n",
      "QVQLVQSGAEVKKPGASVKVSCKASGYTFTSFWMHWVRQAPGQGLEWMGYINPRSGYTEYNEIFRDRVTMTRDTSTSTVYMELSSLRSEDTAVYYCARFLGRGAMDYWGQGTMVTVSS\n",
      " °                        °°°°^^^^^           °°°^^^^^^^^^^^^^^^^^ ° ° ° °    °                 °°^^^^^^^^^°          \n",
      "Afutuzumab (parental -> vernier -> straight):\n",
      "QVQLQQSGPELVKPGASVKISCKASGYAFSYSWINWVKQRPGQGLEWIGRIFPGDGDTDYNGKFKGKATLTADKSSSTAYMHLSSLTSVDSAVYFCARNVFDGYWLVYWGQGTLVTVSA\n",
      "||||.|||.|+.|||+|||+|||||||||||||||||+|.||||||||||||||||||||||||||+||||||||+|||||.||||.|.|+|||+|||||||||||||||||||||||+\n",
      "QVQLVQSGAEVKKPGSSVKVSCKASGYAFSYSWINWVRQAPGQGLEWIGRIFPGDGDTDYNGKFKGRATLTADKSTSTAYMELSSLRSEDTAVYYCARNVFDGYWLVYWGQGTLVTVSS\n",
      "||||||||||||||||||||||||||..|||||||||||||||||||+|||||||||||||||||||.|+|||||||||||||||||||||||||||||||||||||||||||||||||\n",
      "QVQLVQSGAEVKKPGSSVKVSCKASGGTFSYSWINWVRQAPGQGLEWMGRIFPGDGDTDYNGKFKGRVTITADKSTSTAYMELSSLRSEDTAVYYCARNVFDGYWLVYWGQGTLVTVSS\n",
      " °                        °°°°^^^^^           °°°^^^^^^^^^^^^^^^^^ ° ° ° °    °                 °°^^^^^^^^^^°          \n",
      "Alacizumab (parental -> vernier -> straight):\n",
      "EVKLVESGGDLVKPGGSLKLSCAASGFTFSSYGMSWVRQTPDKRLEWVATITSGGSYTYYVDSVKGRFTISRDNAKNTLYLQMSSLKSEDTAMYYCARIGEDALDYWGQGTSVTVSS\n",
      "||+||||||.||+|||||+||||||||||||||||||||.|.|.|||||||||||||||||||||||||||||||||+|||||+||++||||+||||||||||||||||||.|||||\n",
      "EVQLVESGGGLVQPGGSLRLSCAASGFTFSSYGMSWVRQAPGKGLEWVATITSGGSYTYYVDSVKGRFTISRDNAKNSLYLQMNSLRAEDTAVYYCARIGEDALDYWGQGTMVTVSS\n",
      "|||||||||||||||||||||||||||||||||||||||||||||||||||||||||||||||||||||||||||||||||||||||||||||||||||||||||||||||||||||\n",
      "EVQLVESGGGLVQPGGSLRLSCAASGFTFSSYGMSWVRQAPGKGLEWVATITSGGSYTYYVDSVKGRFTISRDNAKNSLYLQMNSLRAEDTAVYYCARIGEDALDYWGQGTMVTVSS\n",
      " °                        °°°°^^^^^           °°°^^^^^^^^^^^^^^^^^ ° ° ° °    °                 °°^^^^^^^^°          \n",
      "Alemtuzumab (parental -> vernier -> straight):\n",
      "DVMLVESGGGLVQPGGSLSLSCAASGFTFTDFYMNWVRQPPGKALEWLGFIRDKAKGYTTEYNPSVKGRFTILRDNSQSILYLQMNALRAEESATYYCAREGHTAAPFDYWGQGSTLTVSS\n",
      ".|.|.|||.|||+|..+|||+|..||||||||||||+||||||.||||||||||||||||||||||||||||.||||++.|.|+++++.|.++|.|||||||||||||||||||+.+||||\n",
      "QVQLQESGPGLVKPSQTLSLTCTVSGFTFTDFYMNWIRQPPGKGLEWLGFIRDKAKGYTTEYNPSVKGRFTISRDNSKNQLSLKLSSVTAADTAVYYCAREGHTAAPFDYWGQGTLVTVSS\n",
      "||||||||||||||||||||||||||.+.+|||||||||||||||||+|||||||||||||||||||||.|||.|.||||.||||||||||||||||||||||||||||||||||||||||\n",
      "QVQLQESGPGLVKPSQTLSLTCTVSGGSISDFYMNWIRQPPGKGLEWIGFIRDKAKGYTTEYNPSVKGRVTISVDTSKNQFSLKLSSVTAADTAVYYCAREGHTAAPFDYWGQGTLVTVSS\n",
      " °                        °°°°^^^^^           °°°^^^^^^^^^^^^^^^^^^^ ° ° ° °    °                 °°^^^^^^^^^^°          \n",
      "Anrukinzumab (parental -> vernier -> straight):\n",
      "EVQLVESGGGLVKLGGSLKLSCAASGFTFSSYAMSWVRQTPGKRLEWVASISSGGNTYYPDSVKGRFTISRDNAKNTLYLQMSSLKSEDTAMYYCARLDGYYFGFAYWGQGTLVTVSA\n",
      "||||||||||||+.||||+||||.|||||||||||||||.|||.||||||||||||||||||||||||||||||||+|||||+||++||.|+|||||||||||||||||||||||||+\n",
      "EVQLVESGGGLVQPGGSLRLSCAGSGFTFSSYAMSWVRQAPGKGLEWVASISSGGNTYYPDSVKGRFTISRDNAKNSLYLQMNSLRAEDMAVYYCARLDGYYFGFAYWGQGTLVTVSS\n",
      "||||||||||||||||||||||||||||||||||||||||||||||||+|||||||||||||||||||||||||||||||||||||||||||||||||||||||||||||||||||||\n",
      "EVQLVESGGGLVQPGGSLRLSCAGSGFTFSSYAMSWVRQAPGKGLEWVSSISSGGNTYYPDSVKGRFTISRDNAKNSLYLQMNSLRAEDMAVYYCARLDGYYFGFAYWGQGTLVTVSS\n",
      " °                        °°°°^^^^^           °°°^^^^^^^^^^^^^^^^ ° ° ° °    °                 °°^^^^^^^^^^°          \n",
      "Atezolizumab (parental -> vernier -> straight):\n",
      "EVQLVESGGGLVQPGRSLKLSCAASGFTFSDSWIHWIRQAPTKGLEWVAWISPYGGSTYYADSVKGRFTIFRDVAKSTLYLQMDSLRSEDTATYYCARRHWPGGFDYWGQGVMVTVSS\n",
      "|||||||||||||||.||+|||||||||||||||||+||||.||||||||||||||||||||||||||||.|||+|+||||||+|||+||||.||||||||||||||||||.+|||||\n",
      "EVQLVESGGGLVQPGGSLRLSCAASGFTFSDSWIHWVRQAPGKGLEWVAWISPYGGSTYYADSVKGRFTISRDVSKNTLYLQMNSLRAEDTAVYYCARRHWPGGFDYWGQGTLVTVSS\n",
      "||||||||||||||||||||||||||||||||||||||||||||||||+||||||||||||||||||||||||.|||||||||||||||||||||||+||||||||||||||||||||\n",
      "EVQLVESGGGLVQPGGSLRLSCAASGFTFSDSWIHWVRQAPGKGLEWVSWISPYGGSTYYADSVKGRFTISRDNSKNTLYLQMNSLRAEDTAVYYCAKRHWPGGFDYWGQGTLVTVSS\n",
      " °                        °°°°^^^^^           °°°^^^^^^^^^^^^^^^^^ ° ° ° °    °                 °°^^^^^^^^^°          \n",
      "Bapineuzumab (parental -> vernier -> straight):\n",
      "EVQLVESGGGLVQPGRSLKLSCAASGFTFSNYGMSWVRQVPTKGLEWVTSIRSGGGRTYYSDNVKGRFTISRDNAKNTQYLQMDSLRSEDTATYYCVRYDHYSGSSDYWGQGVMVTVSS\n",
      "||||+||||||||||.||+||||||||||||||||||||.|.||||||||||||||||||||||||||||||||+||||||||+|||+||||.|||||||||||||||||||.+|||||\n",
      "EVQLLESGGGLVQPGGSLRLSCAASGFTFSNYGMSWVRQAPGKGLEWVTSIRSGGGRTYYSDNVKGRFTISRDNSKNTQYLQMNSLRAEDTAVYYCVRYDHYSGSSDYWGQGTLVTVSS\n",
      "||||||||||||||||||||||||||||||||||||||||||||||||+|||||||||||||||||||||||||||||.|||||||||||||||||.+|||||||||||||||||||||\n",
      "EVQLLESGGGLVQPGGSLRLSCAASGFTFSNYGMSWVRQAPGKGLEWVSSIRSGGGRTYYSDNVKGRFTISRDNSKNTLYLQMNSLRAEDTAVYYCAKYDHYSGSSDYWGQGTLVTVSS\n",
      " °                        °°°°^^^^^           °°°^^^^^^^^^^^^^^^^^ ° ° ° °    °                 °°^^^^^^^^^^°          \n",
      "Bemarituzumab (parental -> vernier -> straight):\n",
      "QVQLQQSGAELVKPGASVKMSCKASGYTFTTYNVHWVKQTPGQGLEWIGSIYPDNGDTSYNQNFKGKATLTADKSSSTAYMQLSSLTSEDSAVYYCARGDFAYWGQGTLVTVSA\n",
      "||||.|||||+.|||||||+|||||||||||||||||+|.||||||||||||||||||||||||||+||||||||+|||||+||||.|||+||||||||||||||||||||||+\n",
      "QVQLVQSGAEVKKPGASVKVSCKASGYTFTTYNVHWVRQAPGQGLEWIGSIYPDNGDTSYNQNFKGRATLTADKSTSTAYMELSSLRSEDTAVYYCARGDFAYWGQGTLVTVSS\n",
      "|||||||||||||||||||||||||||||||||||||||||||||||+|||||||||||||||||||.|+|.|.||||.|||||||||||||||||||||||||||||||||||\n",
      "QVQLVQSGAEVKKPGASVKVSCKASGYTFTTYNVHWVRQAPGQGLEWMGSIYPDNGDTSYNQNFKGRVTMTRDTSTSTVYMELSSLRSEDTAVYYCARGDFAYWGQGTLVTVSS\n",
      " °                        °°°°^^^^^           °°°^^^^^^^^^^^^^^^^^ ° ° ° °    °                 °°^^^^^°          \n",
      "Benralizumab (parental -> vernier -> straight):\n",
      "EVQLQQSGPELVKPGASVKMSCKASGYTFTSYVIHWVKQRPGQGLEWIGYINPYNDGTKYNERFKGKATLTSDKSSSTAYMELSSLTSEDSAVYLCGREGIRYYGLLGDYWGQGTSVTVSS\n",
      "+|||.|||.|+.|||||||+|||||||||||||||||+|.||||||||||||||||||||||||||+||||||||+||||||||||.|||+|||.||||||||||||||||||||.|||||\n",
      "QVQLVQSGAEVKKPGASVKVSCKASGYTFTSYVIHWVRQAPGQGLEWIGYINPYNDGTKYNERFKGRATLTSDKSTSTAYMELSSLRSEDTAVYYCGREGIRYYGLLGDYWGQGTLVTVSS\n",
      "|||||||||||||||||||||||||||||||||||||||||||||||+|||||||||||||||||||.|+|.|.||||.|||||||||||||||||.||||||||||||||||||||||||\n",
      "QVQLVQSGAEVKKPGASVKVSCKASGYTFTSYVIHWVRQAPGQGLEWMGYINPYNDGTKYNERFKGRVTMTRDTSTSTVYMELSSLRSEDTAVYYCAREGIRYYGLLGDYWGQGTLVTVSS\n",
      " °                        °°°°^^^^^           °°°^^^^^^^^^^^^^^^^^ ° ° ° °    °                 °°^^^^^^^^^^^^°          \n",
      "Bevacizumab (parental -> vernier -> straight):\n",
      "QIQLVQSGPELKKPGETVKISCKASGYTFTNYGMNWVRQAPGKGLKWMGWINTYTGEPTYAADFKRRFAFSLETSASTAYLQINNLKNEDMATYFCARYPHYYGSSHWYFDVWGAGTTVTVSS\n",
      "+||||+||..|.+||.++++||.||||||||||||||||||||||+||||||||||||||||||||||.|||+||.+|||||+|+|+.||.|.|+|||||||||||||||||||.||.|||||\n",
      "EIQLVESGGGLVQPGGSLRLSCAASGYTFTNYGMNWVRQAPGKGLEWMGWINTYTGEPTYAADFKRRFTFSLDTSKNTAYLQMNSLRAEDTAVYYCARYPHYYGSSHWYFDVWGRGTLVTVSS\n",
      "|+||||||||||||||||||||||||+||+|||||||||||||||||+.||||||||||||||||||||.|.|.||||.||||||||||||||||||+|||||||||||||||||||||||||\n",
      "EVQLVESGGGLVQPGGSLRLSCAASGFTFSNYGMNWVRQAPGKGLEWVSWINTYTGEPTYAADFKRRFTISRDNSKNTLYLQMNSLRAEDTAVYYCAKYPHYYGSSHWYFDVWGRGTLVTVSS\n",
      " °                        °°°°^^^^^           °°°^^^^^^^^^^^^^^^^^ ° ° ° °    °                 °°^^^^^^^^^^^^^^°          \n"
     ]
    }
   ],
   "source": [
    "for parental, straight, vernier in zip(parental_heavy[:LIMIT], manual_straight_heavy[:LIMIT], manual_vernier_heavy[:LIMIT]):\n",
    "    print(parental.name+' (parental -> vernier -> straight):')\n",
    "    print(parental.align(vernier, straight))"
   ]
  },
  {
   "cell_type": "code",
   "execution_count": 57,
   "metadata": {},
   "outputs": [
    {
     "name": "stdout",
     "output_type": "stream",
     "text": [
      "Abituzumab (parental -> vernier -> straight):\n",
      "DIQMTQTTSSLSASLGDRVTISCRASQDISNYLAWYQQKPDGTIKLLIYYTSKIHSGVPSRFSGSGSGTDYSLTISNLEQEDIATYFCQQGNTFPYTFGGGTKLEIK\n",
      "||||||+.||||||+||||||+||||||||||||||||||....|||||||||||||||||||||||||||+.|||+|+.||||||+||||||||||||.|||+|||\n",
      "DIQMTQSPSSLSASVGDRVTITCRASQDISNYLAWYQQKPGKAPKLLIYYTSKIHSGVPSRFSGSGSGTDYTFTISSLQPEDIATYYCQQGNTFPYTFGQGTKVEIK\n",
      "||||||||||||||||||||||||||||||||||||||||||||||||||||||||||||||||||||||+||||||||||||||||||||||||||||||||||||\n",
      "DIQMTQSPSSLSASVGDRVTITCRASQDISNYLAWYQQKPGKAPKLLIYYTSKIHSGVPSRFSGSGSGTDFTFTISSLQPEDIATYYCQQGNTFPYTFGQGTKVEIK\n",
      " ° °                   ^^^^^^^^^^^°°         °°°°^^^^^^^       ° ° °° °                 ^^^^^^^^^°         \n",
      "Afutuzumab (parental -> vernier -> straight):\n",
      "DIVMTQAAFSNPVTLGTSASISCRSSKSLLHSNGITYLYWYLQKPGQSPQLLIYQMSNLVSGVPDRFSGSGSGTDFTLRISRVEAEDVGVYYCAQNLELPYTFGGGTKLEIK\n",
      "||||||+..|.|||.|..||||||||||||||||||||||||||||||||||||||||||||||||||||||||||||+|||||||||||||||||||||||||||||+|||\n",
      "DIVMTQSPLSLPVTPGEPASISCRSSKSLLHSNGITYLYWYLQKPGQSPQLLIYQMSNLVSGVPDRFSGSGSGTDFTLKISRVEAEDVGVYYCAQNLELPYTFGGGTKVEIK\n",
      "||||||||||||||||||||||||||||||||||||||||||||||||||||||||||||||||||||||||||||||||||||||||||||||||||||||||||||||||\n",
      "DIVMTQSPLSLPVTPGEPASISCRSSKSLLHSNGITYLYWYLQKPGQSPQLLIYQMSNLVSGVPDRFSGSGSGTDFTLKISRVEAEDVGVYYCAQNLELPYTFGGGTKVEIK\n",
      " ° °                   ^^^^^^^^^^^^^^^^°°         °°°°^^^^^^^       ° ° °° °                 ^^^^^^^^^°         \n",
      "Alacizumab (parental -> vernier -> straight):\n",
      "DIQMTQSPSSLSASLGERVSLTCRASQDIAGSLNWLQQEPDGTIKRLIYATSSLDSGVPKRFSGSRSGSDYSLTISSLESEDFVDYYCLQYGSFPPTFGGGTKLEIK\n",
      "||||||||||||||+|+||++|||||||||||||||||+|....|||||||||||||||.|||||||||||+||||||+.|||..||||||||||||||.|||+|||\n",
      "DIQMTQSPSSLSASVGDRVTITCRASQDIAGSLNWLQQKPGKAPKRLIYATSSLDSGVPSRFSGSRSGSDYTLTISSLQPEDFATYYCLQYGSFPPTFGQGTKVEIK\n",
      "|||||||||||||||||||||||||||||||||||.|||||||||.|||||||||||||||||||.||+|+||||||||||||||||||||||||||||||||||||\n",
      "DIQMTQSPSSLSASVGDRVTITCRASQDIAGSLNWFQQKPGKAPKSLIYATSSLDSGVPSRFSGSGSGTDFTLTISSLQPEDFATYYCLQYGSFPPTFGQGTKVEIK\n",
      " ° °                   ^^^^^^^^^^^°°         °°°°^^^^^^^       ° ° °° °                 ^^^^^^^^^°         \n",
      "Alemtuzumab (parental -> vernier -> straight):\n",
      "DIKLIQSQASLSASLGETVTLTCKASQNIDKYLNWYQQKQGKSPKLLVYNTNNLQTGVPSRFSGSGSGTQFSLKINSLQTEDFGNYYCLQHISRPRTFGGGTKLEIK\n",
      "||+|.||.+|||||+|+.||+||||||||||||||||||.||+||||||||||||||||||||||||||.|+..|+|||.||...||||||||||||||.|||+|||\n",
      "DIQLTQSPSSLSASVGDRVTITCKASQNIDKYLNWYQQKPGKAPKLLVYNTNNLQTGVPSRFSGSGSGTDFTFTISSLQPEDIATYYCLQHISRPRTFGQGTKVEIK\n",
      "|||+|||||||||||||||||||||||||||||||||||||||||||+|||||||||||||||||||||||||||||||||||||||||||||||||||||||||||\n",
      "DIQMTQSPSSLSASVGDRVTITCKASQNIDKYLNWYQQKPGKAPKLLIYNTNNLQTGVPSRFSGSGSGTDFTFTISSLQPEDIATYYCLQHISRPRTFGQGTKVEIK\n",
      " ° °                   ^^^^^^^^^^^°°         °°°°^^^^^^^       ° ° °° °                 ^^^^^^^^^°         \n",
      "Anrukinzumab (parental -> vernier -> straight):\n",
      "DIVLTQSPASLAVSLGQRATISCKASESVDNYGKSLMHWYQQKPGQPPKLLIYRASNLESGIPARFSGSGSRTDFTLTINPVEADDIATYYCQQSNEDPWTFGGGTKLEIK\n",
      "||.|||||+||+.|+|.|.||+|||||||||||||||||||||||+.||||||||||||||+|+|||||||||||||||+.++.+|.||||||||||||||||.|||+|||\n",
      "DIQLTQSPSSLSASVGDRVTITCKASESVDNYGKSLMHWYQQKPGKAPKLLIYRASNLESGVPSRFSGSGSRTDFTLTISSLQPEDFATYYCQQSNEDPWTFGQGTKVEIK\n",
      "|||+|||||||||||||||||||||||||||||||||||||||||||||||||||||||||||||||||||.|||||||||||||||||||||||||||||||||||||||\n",
      "DIQMTQSPSSLSASVGDRVTITCKASESVDNYGKSLMHWYQQKPGKAPKLLIYRASNLESGVPSRFSGSGSGTDFTLTISSLQPEDFATYYCQQSNEDPWTFGQGTKVEIK\n",
      " ° °                   ^^^^^^^^^^^^^^^°°         °°°°^^^^^^^       ° ° °° °                 ^^^^^^^^^°         \n",
      "Atezolizumab (parental -> vernier -> straight):\n",
      "DIVMTQSHKFMSTSVGDRVSITCRASQDVSTAVAWYQQKPGQSPKLLIYSASFLYSGVPDRFTGSGSGTDFTLTISNVQSEDLAEYFCQQYLYHPATFGGGTKLEIK\n",
      "||.||||...+|.||||||+|||||||||||||||||||||++||||||||||||||||.||+|||||||||||||++|.||.|.|+||||||||||||.|||+|||\n",
      "DIQMTQSPSSVSASVGDRVTITCRASQDVSTAVAWYQQKPGKAPKLLIYSASFLYSGVPSRFSGSGSGTDFTLTISSLQPEDFATYYCQQYLYHPATFGQGTKVEIK\n",
      "|||||||||||||||||||||||||||||||||||||||||||||||||||||||||||||||||||||||||||||||||||||||||||||||||||||||||||\n",
      "DIQMTQSPSSVSASVGDRVTITCRASQDVSTAVAWYQQKPGKAPKLLIYSASFLYSGVPSRFSGSGSGTDFTLTISSLQPEDFATYYCQQYLYHPATFGQGTKVEIK\n",
      " ° °                   ^^^^^^^^^^^°°         °°°°^^^^^^^       ° ° °° °                 ^^^^^^^^^°         \n",
      "Bapineuzumab (parental -> vernier -> straight):\n",
      "DVVMTQTPLTLSVTIGQPASISCKSSQSLLDSDGKTYLNWLLQRPGQSPKRLIYLVSKLDSGVPDRFTGSGSGTDFTLKISRVEAEDVGVYYCWQGTHFPRTFGGGTKLEIK\n",
      "|||||||||+||||.||||||||||||||||||||||||||||+|||||+|||||||||||||||||+||||||||||||||||||||||||||||||||||||.|||+|||\n",
      "DVVMTQTPLSLSVTPGQPASISCKSSQSLLDSDGKTYLNWLLQKPGQSPQRLIYLVSKLDSGVPDRFSGSGSGTDFTLKISRVEAEDVGVYYCWQGTHFPRTFGQGTKVEIK\n",
      "|+||||||||||||||||||||||||||||||||||||||.|||||||||.|||||||||||||||||||||||||||||||||||||||||||||||||||||||||||||\n",
      "DIVMTQTPLSLSVTPGQPASISCKSSQSLLDSDGKTYLNWYLQKPGQSPQLLIYLVSKLDSGVPDRFSGSGSGTDFTLKISRVEAEDVGVYYCWQGTHFPRTFGQGTKVEIK\n",
      " ° °                   ^^^^^^^^^^^^^^^^°°         °°°°^^^^^^^       ° ° °° °                 ^^^^^^^^^°         \n",
      "Bemarituzumab (parental -> vernier -> straight):\n",
      "DIVMTQSHKFMSTSVGDRVSITCKASQGVSNDVAWYQQKPGQSPKLLIYSASYRYTGVPDRFTGSGSGTDFTFTISSVQAEDLAVYYCQQHSTTPYTFGGGTKLEIK\n",
      "||.||||...+|.||||||+|||||||||||||||||||||++||||||||||||||||.||+||||||||||||||+|.||+|.||||||||||||||.|||||||\n",
      "DIQMTQSPSSLSASVGDRVTITCKASQGVSNDVAWYQQKPGKAPKLLIYSASYRYTGVPSRFSGSGSGTDFTFTISSLQPEDIATYYCQQHSTTPYTFGQGTKLEIK\n",
      "|||||||||||||||||||||||||||||||||||||||||||||||||||||||||||||||||||||||||||||||||||||||||||||||||||||||||||\n",
      "DIQMTQSPSSLSASVGDRVTITCKASQGVSNDVAWYQQKPGKAPKLLIYSASYRYTGVPSRFSGSGSGTDFTFTISSLQPEDIATYYCQQHSTTPYTFGQGTKLEIK\n",
      " ° °                   ^^^^^^^^^^^°°         °°°°^^^^^^^       ° ° °° °                 ^^^^^^^^^°         \n",
      "Benralizumab (parental -> vernier -> straight):\n",
      "DIQMTQTTSSLSASLGDRVTISCGTSEDIINYLNWYQQKPDGTVKLLIYHTSRLQSGVPSRFSGSGSGTDYSLTISNLEQEDIATYFCQQGYTLPYTFGGGTKLEIK\n",
      "||||||+.||||||+||||||+||||||||||||||||||....|||||||||||||||||||||||||||+||||+|+.||.|||+||||||||||||.|||+|||\n",
      "DIQMTQSPSSLSASVGDRVTITCGTSEDIINYLNWYQQKPGKAPKLLIYHTSRLQSGVPSRFSGSGSGTDYTLTISSLQPEDFATYYCQQGYTLPYTFGQGTKVEIK\n",
      "||||||||||||||||||||||||||||||||||||||||||||||||||||||||||||||||||||||+||||||||||||||||||||||||||||||||||||\n",
      "DIQMTQSPSSLSASVGDRVTITCGTSEDIINYLNWYQQKPGKAPKLLIYHTSRLQSGVPSRFSGSGSGTDFTLTISSLQPEDFATYYCQQGYTLPYTFGQGTKVEIK\n",
      " ° °                   ^^^^^^^^^^^°°         °°°°^^^^^^^       ° ° °° °                 ^^^^^^^^^°         \n",
      "Bevacizumab (parental -> vernier -> straight):\n",
      "DIQMTQTTSSLSASLGDRVTISCSASQDISNYLNWYQQKPDGTVKLLIYFTSSLHSGVPSRFSGSGSGTDYFLTISNLEPEDIATYYCQQYSTVPWTFGGGTKLEIK\n",
      "||||||+.||||||+||||||+||||||||||||||||||....|||||||||||||||||||||||||||.||||+|+|||.||||||||||||||||.|||+|||\n",
      "DIQMTQSPSSLSASVGDRVTITCSASQDISNYLNWYQQKPGKAPKLLIYFTSSLHSGVPSRFSGSGSGTDYTLTISSLQPEDFATYYCQQYSTVPWTFGQGTKVEIK\n",
      "|||||||||||||||||||||||||||||||||||+|||||||||.||||||||||||||||||||||||+||||||||||||||||||||||||||||||||||||\n",
      "DIQMTQSPSSLSASVGDRVTITCSASQDISNYLNWFQQKPGKAPKSLIYFTSSLHSGVPSRFSGSGSGTDFTLTISSLQPEDFATYYCQQYSTVPWTFGQGTKVEIK\n",
      " ° °                   ^^^^^^^^^^^°°         °°°°^^^^^^^       ° ° °° °                 ^^^^^^^^^°         \n"
     ]
    }
   ],
   "source": [
    "for parental, straight, vernier in zip(parental_light[:LIMIT], manual_straight_light[:LIMIT], manual_vernier_light[:LIMIT]):\n",
    "    print(parental.name+' (parental -> vernier -> straight):')\n",
    "    print(parental.align(vernier, straight))"
   ]
  },
  {
   "cell_type": "markdown",
   "metadata": {},
   "source": [
    "## Save results"
   ]
  },
  {
   "cell_type": "code",
   "execution_count": 19,
   "metadata": {},
   "outputs": [],
   "source": [
    "def save_pairs(heavy_chains, light_chains, path):\n",
    "    assert len(heavy_chains) == len(light_chains)\n",
    "    with open(path, 'w') as f:\n",
    "        for heavy, light in zip(heavy_chains, light_chains):\n",
    "            Chain.to_fasta(heavy, f, description='VH')\n",
    "            Chain.to_fasta(light, f, description='VL')"
   ]
  },
  {
   "cell_type": "markdown",
   "metadata": {},
   "source": [
    "### Manual (matched) pairs"
   ]
  },
  {
   "cell_type": "code",
   "execution_count": 58,
   "metadata": {},
   "outputs": [],
   "source": [
    "save_pairs(manual_straight_heavy, manual_straight_light, os.path.join(TASK_DIR, 'cdr_grafts_manual/straight_grafts.fa'))"
   ]
  },
  {
   "cell_type": "code",
   "execution_count": 59,
   "metadata": {},
   "outputs": [],
   "source": [
    "save_pairs(manual_vernier_heavy, manual_vernier_light, os.path.join(TASK_DIR, 'cdr_grafts_manual/vernier_grafts.fa'))"
   ]
  },
  {
   "cell_type": "code",
   "execution_count": 60,
   "metadata": {},
   "outputs": [
    {
     "name": "stdout",
     "output_type": "stream",
     "text": [
      "source $(conda info --base)/bin/activate biophi && biophi oasis \\\n",
      "        data/tasks/therapeutic_rediscovery/cdr_grafts_matched/straight_grafts.fa \\\n",
      "        --output data/tasks/therapeutic_rediscovery/cdr_grafts_matched/straight_grafts_oasis.xlsx \\\n",
      "        --oas-db sqlite:///../biophi/work/oas_clean_human_subject_9mers_2019_11.db \\\n",
      "        --proteome-db sqlite:///../biophi/work/uniprot_human_proteome_9mers.db\n",
      "      __     ____  _       ____  _     _      ___    _   ____  _\n",
      "  /| /  \\   | __ )(_) ___ |  _ \\| |__ (_)    / _ \\  / \\ / ___|(_)___\n",
      " ( || [] )  |  _ \\| |/ _ \\| |_) | '_ \\| |   | | | |/ _ \\\\___ \\| / __|\n",
      "  \\_   _/   | |_) | | (_) |  __/| | | | |   | |_| / ___ \\___| | \\__ \\\n",
      "    | |     |____/|_|\\___/|_|   |_| |_|_|    \\___/_/   \\_\\___/|_|___/\n",
      "    |_|                       version 1.0                  version 1.0\n",
      "────────────────────────────────────────────────────────────────────────\n",
      "\n",
      "Settings:\n",
      "- OAS database: sqlite:///../biophi/work/oas_clean_human_subject_9mers_2019_11.db\n",
      "- Proteome database: sqlite:///../biophi/work/uniprot_human_proteome_9mers.db\n",
      "\n",
      "Loading chains: data/tasks/therapeutic_rediscovery/cdr_grafts_matched/straight_grafts.fa\n",
      "Running OASis on 152 antibodies...\n",
      "100%|█████████████████████████████████████████| 152/152 [01:38<00:00,  1.55it/s]\n",
      "Saved XLSX report to: data/tasks/therapeutic_rediscovery/cdr_grafts_matched/straight_grafts_oasis.xlsx\n",
      "source $(conda info --base)/bin/activate biophi && biophi oasis \\\n",
      "        data/tasks/therapeutic_rediscovery/cdr_grafts_matched/vernier_grafts.fa \\\n",
      "        --output data/tasks/therapeutic_rediscovery/cdr_grafts_matched/vernier_grafts_oasis.xlsx \\\n",
      "        --oas-db sqlite:///../biophi/work/oas_clean_human_subject_9mers_2019_11.db \\\n",
      "        --proteome-db sqlite:///../biophi/work/uniprot_human_proteome_9mers.db\n",
      "      __     ____  _       ____  _     _      ___    _   ____  _\n",
      "  /| /  \\   | __ )(_) ___ |  _ \\| |__ (_)    / _ \\  / \\ / ___|(_)___\n",
      " ( || [] )  |  _ \\| |/ _ \\| |_) | '_ \\| |   | | | |/ _ \\\\___ \\| / __|\n",
      "  \\_   _/   | |_) | | (_) |  __/| | | | |   | |_| / ___ \\___| | \\__ \\\n",
      "    | |     |____/|_|\\___/|_|   |_| |_|_|    \\___/_/   \\_\\___/|_|___/\n",
      "    |_|                       version 1.0                  version 1.0\n",
      "────────────────────────────────────────────────────────────────────────\n",
      "\n",
      "Settings:\n",
      "- OAS database: sqlite:///../biophi/work/oas_clean_human_subject_9mers_2019_11.db\n",
      "- Proteome database: sqlite:///../biophi/work/uniprot_human_proteome_9mers.db\n",
      "\n",
      "Loading chains: data/tasks/therapeutic_rediscovery/cdr_grafts_matched/vernier_grafts.fa\n",
      "Running OASis on 152 antibodies...\n",
      "100%|█████████████████████████████████████████| 152/152 [01:29<00:00,  1.69it/s]\n",
      "Saved XLSX report to: data/tasks/therapeutic_rediscovery/cdr_grafts_matched/vernier_grafts_oasis.xlsx\n"
     ]
    }
   ],
   "source": [
    "!cd ../../; make data/tasks/therapeutic_rediscovery/cdr_grafts_manual/straight_grafts_oasis.xlsx \n",
    "!cd ../../; make data/tasks/therapeutic_rediscovery/cdr_grafts_manual/vernier_grafts_oasis.xlsx"
   ]
  },
  {
   "cell_type": "code",
   "execution_count": 61,
   "metadata": {},
   "outputs": [
    {
     "name": "stdout",
     "output_type": "stream",
     "text": [
      "bin/humanness_t20_score.py data/tasks/therapeutic_rediscovery/cdr_grafts_matched/straight_grafts.fa data/tasks/therapeutic_rediscovery/cdr_grafts_matched/straight_grafts_T20.tsv\n",
      "Note: The sequences will be processed through lakepharma T20 service! Sleeping for 10s, press Ctrl+C to cancel...\n",
      "Processing...\n",
      "43it [02:23,  3.31s/it]HTTPSConnectionPool(host='dm.lakepharma.com', port=443): Max retries exceeded with url: /cgi-bin/blast.py?chain=vk&region=1&output=3&seqs=EIVLTQSPATLSLSPGERATLSCRASESVDSYGKSFMHWYQQKPGQAPRLLIYRASNLESGIPARFSGSGSGTDFTLTISSLEPEDFAVYYCQQSNEDPWTFGQGTKVEIK (Caused by SSLError(SSLEOFError(8, 'EOF occurred in violation of protocol (_ssl.c:1124)')))\n",
      "Retry 1\n",
      "304it [19:26,  3.84s/it]\n",
      "Saved to: data/tasks/therapeutic_rediscovery/cdr_grafts_matched/straight_grafts_T20.tsv\n",
      "bin/humanness_t20_score.py data/tasks/therapeutic_rediscovery/cdr_grafts_matched/vernier_grafts.fa data/tasks/therapeutic_rediscovery/cdr_grafts_matched/vernier_grafts_T20.tsv\n",
      "Note: The sequences will be processed through lakepharma T20 service! Sleeping for 10s, press Ctrl+C to cancel...\n",
      "Processing...\n",
      "304it [18:10,  3.59s/it]\n",
      "Saved to: data/tasks/therapeutic_rediscovery/cdr_grafts_matched/vernier_grafts_T20.tsv\n"
     ]
    }
   ],
   "source": [
    "!cd ../../; make data/tasks/therapeutic_rediscovery/cdr_grafts_manual/straight_grafts_T20.tsv\n",
    "!cd ../../; make data/tasks/therapeutic_rediscovery/cdr_grafts_manual/vernier_grafts_T20.tsv"
   ]
  },
  {
   "cell_type": "markdown",
   "metadata": {},
   "source": [
    "### Automatic pairs"
   ]
  },
  {
   "cell_type": "code",
   "execution_count": 22,
   "metadata": {},
   "outputs": [],
   "source": [
    "save_pairs(automatic_straight_heavy, automatic_straight_light, os.path.join(TASK_DIR, 'cdr_grafts_automatic/straight_grafts.fa'))"
   ]
  },
  {
   "cell_type": "code",
   "execution_count": 25,
   "metadata": {},
   "outputs": [],
   "source": [
    "save_pairs(automatic_vernier_heavy, automatic_vernier_light, os.path.join(TASK_DIR, 'cdr_grafts_automatic/vernier_grafts.fa'))"
   ]
  },
  {
   "cell_type": "code",
   "execution_count": null,
   "metadata": {},
   "outputs": [],
   "source": [
    "!cd ../../; make data/tasks/therapeutic_rediscovery/cdr_grafts_automatic/straight_grafts_oasis.xlsx \n",
    "!cd ../../; make data/tasks/therapeutic_rediscovery/cdr_grafts_automatic/vernier_grafts_oasis.xlsx"
   ]
  },
  {
   "cell_type": "code",
   "execution_count": null,
   "metadata": {},
   "outputs": [],
   "source": [
    "!cd ../../; make data/tasks/therapeutic_rediscovery/cdr_grafts_automatic/straight_grafts_T20.tsv\n",
    "!cd ../../; make data/tasks/therapeutic_rediscovery/cdr_grafts_automatic/vernier_grafts_T20.tsv"
   ]
  }
 ],
 "metadata": {
  "kernelspec": {
   "display_name": "Python 3",
   "language": "python",
   "name": "python3"
  },
  "language_info": {
   "codemirror_mode": {
    "name": "ipython",
    "version": 3
   },
   "file_extension": ".py",
   "mimetype": "text/x-python",
   "name": "python",
   "nbconvert_exporter": "python",
   "pygments_lexer": "ipython3",
   "version": "3.8.6"
  }
 },
 "nbformat": 4,
 "nbformat_minor": 4
}
