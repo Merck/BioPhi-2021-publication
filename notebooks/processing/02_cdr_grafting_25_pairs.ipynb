{
 "cells": [
  {
   "cell_type": "code",
   "execution_count": 1,
   "metadata": {},
   "outputs": [],
   "source": [
    "import os\n",
    "from abnumber import Chain, Position, Alignment\n",
    "import pandas as pd"
   ]
  },
  {
   "cell_type": "code",
   "execution_count": 2,
   "metadata": {},
   "outputs": [],
   "source": [
    "SCHEME = 'kabat'\n",
    "CDR_DEFINITION = 'kabat'\n",
    "TASK_DIR = '../../data/tasks/humab_25_pairs'"
   ]
  },
  {
   "cell_type": "code",
   "execution_count": 3,
   "metadata": {},
   "outputs": [],
   "source": [
    "def read_chains(oasis_path):\n",
    "    vh_table = pd.read_excel(oasis_path, sheet_name='VH', index_col=0)\n",
    "    vl_table = pd.read_excel(oasis_path, sheet_name='VL', index_col=0)\n",
    "    scheme = vh_table['scheme'].iloc[0]\n",
    "    assert scheme == SCHEME, f'Expected OASis in {SCHEME}, got {scheme} in: {oasis_path}'\n",
    "    vh_chains = Chain.from_dataframe(vh_table, scheme=SCHEME, as_series=True)    \n",
    "    vl_chains = Chain.from_dataframe(vl_table, scheme=SCHEME, as_series=True)\n",
    "    return vh_chains, vl_chains"
   ]
  },
  {
   "cell_type": "markdown",
   "metadata": {},
   "source": [
    "## Parental (murine) chains"
   ]
  },
  {
   "cell_type": "code",
   "execution_count": 4,
   "metadata": {},
   "outputs": [],
   "source": [
    "parental_heavy, parental_light = read_chains(os.path.join(TASK_DIR, f'pairs/parental_oasis.xlsx'))"
   ]
  },
  {
   "cell_type": "code",
   "execution_count": 5,
   "metadata": {},
   "outputs": [
    {
     "name": "stdout",
     "output_type": "stream",
     "text": [
      "EVKLQQSGPGLVTPSQSLSITCTVSGFSLSDYGVHWVRQSPGQGLEWLGVIWAGGGTNYNSALMSRKSISKDNSKSQVFLKMNSLQADDTAVYYCARDKGYSYYYSMDYWGQGTSVTVSS\n"
     ]
    },
    {
     "data": {
      "text/plain": [
       "QVQLQESGPGLVKPSDTLSLTCTVSGGSISDYGVHWIRQPPGKGLEWIGVIWAGGGTNYNSALMSRVTISVDTSKNQFSLKLSSVTAADTAVYYCARDKGYSYYYSMDYWGQGTTVTVSS\n",
       " °                        °°°°^^^^^           °°°^^^^^^^^^^^^^^^^ ° ° ° °    °                 °°^^^^^^^^^^^^°          "
      ]
     },
     "execution_count": 5,
     "metadata": {},
     "output_type": "execute_result"
    }
   ],
   "source": [
    "print(parental_heavy[0])\n",
    "parental_heavy[0].graft_cdrs_onto_human_germline()"
   ]
  },
  {
   "cell_type": "code",
   "execution_count": 6,
   "metadata": {},
   "outputs": [
    {
     "name": "stdout",
     "output_type": "stream",
     "text": [
      "DIETLQSPASLAVSLGQRATISCRASESVEYYVTSLMQWYQQKPGQPPKLLIFAASNVESGVPARFSGSGSGTNFSLNIHPVDEDDVAMYFCQQSRKYVPYTFGGGTKLEIK\n"
     ]
    },
    {
     "data": {
      "text/plain": [
       "DIVLTQSPASLAVSPGQRATITCRASESVEYYVTSLMQWYQQKPGQPPKLLIYAASNVESGVPARFSGSGSGTDFTLTINPVEANDTANYYCQQSRKYVPYTFGQGTKLEIK\n",
       " ° °                   ^^^^^^^^^^^^^^^°°         °°°°^^^^^^^       ° ° °° °                 ^^^^^^^^^^°         "
      ]
     },
     "execution_count": 6,
     "metadata": {},
     "output_type": "execute_result"
    }
   ],
   "source": [
    "print(parental_light[0])\n",
    "parental_light[0].graft_cdrs_onto_human_germline()"
   ]
  },
  {
   "cell_type": "markdown",
   "metadata": {},
   "source": [
    "## Straight CDR grafting"
   ]
  },
  {
   "cell_type": "code",
   "execution_count": 7,
   "metadata": {},
   "outputs": [],
   "source": [
    "straight_heavy = [c.graft_cdrs_onto_human_germline() for c in parental_heavy]\n",
    "straight_light = [c.graft_cdrs_onto_human_germline() for c in parental_light]"
   ]
  },
  {
   "cell_type": "markdown",
   "metadata": {},
   "source": [
    "## Vernier+CDR grafting"
   ]
  },
  {
   "cell_type": "code",
   "execution_count": 8,
   "metadata": {},
   "outputs": [],
   "source": [
    "vernier_heavy = [c.graft_cdrs_onto_human_germline(backmutate_vernier=True) for c in parental_heavy]\n",
    "vernier_light = [c.graft_cdrs_onto_human_germline(backmutate_vernier=True) for c in parental_light]"
   ]
  },
  {
   "cell_type": "markdown",
   "metadata": {},
   "source": [
    "## Alignments"
   ]
  },
  {
   "cell_type": "code",
   "execution_count": 9,
   "metadata": {},
   "outputs": [
    {
     "name": "stdout",
     "output_type": "stream",
     "text": [
      "AntiCD28 (parental -> vernier -> straight):\n",
      "EVKLQQSGPGLVTPSQSLSITCTVSGFSLSDYGVHWVRQSPGQGLEWLGVIWAGGGTNYNSALMSRKSISKDNSKSQVFLKMNSLQADDTAVYYCARDKGYSYYYSMDYWGQGTSVTVSS\n",
      "+|+||+||||||.||.+||+||||||||||||||||+||.||+||||||||||||||||||||||||+|||||||+||.||++|+.|.||||||||||||||||||||||||||+|||||\n",
      "QVQLQESGPGLVKPSDTLSLTCTVSGFSLSDYGVHWIRQPPGKGLEWLGVIWAGGGTNYNSALMSRKTISKDNSKNQVSLKLSSVTAADTAVYYCARDKGYSYYYSMDYWGQGTTVTVSS\n",
      "||||||||||||||||||||||||||.|+||||||||||||||||||+||||||||||||||||||.|||.|.||||.||||||||||||||||||||||||||||||||||||||||||\n",
      "QVQLQESGPGLVKPSDTLSLTCTVSGGSISDYGVHWIRQPPGKGLEWIGVIWAGGGTNYNSALMSRVTISVDTSKNQFSLKLSSVTAADTAVYYCARDKGYSYYYSMDYWGQGTTVTVSS\n",
      " °                        °°°°^^^^^           °°°^^^^^^^^^^^^^^^^ ° ° ° °    °                 °°^^^^^^^^^^^^°          \n",
      "Bevacizumab (parental -> vernier -> straight):\n",
      "EIQLVQSGPELKQPGETVRISCKASGYTFTNYGMNWVKQAPGKGLKWMGWINTYTGEPTYAADFKRRFTFSLETSASTAYLQISNLKNDDTATYFCAKYPHYYGSSHWYFDVWGAGTTVTVSS\n",
      "+|||||||.|||+||.+|++|||||||||||||||||+||||+||+||||||||||||||||||||||.|||+||.||||||||+||.+|||.|+|||||||||||||||||||.||.|||||\n",
      "QIQLVQSGSELKKPGASVKVSCKASGYTFTNYGMNWVRQAPGQGLEWMGWINTYTGEPTYAADFKRRFVFSLDTSVSTAYLQISSLKAEDTAVYYCAKYPHYYGSSHWYFDVWGRGTLVTVSS\n",
      "|+|||||||||||||||||||||||||||||||||||||||||||||||||||||||||||||||||||||||||||||||||||||||||||||||+|||||||||||||||||||||||||\n",
      "QVQLVQSGSELKKPGASVKVSCKASGYTFTNYGMNWVRQAPGQGLEWMGWINTYTGEPTYAADFKRRFVFSLDTSVSTAYLQISSLKAEDTAVYYCARYPHYYGSSHWYFDVWGRGTLVTVSS\n",
      " °                        °°°°^^^^^           °°°^^^^^^^^^^^^^^^^^ ° ° ° °    °                 °°^^^^^^^^^^^^^^°          \n",
      "Campath (parental -> vernier -> straight):\n",
      "EVKLLESGGGLVQPGGSMRLSCAGSGFTFTDFYMNWIRQPAGKAPEWLGFIRDKAKGYTTEYNPSVKGRFTISRDNTQNMLYLQMNTLRAEDTATYYCAREGHTAAPFDYWGQGVMVTVSS\n",
      "||+|+||||||||||||+|||||.||||||||||||+||..||..|||||||||||||||||||||||||||||||++++||||||+|||||||.|||||||||||||||||||.||||||\n",
      "EVQLVESGGGLVQPGGSLRLSCAASGFTFTDFYMNWVRQAPGKGLEWLGFIRDKAKGYTTEYNPSVKGRFTISRDNSKSILYLQMNSLRAEDTAVYYCAREGHTAAPFDYWGQGTMVTVSS\n",
      "|||||||||||||||||||||||||||||+|||||||||||||||||+|||||||||||||||||||||||||||+||||.||||||||||||||||||||||||||||||||||||||||\n",
      "EVQLVESGGGLVQPGGSLRLSCAASGFTFSDFYMNWVRQAPGKGLEWVGFIRDKAKGYTTEYNPSVKGRFTISRDDSKSITYLQMNSLRAEDTAVYYCAREGHTAAPFDYWGQGTMVTVSS\n",
      " °                        °°°°^^^^^           °°°^^^^^^^^^^^^^^^^^^^ ° ° ° °    °                 °°^^^^^^^^^^°          \n",
      "Certolizumab (parental -> vernier -> straight):\n",
      "QIQLVQSGPELKKPGETVKISCKASGYVFTDYGMNWVKQAPGKAFKWMGWINTYIGEPIYVDDFKGRFAFSLETSASTAFLQINNLKNEDTATYFCARGYRSYAMDYWGQGTSVTVSS\n",
      "||||||||.||||||.+||+|||||||||||||||||+||||+..+||||||||||||||||||||||.|||+||.|||+|||.+||.||||.|+|||||||||||||||||.|||||\n",
      "QIQLVQSGSELKKPGASVKVSCKASGYVFTDYGMNWVRQAPGQGLEWMGWINTYIGEPIYVDDFKGRFVFSLDTSVSTAYLQICSLKAEDTAVYYCARGYRSYAMDYWGQGTMVTVSS\n",
      "|+|||||||||||||||||||||||||.||||||||||||||||||||||||||||||||||||||||||||||||||||||||||||||||||||||||||||||||||||||||||\n",
      "QVQLVQSGSELKKPGASVKVSCKASGYTFTDYGMNWVRQAPGQGLEWMGWINTYIGEPIYVDDFKGRFVFSLDTSVSTAYLQICSLKAEDTAVYYCARGYRSYAMDYWGQGTMVTVSS\n",
      " °                        °°°°^^^^^           °°°^^^^^^^^^^^^^^^^^ ° ° ° °    °                 °°^^^^^^^^^°          \n",
      "Clazakizumab (parental -> vernier -> straight):\n",
      "Q-SLEESGGRLVTPGTPLTLTCTASGFSLSNYYVTWVRQAPGKGLEWIGIIYGSDETAYATWAIGRFTISKTST--TVDLKMTSLTAADTATYFCARDDSSDWDAKFNLWGQGTLVTVSS\n",
      "+..|.||||.||.||..|.|+|.||||||||||||||||||||||||||||||||||||||||||||||||.|+..||.|+|.||.|.|||.|+||||||||||||||||||||||||||\n",
      "EVQLVESGGGLVQPGGSLRLSCAASGFSLSNYYVTWVRQAPGKGLEWIGIIYGSDETAYATWAIGRFTISKDSSKNTVYLQMNSLRAEDTAVYYCARDDSSDWDAKFNLWGQGTLVTVSS\n",
      "|||||||||||||||||||||||||||++||||||||||||||||||+.|||||||||||||||||||||+|+||||+||||||||||||||||||||||||||||||||||||||||||\n",
      "EVQLVESGGGLVQPGGSLRLSCAASGFTVSNYYVTWVRQAPGKGLEWVSIIYGSDETAYATWAIGRFTISRDNSKNTLYLQMNSLRAEDTAVYYCARDDSSDWDAKFNLWGQGTLVTVSS\n",
      " °                        °°°°^^^^^           °°°^^^^^^^^^^^^^^^^ ° ° ° °    °                 °°^^^^^^^^^^^^°          \n",
      "Crizanlizumab (parental -> vernier -> straight):\n",
      "QVQLQQSGPELVKPGALVKISCKASGYTFTSYDINWVKQRPGQGLEWIGWIYPGDGSIKYNEKFKGKATLTVDKSSSTAYMQVSSLTSENSAVYFCARRGEYGNYEGAMDYWGQGTTVTVSS\n",
      "||||.|||.|+.||||.||+|||||||||||||||||+|..|||||||||||||||||||||||||+|||||+||.|||||++|||.||++|||+|||||||||||||||||||||.|||||\n",
      "QVQLVQSGAEVKKPGASVKVSCKASGYTFTSYDINWVRQATGQGLEWIGWIYPGDGSIKYNEKFKGRATLTVNKSISTAYMELSSLRSEDTAVYYCARRGEYGNYEGAMDYWGQGTMVTVSS\n",
      "|||||||||||||||||||||||||||||||||||||||||||||||+|||||||||||||||||||.|+|.|.||||||||||||||||||||||||||||||||||||||||||||||||\n",
      "QVQLVQSGAEVKKPGASVKVSCKASGYTFTSYDINWVRQATGQGLEWMGWIYPGDGSIKYNEKFKGRVTITRNTSISTAYMELSSLRSEDTAVYYCARRGEYGNYEGAMDYWGQGTMVTVSS\n",
      " °                        °°°°^^^^^           °°°^^^^^^^^^^^^^^^^^ ° ° ° °    °                 °°^^^^^^^^^^^^^°          \n",
      "Eculizumab (parental -> vernier -> straight):\n",
      "QVQLQQSGAELMKPGASVKMSCKATGYIFSNYWIQWIKQRPGHGLEWIGEILPGSGSTEYTENFKDKAAFTADTSSNTAYMQLSSLTSEDSAVYYCARYFFGSSPNWYFDVWGAGTTVTVSS\n",
      "||||.|||||+.|||||||+||||+|||||||||||++|.||.|||||||||||||||||||||||+|.||||||++||||+||||.|||+||||||||||||||||||||||.||.|||||\n",
      "QVQLVQSGAEVKKPGASVKVSCKASGYIFSNYWIQWVRQAPGQGLEWIGEILPGSGSTEYTENFKDRATFTADTSTSTAYMELSSLRSEDTAVYYCARYFFGSSPNWYFDVWGRGTLVTVSS\n",
      "|||||||||||||||||||||||||||.|+|||||||||||||||||+|||||||||||||||||||.|.|.||||||.|||||||||||||||||||||||||||||||||||||||||||\n",
      "QVQLVQSGAEVKKPGASVKVSCKASGYTFTNYWIQWVRQAPGQGLEWMGEILPGSGSTEYTENFKDRVTMTRDTSTSTVYMELSSLRSEDTAVYYCARYFFGSSPNWYFDVWGRGTLVTVSS\n",
      " °                        °°°°^^^^^           °°°^^^^^^^^^^^^^^^^^ ° ° ° °    °                 °°^^^^^^^^^^^^^°          \n",
      "Etaracizumab (parental -> vernier -> straight):\n",
      "EVQLEESGGGLVKPGGSLKLSCAASGFAFSSYDMSWVRQIPEKRLEWVAKVSSGGGSTYYLDTVQGRFTISRDNAKNTLYLQMSSLNSEDTAMYYCARHNYGSFAYWGQGTLVTVSA\n",
      "||||.|||||||+|||||+||||||||||||||||||||.|.|.||||||||||||||||||||||||||||||+||||||||+||.+||||+|||||||||||||||||||||||+\n",
      "EVQLLESGGGLVQPGGSLRLSCAASGFAFSSYDMSWVRQAPGKGLEWVAKVSSGGGSTYYLDTVQGRFTISRDNSKNTLYLQMNSLRAEDTAVYYCARHNYGSFAYWGQGTLVTVSS\n",
      "|||||||||||||||||||||||||||.||||||||||||||||||||+||||||||||||||||||||||||||||||||||||||||||||||||+|||||||||||||||||||\n",
      "EVQLLESGGGLVQPGGSLRLSCAASGFTFSSYDMSWVRQAPGKGLEWVSKVSSGGGSTYYLDTVQGRFTISRDNSKNTLYLQMNSLRAEDTAVYYCAKHNYGSFAYWGQGTLVTVSS\n",
      " °                        °°°°^^^^^           °°°^^^^^^^^^^^^^^^^^ ° ° ° °    °                 °°^^^^^^^^°          \n",
      "Herceptin (parental -> vernier -> straight):\n",
      "QVQLQQSGPELVKPGASLKLSCTASGFNIKDTYIHWVKQRPEQGLEWIGRIYPTNGYTRYDPKFQDKATITADTSSNTAYLQVSRLTSEDTAVYYCSRWGGDGFYAMDYWGQGASVTVSS\n",
      "||||.|||.|+.|||||+|+||.||||||||||||||+|.|.||||||||||||||||||||||||+||||||||.+|||+++|||.|+||||||||||||||||||||||||..|||||\n",
      "QVQLVQSGAEVKKPGASVKVSCKASGFNIKDTYIHWVRQAPGQGLEWIGRIYPTNGYTRYDPKFQDRATITADTSISTAYMELSRLRSDDTAVYYCSRWGGDGFYAMDYWGQGTMVTVSS\n",
      "||||||||||||||||||||||||||+...|||||||||||||||||+|||||||||||||||||||.|+|.||||||||||||||||||||||||+|||||||||||||||||||||||\n",
      "QVQLVQSGAEVKKPGASVKVSCKASGYTFTDTYIHWVRQAPGQGLEWMGRIYPTNGYTRYDPKFQDRVTMTRDTSISTAYMELSRLRSDDTAVYYCARWGGDGFYAMDYWGQGTMVTVSS\n",
      " °                        °°°°^^^^^           °°°^^^^^^^^^^^^^^^^^ ° ° ° °    °                 °°^^^^^^^^^^^°          \n",
      "Idarucizumab (parental -> vernier -> straight):\n",
      "QVQLEQSGPGLVAPSQRLSITCTVSGFSLTSYIVDWVRQSPGKGLEWLGVIWAGGSTGYNSALRSRLSITKSNSKSQVFLQMNSLQTDDTAIYYCASAAYYSYYNYDGFAYWGQGTLVTVSA\n",
      "||||++||||||.||+.||+||||||||||||||||+||.|||||||||||||||||||||||||||+|+|.|||+||.|+++|+...|||+|||||||||||||||||||||||||||||+\n",
      "QVQLQESGPGLVKPSETLSLTCTVSGFSLTSYIVDWIRQPPGKGLEWLGVIWAGGSTGYNSALRSRLTISKDNSKNQVSLKLSSVTAADTAVYYCASAAYYSYYNYDGFAYWGQGTLVTVSS\n",
      "||||||||||||||||||||||||||.|++|||||||||||||||||+||||||||||||||||||+|||.|.||||.||||||||||||||||||.|||||||||||||||||||||||||\n",
      "QVQLQESGPGLVKPSETLSLTCTVSGGSISSYIVDWIRQPPGKGLEWIGVIWAGGSTGYNSALRSRVTISVDTSKNQFSLKLSSVTAADTAVYYCARAAYYSYYNYDGFAYWGQGTLVTVSS\n",
      " °                        °°°°^^^^^           °°°^^^^^^^^^^^^^^^^ ° ° ° °    °                 °°^^^^^^^^^^^^^^°          \n",
      "Ixekizumab (parental -> vernier -> straight):\n",
      "QVQLQQSRPELVKPGASVKISCKASGYSFTDYNMNWVKQSNGKSLEWIGVINPNYGTTDYNQRFKGKATLTVDQSSRTAYMQLNSLTSEDSAVYYCVIYDYATGTGGYWGQGSPLTVSS\n",
      "||||.||..|+.|||||||+|||||||||||||||||+|+.|+.|.||||||||||||||||||||+||||||||..||||+|+||.|||+|.|||||||||||||||||||+.+||||\n",
      "QVQLVQSGAEVKKPGASVKVSCKASGYSFTDYNMNWVRQAPGQELGWIGVINPNYGTTDYNQRFKGRATLTVDQSISTAYMELSSLRSEDTATYYCVIYDYATGTGGYWGQGTLVTVSS\n",
      "|||||||||||||||||||||||||||.|||||||||||||||||||+|||||||||||||||||||.|+|.|.||||||||||||||||||||||..|||||||||||||||||||||\n",
      "QVQLVQSGAEVKKPGASVKVSCKASGYIFTDYNMNWVRQAPGQELGWMGVINPNYGTTDYNQRFKGRVTMTRDTSISTAYMELSSLRSEDTATYYCARYDYATGTGGYWGQGTLVTVSS\n",
      " °                        °°°°^^^^^           °°°^^^^^^^^^^^^^^^^^ ° ° ° °    °                 °°^^^^^^^^^^°          \n",
      "Ligelizumab (parental -> vernier -> straight):\n",
      "QVQLQQSGAELMKPGASVKISCKTTGYTFSMYWLEWVKQRPGHGLEWVGEISPGTFTTNYNEKFKAKATFTADTSSNTAYLQLSGLTSEDSAVYFCARFSHFSGSNYDYFDYWGQGTSLTVSS\n",
      "||||.|||||+.|||+|||+|||.+||||||||||||+|.||.|||||||||||||||||||||||+||||||||++|||++||.|.|||+|||+||||||||||||||||||||||.+||||\n",
      "QVQLVQSGAEVKKPGSSVKVSCKASGYTFSMYWLEWVRQAPGQGLEWVGEISPGTFTTNYNEKFKARATFTADTSTSTAYMELSSLRSEDTAVYYCARFSHFSGSNYDYFDYWGQGTLVTVSS\n",
      "||||||||||||||||||||||||||.||||||||||||||||||||+|||||||||||||||||||.|.|||.|||||||||||||||||||||||||||||||||||||||||||||||||\n",
      "QVQLVQSGAEVKKPGSSVKVSCKASGGTFSMYWLEWVRQAPGQGLEWMGEISPGTFTTNYNEKFKARVTITADESTSTAYMELSSLRSEDTAVYYCARFSHFSGSNYDYFDYWGQGTLVTVSS\n",
      " °                        °°°°^^^^^           °°°^^^^^^^^^^^^^^^^^ ° ° ° °    °                 °°^^^^^^^^^^^^^^°          \n",
      "Lorvotuzumab (parental -> vernier -> straight):\n",
      "DVQLVESGGGLVQPGGSRKLSCAASGFTFSSFGMHWVRQAPEKGLEWVAYISSGSFTIYHADTVKGRFTISRDNPKNTLFLQMTSLRAEDTAHYYCARMRKGYAMDYWGQGTTVTVSS\n",
      "+||||||||||||||||.+||||||||||||||||||||||.||||||||||||||||||||||||||||||||.||+|+|||.||||||||.|||||||||||||||||||.|||||\n",
      "EVQLVESGGGLVQPGGSLRLSCAASGFTFSSFGMHWVRQAPGKGLEWVAYISSGSFTIYHADTVKGRFTISRDNAKNSLYLQMNSLRAEDTAVYYCARMRKGYAMDYWGQGTMVTVSS\n",
      "||||||||||||||||||||||||||||||||||||||||||||||||+|||||||||||||||||||||||||||||||||||||||||||||||||||||||||||||||||||||\n",
      "EVQLVESGGGLVQPGGSLRLSCAASGFTFSSFGMHWVRQAPGKGLEWVSYISSGSFTIYHADTVKGRFTISRDNAKNSLYLQMNSLRAEDTAVYYCARMRKGYAMDYWGQGTMVTVSS\n",
      " °                        °°°°^^^^^           °°°^^^^^^^^^^^^^^^^^ ° ° ° °    °                 °°^^^^^^^^^°          \n",
      "Mogamulizumab (parental -> vernier -> straight):\n",
      "EVQLVESGGDLMKPGGSLKISCAASGFIFSNYGMSWVRQTPDMRLEWVATISSASTYSYYPDSVKGRFTISRDNAENSLYLQMNSLRSEDTGIYYCGRHSDGNFAFGYWGRGTLVTVSA\n",
      "|||||||||.|+||||||++|||||||||||||||||||.|...|||||||||||||||||||||||||||||||+|||||||||||+|||.+|||||||||||||||||||||||||+\n",
      "EVQLVESGGGLVKPGGSLRLSCAASGFIFSNYGMSWVRQAPGKGLEWVATISSASTYSYYPDSVKGRFTISRDNAKNSLYLQMNSLRAEDTAVYYCGRHSDGNFAFGYWGRGTLVTVSS\n",
      "|||||||||||||||||||||||||||.||||||||||||||||||||+|||||||||||||||||||||||||||||||||||||||||||||||.||||||||||||||||||||||\n",
      "EVQLVESGGGLVKPGGSLRLSCAASGFTFSNYGMSWVRQAPGKGLEWVSTISSASTYSYYPDSVKGRFTISRDNAKNSLYLQMNSLRAEDTAVYYCARHSDGNFAFGYWGRGTLVTVSS\n",
      " °                        °°°°^^^^^           °°°^^^^^^^^^^^^^^^^^ ° ° ° °    °                 °°^^^^^^^^^^°          \n",
      "Omalizumab (parental -> vernier -> straight):\n",
      "DVQLQESGPGLVKPSQSLSLACSVTGYSITSGYSWNWIRQFPGNKLEWMGSITYDGSSNYNPSLKNRISVTRDTSQNQFFLKLNSATAEDTATYYCARGSHYFGHWHFAVWGAGTTVTVSS\n",
      ".||||||||||||||++|||.|+|+|||||||||||||||.||..|||||||||||||||||||||||+|+||||+|||.|||+|.||.|||.|||||||||||||||||||.||.|||||\n",
      "QVQLQESGPGLVKPSETLSLTCTVSGYSITSGYSWNWIRQPPGKGLEWMGSITYDGSSNYNPSLKNRITVSRDTSKNQFSLKLSSVTAADTAVYYCARGSHYFGHWHFAVWGRGTLVTVSS\n",
      "|||||||||||||||||||||||||||||+||||||||||||||||||+||||||||||||||||||+|+|.|||||||||||||||||||||||||||||||||||||||||||||||||\n",
      "QVQLQESGPGLVKPSETLSLTCTVSGYSISSGYSWNWIRQPPGKGLEWIGSITYDGSSNYNPSLKNRVTISVDTSKNQFSLKLSSVTAADTAVYYCARGSHYFGHWHFAVWGRGTLVTVSS\n",
      " °                        °°°°^^^^^^           °°°^^^^^^^^^^^^^^^^ ° ° ° °    °                 °°^^^^^^^^^^^^°          \n",
      "Palivizumab (parental -> vernier -> straight):\n",
      "QVELQESGPGILQPSQTLSLTCSFSGFSLSTSGMSVGWIRQPSGEGLEWLADIWWDDKKDYNPSLKSRLTISKDTSSNQVFLKITGVDTADTATYYCARSMITNWYFDVWGAGTTVTVSS\n",
      "||.|+||||.+++|+|||+|||+|||||||||||||||||||.|+.||||||||||||||||||||||||||||||.|||.|.+|.+|..|||||||||||||||||||||.||.|||||\n",
      "QVTLRESGPALVKPTQTLTLTCTFSGFSLSTSGMSVGWIRQPPGKALEWLADIWWDDKKDYNPSLKSRLTISKDTSKNQVVLTMTNMDPVDTATYYCARSMITNWYFDVWGRGTLVTVSS\n",
      "||||||||||||||||||||||||||||||||||||||||||||||||||||||||||||||||||||||||||||||||||||||||||||||||||||||||||||||||||||||||\n",
      "QVTLRESGPALVKPTQTLTLTCTFSGFSLSTSGMSVGWIRQPPGKALEWLADIWWDDKKDYNPSLKSRLTISKDTSKNQVVLTMTNMDPVDTATYYCARSMITNWYFDVWGRGTLVTVSS\n",
      " °                        °°°°^^^^^^^           °°°^^^^^^^^^^^^^^^^ ° ° ° °    °                 °°^^^^^^^^^^°          \n",
      "Pembrolizumab (parental -> vernier -> straight):\n",
      "QVQLQQPGAELVKPGTSVKLSCKASGYTFTNYYMYWVKQRPGQGLEWIGGINPSNGGTNFNEKFKNKATLTVDSSSSTTYMQLSSLTSEDSAVYYCTRRDYRFDMGFDYWGQGTTLTVSS\n",
      "||||.|.|||+.|||.|||+|||||||||||||||||+|.||||||||||||||||||||||||||+||||||||+|||||+||||.|||+|||||||||||||||||||||||.+||||\n",
      "QVQLVQSGAEVKKPGASVKVSCKASGYTFTNYYMYWVRQAPGQGLEWIGGINPSNGGTNFNEKFKNRATLTVDSSTSTTYMELSSLRSEDTAVYYCTRRDYRFDMGFDYWGQGTLVTVSS\n",
      "|||||||||||||||||||||||||||||||||||||||||||||||+|||||||||||||||||||.|+|.|+||||.|||||||||||||||||.|||||||||||||||||||||||\n",
      "QVQLVQSGAEVKKPGASVKVSCKASGYTFTNYYMYWVRQAPGQGLEWMGGINPSNGGTNFNEKFKNRVTMTRDTSTSTVYMELSSLRSEDTAVYYCARRDYRFDMGFDYWGQGTLVTVSS\n",
      " °                        °°°°^^^^^           °°°^^^^^^^^^^^^^^^^^ ° ° ° °    °                 °°^^^^^^^^^^^°          \n",
      "Pertuzumab (parental -> vernier -> straight):\n",
      "EVQLQQSGPELVKPGTSVKISCKASGFTFTDYTMDWVKQSHGKSLEWIGDVNPNSGGSIYNQRFKGKASLTVDRSSRIVYMELRSLTFEDTAVYYCARNLGPSFYFDYWGQGTTLTVSS\n",
      "+|||.|||.|+.|||.|||+|||||||||||||||||+|+.|+.|.||||||||||||||||||||+|+||||||...|||||.||..||||.||||||||||||||||||||.+||||\n",
      "QVQLVQSGAEVKKPGASVKVSCKASGFTFTDYTMDWVRQAPGQELGWIGDVNPNSGGSIYNQRFKGRATLTVDRSISTVYMELSSLRSEDTATYYCARNLGPSFYFDYWGQGTLVTVSS\n",
      "||||||||||||||||||||||||||+.|||||||||||||||||||+|||||||||||||||||||.|+|.|.||||.||||||||||||||||||||||||||||||||||||||||\n",
      "QVQLVQSGAEVKKPGASVKVSCKASGYIFTDYTMDWVRQAPGQELGWMGDVNPNSGGSIYNQRFKGRVTMTRDTSISTAYMELSSLRSEDTATYYCARNLGPSFYFDYWGQGTLVTVSS\n",
      " °                        °°°°^^^^^           °°°^^^^^^^^^^^^^^^^^ ° ° ° °    °                 °°^^^^^^^^^^°          \n",
      "Pinatuzumab (parental -> vernier -> straight):\n",
      "QVQLQQSGPELVKPGASVKISCKASGYEFSRSWMNWVKQRPGQGREWIGRIYPGDGDTNYSGKFKGKATLTADKSSSTAYMQLSSLTSVDSAVYFCARDGSSWDWYFDVWGAGTTVTVSS\n",
      "||||.|||.|+.|||+|||+|||||||||||||||||+|.||||.|||||||||||||||||||||+||||||||+|||||+||||.|.|+|||+||||||||||||||||.||.|||||\n",
      "QVQLVQSGAEVKKPGSSVKVSCKASGYEFSRSWMNWVRQAPGQGLEWIGRIYPGDGDTNYSGKFKGRATLTADKSTSTAYMELSSLRSEDTAVYYCARDGSSWDWYFDVWGRGTLVTVSS\n",
      "||||||||||||||||||||||||||..|||||||||||||||||||+|||||||||||||||||||.|+||||||||||||||||||||||||||||||||||||||||||||||||||\n",
      "QVQLVQSGAEVKKPGSSVKVSCKASGGTFSRSWMNWVRQAPGQGLEWMGRIYPGDGDTNYSGKFKGRVTITADKSTSTAYMELSSLRSEDTAVYYCARDGSSWDWYFDVWGRGTLVTVSS\n",
      " °                        °°°°^^^^^           °°°^^^^^^^^^^^^^^^^^ ° ° ° °    °                 °°^^^^^^^^^^^°          \n",
      "Refanezumab (parental -> vernier -> straight):\n",
      "EIQLVQSGPELKKPGETNKISCKASGYTFTNYGMNWVKQAPGKGLKWMGWINTYTGEPTYADDFTGRFAFSLETSASTAYLQISNLKNEDTATYFCARNPINYYGINYEGYVMDYWGQGTLVTVSS\n",
      "+|||||||.||||||.+.|+|||||||||||||||||+||||+||+||||||||||||||||||||||.|||+||.||||||||+||.||||.|+|||||||||||||||||||||||||.|||||\n",
      "QIQLVQSGSELKKPGASVKVSCKASGYTFTNYGMNWVRQAPGQGLEWMGWINTYTGEPTYADDFTGRFVFSLDTSVSTAYLQISSLKAEDTAVYYCARNPINYYGINYEGYVMDYWGQGTTVTVSS\n",
      "|+||||||||||||||||||||||||||||||||||||||||||||||||||||||||||||||||||||||||||||||||||||||||||||||||||||||||||||||||||||||||||||\n",
      "QVQLVQSGSELKKPGASVKVSCKASGYTFTNYGMNWVRQAPGQGLEWMGWINTYTGEPTYADDFTGRFVFSLDTSVSTAYLQISSLKAEDTAVYYCARNPINYYGINYEGYVMDYWGQGTTVTVSS\n",
      " °                        °°°°^^^^^           °°°^^^^^^^^^^^^^^^^^ ° ° ° °    °                 °°^^^^^^^^^^^^^^^^^°          \n",
      "Reslizumab (parental -> vernier -> straight):\n",
      "EVKLLESGGGLVQPSQTLSLTCTVSGLSLTSNSVNWIRQPPGKGLEWMGLIWSNGDTDYNSAIKSRLSISRDTSKSQVFLKMNSLQSEDTAMYFCAREYYGYFDYWGQGVMVTVSS\n",
      "+|+|.|||.|||+||+|||||||||||||||||||||||||||||||||||||||||||||||||||+|||||||+||.||++|+.+.|||+|+|||||||||||||||.+|||||\n",
      "QVQLQESGPGLVKPSETLSLTCTVSGLSLTSNSVNWIRQPPGKGLEWMGLIWSNGDTDYNSAIKSRLTISRDTSKNQVSLKLSSVTAADTAVYYCAREYYGYFDYWGQGTLVTVSS\n",
      "||||||||||||||||||||||||||.|++|||||||||||||||||+||||||||||||||||||+|||.||||||.||||||||||||||||||||||||||||||||||||||\n",
      "QVQLQESGPGLVKPSETLSLTCTVSGGSISSNSVNWIRQPPGKGLEWIGLIWSNGDTDYNSAIKSRVTISVDTSKNQFSLKLSSVTAADTAVYYCAREYYGYFDYWGQGTLVTVSS\n",
      " °                        °°°°^^^^^           °°°^^^^^^^^^^^^^^^^ ° ° ° °    °                 °°^^^^^^^^°          \n",
      "Rovalpituzumab (parental -> vernier -> straight):\n",
      "QIQLVQSGPELKKPGETVKISCKASGYTFTNYGMNWVKQAPGKGLKWMAWINTYTGEPTYADDFKGRFAFSLETSASTASLQIINLKNEDTATYFCARIGDSSPSDYWGQGTTLTVSS\n",
      "||||||||.||||||.+||+|||||||||||||||||+||||+||+||||||||||||||||||||||.|||+||.|||.|||.+||.||||.|+|||||||||||||||||.+||||\n",
      "QIQLVQSGSELKKPGASVKVSCKASGYTFTNYGMNWVRQAPGQGLEWMAWINTYTGEPTYADDFKGRFVFSLDTSVSTAYLQISSLKAEDTAVYYCARIGDSSPSDYWGQGTLVTVSS\n",
      "|+||||||||||||||||||||||||||||||||||||||||||||||.|||||||||||||||||||||||||||||||||||||||||||||||||||||||||||||||||||||\n",
      "QVQLVQSGSELKKPGASVKVSCKASGYTFTNYGMNWVRQAPGQGLEWMGWINTYTGEPTYADDFKGRFVFSLDTSVSTAYLQISSLKAEDTAVYYCARIGDSSPSDYWGQGTLVTVSS\n",
      " °                        °°°°^^^^^           °°°^^^^^^^^^^^^^^^^^ ° ° ° °    °                 °°^^^^^^^^^°          \n",
      "Solanezumab (parental -> vernier -> straight):\n",
      "EVKLVESGGGLVQPGGSLKLSCAVSGFTFSRYSMSWVRQTPEKRLELVAQINSVGNSTYYPDTVKGRFTISRDNAEYTLSLQMSGLRSDDTATYYCASGDYWGQGTTLTVSS\n",
      "||+|||||||||||||||+||||.|||||||||||||||.|.|.|.|||||||||||||||||||||||||||||+.||.|||+.||++|||.|||||||||||||.+||||\n",
      "EVQLVESGGGLVQPGGSLRLSCAASGFTFSRYSMSWVRQAPGKGLVLVAQINSVGNSTYYPDTVKGRFTISRDNAKNTLYLQMNSLRAEDTAVYYCASGDYWGQGTLVTVSS\n",
      "||||||||||||||||||||||||||||||||||||||||||||||.|+||||||||||||||||||||||||||||||||||||||||||||||||.||||||||||||||\n",
      "EVQLVESGGGLVQPGGSLRLSCAASGFTFSRYSMSWVRQAPGKGLVWVSQINSVGNSTYYPDTVKGRFTISRDNAKNTLYLQMNSLRAEDTAVYYCARGDYWGQGTLVTVSS\n",
      " °                        °°°°^^^^^           °°°^^^^^^^^^^^^^^^^^ ° ° ° °    °                 °°^^^°          \n",
      "Talacotuzumab (parental -> vernier -> straight):\n",
      "EVQLQQSGPELVKPGASVKMSCKASGYTFTDYYMKWVKQSHGKSLEWIGDIIPSNGATFYNQKFKGKATLTVDRSSSTAYMHLNSLTSEDSAVYYCTRSHLLRASWFAYWGQGTLVTVSA\n",
      "+|||.|||.|+.|||||||+|||||||||||||||||+|+.|+.||||||||||||||||||||||+||||||||+|||||.|+||.|||+||||||||||||||||||||||||||||+\n",
      "QVQLVQSGAEVKKPGASVKVSCKASGYTFTDYYMKWVRQAPGQGLEWIGDIIPSNGATFYNQKFKGRATLTVDRSTSTAYMELSSLRSEDTAVYYCTRSHLLRASWFAYWGQGTLVTVSS\n",
      "|||||||||||||||||||||||||||||||||||||||||||||||+|||||||||||||||||||.|+|.|.||||.|||||||||||||||||.|||||||||||||||||||||||\n",
      "QVQLVQSGAEVKKPGASVKVSCKASGYTFTDYYMKWVRQAPGQGLEWMGDIIPSNGATFYNQKFKGRVTMTRDTSTSTVYMELSSLRSEDTAVYYCARSHLLRASWFAYWGQGTLVTVSS\n",
      " °                        °°°°^^^^^           °°°^^^^^^^^^^^^^^^^^ ° ° ° °    °                 °°^^^^^^^^^^^°          \n",
      "Tocilizumab (parental -> vernier -> straight):\n",
      "DVQLQESGPVLVKPSQSLSLTCTVTGYSITSDHAWSWIRQFPGNKLEWMGYISYSGITTYNPSLKSRISITRDTSKNQFFLQLNSVTTGDTSTYYCARSLARTTAMDYWGQGTSVTVSS\n",
      ".||||||||.|||||++|||||||+|||||||||||||||.||..|||||||||||||||||||||||+|+||||||||.|+|+|||..||+.||||||||||||||||||||.|||||\n",
      "QVQLQESGPGLVKPSETLSLTCTVSGYSITSDHAWSWIRQPPGKGLEWMGYISYSGITTYNPSLKSRITISRDTSKNQFSLKLSSVTAADTAVYYCARSLARTTAMDYWGQGTMVTVSS\n",
      "||||||||||||||||||||||||||.||+||||||||||||||||||+||||||||||||||||||+|||.|||||||||||||||||||||||||||||||||||||||||||||||\n",
      "QVQLQESGPGLVKPSETLSLTCTVSGGSISSDHAWSWIRQPPGKGLEWIGYISYSGITTYNPSLKSRVTISVDTSKNQFSLKLSSVTAADTAVYYCARSLARTTAMDYWGQGTMVTVSS\n",
      " °                        °°°°^^^^^^           °°°^^^^^^^^^^^^^^^^ ° ° ° °    °                 °°^^^^^^^^^^°          \n"
     ]
    }
   ],
   "source": [
    "for parental, straight, vernier in zip(parental_heavy, straight_heavy, vernier_heavy):\n",
    "    print(parental.name+' (parental -> vernier -> straight):')\n",
    "    print(parental.align(vernier, straight))"
   ]
  },
  {
   "cell_type": "code",
   "execution_count": 10,
   "metadata": {},
   "outputs": [
    {
     "name": "stdout",
     "output_type": "stream",
     "text": [
      "AntiCD28 (parental -> vernier -> straight):\n",
      "DIETLQSPASLAVSLGQRATISCRASESVEYYVTSLMQWYQQKPGQPPKLLIFAASNVESGVPARFSGSGSGTNFSLNIHPVDEDDVAMYFCQQSRKYVPYTFGGGTKLEIK\n",
      "||.|.|||||||||.||||||+|||||||||||||||||||||||||||||||||||||||||||||||||||+|+|.|+||+.+|.|.|+|||||||||||||.|||||||\n",
      "DIVTTQSPASLAVSPGQRATITCRASESVEYYVTSLMQWYQQKPGQPPKLLIFAASNVESGVPARFSGSGSGTDFTLTINPVEANDTANYYCQQSRKYVPYTFGQGTKLEIK\n",
      "|||.||||||||||||||||||||||||||||||||||||||||||||||||+|||||||||||||||||||||||||||||||||||||||||||||||||||||||||||\n",
      "DIVLTQSPASLAVSPGQRATITCRASESVEYYVTSLMQWYQQKPGQPPKLLIYAASNVESGVPARFSGSGSGTDFTLTINPVEANDTANYYCQQSRKYVPYTFGQGTKLEIK\n",
      " ° °                   ^^^^^^^^^^^^^^^°°         °°°°^^^^^^^       ° ° °° °                 ^^^^^^^^^^°         \n",
      "Bevacizumab (parental -> vernier -> straight):\n",
      "DIQMTQTTSSLSASLGDRVIISCSASQDISNYLNWYQQKPDGTVKVLIYFTSSLHSGVPSRFSGSGSGTDYSLTISNLEPEDIATYYCQQYSTVPWTFGGGTKLEIK\n",
      "||||||+.||||||+||||.|+||||||||||||||||||....|||||||||||||||||||||||||||+.|||+|+||||||||||||||||||||.|||+|||\n",
      "DIQMTQSPSSLSASVGDRVTITCSASQDISNYLNWYQQKPGKAPKVLIYFTSSLHSGVPSRFSGSGSGTDYTFTISSLQPEDIATYYCQQYSTVPWTFGQGTKVEIK\n",
      "|||||||||||||||||||||||||||||||||||||||||||||+||||||||||||||||||||||||+||||||||||||||||||||||||||||||||||||\n",
      "DIQMTQSPSSLSASVGDRVTITCSASQDISNYLNWYQQKPGKAPKLLIYFTSSLHSGVPSRFSGSGSGTDFTFTISSLQPEDIATYYCQQYSTVPWTFGQGTKVEIK\n",
      " ° °                   ^^^^^^^^^^^°°         °°°°^^^^^^^       ° ° °° °                 ^^^^^^^^^°         \n",
      "Campath (parental -> vernier -> straight):\n",
      "DIKMTQSPSFLSASVGDRVTLNCKASQNIDKYLNWYQQKLGESPKLLIYNTNNLQTGIPSRFSGSGSGTDFTLTISSLQPEDVATYFCLQHISRPRTFGTGTKLELK\n",
      "||+||||||.||||||||||+.|||||||||||||||||.|++||||||||||||||+||||||||||||||||||||||||.|||+||||||||||||.|||||+|\n",
      "DIQMTQSPSSLSASVGDRVTITCKASQNIDKYLNWYQQKPGKAPKLLIYNTNNLQTGVPSRFSGSGSGTDFTLTISSLQPEDFATYYCLQHISRPRTFGQGTKLEIK\n",
      "|||||||||||||||||||||||||||||||||||||||||||||||||||||||||||||||||||||||||||||||||||||||||||||||||||||||||||\n",
      "DIQMTQSPSSLSASVGDRVTITCKASQNIDKYLNWYQQKPGKAPKLLIYNTNNLQTGVPSRFSGSGSGTDFTLTISSLQPEDFATYYCLQHISRPRTFGQGTKLEIK\n",
      " ° °                   ^^^^^^^^^^^°°         °°°°^^^^^^^       ° ° °° °                 ^^^^^^^^^°         \n",
      "Certolizumab (parental -> vernier -> straight):\n",
      "DIVMTQSQKFMSTSVGDRVSVTCKASQNVGTNVAWYQQKPGQSPKALIYSASFLYSGVPYRFTGSGSGTDFTLTISTVQSEDLAEYFCQQYNIYPLTFGAGTKLELK\n",
      "||.||||...+|.||||||++||||||||||||||||||||++||||||||||||||||.||+|||||||||||||++|.||.|.|+||||||||||||.|||||+|\n",
      "DIQMTQSPSSVSASVGDRVTITCKASQNVGTNVAWYQQKPGKAPKALIYSASFLYSGVPSRFSGSGSGTDFTLTISSLQPEDFATYYCQQYNIYPLTFGQGTKLEIK\n",
      "|||||||||||||||||||||||||||||||||||||||||||||.|||||||||||||||||||||||||||||||||||||||||||||||||||||||||||||\n",
      "DIQMTQSPSSVSASVGDRVTITCKASQNVGTNVAWYQQKPGKAPKLLIYSASFLYSGVPSRFSGSGSGTDFTLTISSLQPEDFATYYCQQYNIYPLTFGQGTKLEIK\n",
      " ° °                   ^^^^^^^^^^^°°         °°°°^^^^^^^       ° ° °° °                 ^^^^^^^^^°         \n",
      "Clazakizumab (parental -> vernier -> straight):\n",
      "AYDMTQTPASVSAAVGGTVTIKCQASQSINNELSWYQQKPGQRPKLLIYRASTLASGVSSRFKGSGSGTEFTLTISDLECADAATYYCQQGYSLRNIDNAFGGGTEVVVK\n",
      ".|.|||+|+|+||+||..|||.|||||||||||||||||||+.|||||||||||||||.|||.||||||+||||||.|+..|.||||||||||||||||||||||+|.+|\n",
      "DYQMTQSPSSLSASVGDRVTITCQASQSINNELSWYQQKPGKAPKLLIYRASTLASGVPSRFSGSGSGTDFTLTISSLQPEDFATYYCQQGYSLRNIDNAFGGGTKVEIK\n",
      "|.||||||||||||||||||||||||||||||||||||||||||||||||||||||||||||||||||||||||||||||||||||||||||||||||||||||||||||\n",
      "DIQMTQSPSSLSASVGDRVTITCQASQSINNELSWYQQKPGKAPKLLIYRASTLASGVPSRFSGSGSGTDFTLTISSLQPEDFATYYCQQGYSLRNIDNAFGGGTKVEIK\n",
      " ° °                   ^^^^^^^^^^^°°         °°°°^^^^^^^       ° ° °° °                 ^^^^^^^^^^^^°         \n",
      "Crizanlizumab (parental -> vernier -> straight):\n",
      "DIVLTQSPASLAVSLGQRATISCKASQSVDYDGHSYMNWYQQKPGQPPKLLIYAASNLESGIPARFSGSGSGTDFTLNIHPVEEEDAATYYCQQSDENPLTFGTGTKLELK\n",
      "||||||||||||||.||||||+|||||||||||||||||||||||||||||||||||||||+|||||||||||||||.|+|||..|.|.||||||||||||||.|||||+|\n",
      "DIVLTQSPASLAVSPGQRATITCKASQSVDYDGHSYMNWYQQKPGQPPKLLIYAASNLESGVPARFSGSGSGTDFTLTINPVEANDTANYYCQQSDENPLTFGQGTKLEIK\n",
      "|||||||||||||||||||||||||||||||||||||||||||||||||||||||||||||||||||||||||||||||||||||||||||||||||||||||||||||||\n",
      "DIVLTQSPASLAVSPGQRATITCKASQSVDYDGHSYMNWYQQKPGQPPKLLIYAASNLESGVPARFSGSGSGTDFTLTINPVEANDTANYYCQQSDENPLTFGQGTKLEIK\n",
      " ° °                   ^^^^^^^^^^^^^^^°°         °°°°^^^^^^^       ° ° °° °                 ^^^^^^^^^°         \n",
      "Eculizumab (parental -> vernier -> straight):\n",
      "DIQMTQSPASLSASVGETVTITCGASENIYGALNWYQRKQGKSPQLLIYGATNLADGMSSRFSGSGSGRQYYLKISSLHPDDVATYYCQNVLNTPLTFGAGTKLELK\n",
      "||||||||+|||||||+.|||||||||||||||||||+|.||+|+||||||||||||+.||||||||||.|...||||.|+|+||||||||||||||||.|||||+|\n",
      "DIQMTQSPSSLSASVGDRVTITCGASENIYGALNWYQQKPGKAPKLLIYGATNLADGVPSRFSGSGSGRDYTFTISSLQPEDIATYYCQNVLNTPLTFGQGTKLEIK\n",
      "||||||||||||||||||||||||||||||||||||||||||||||||||||||||||||||||||||.|+||||||||||||||||||||||||||||||||||||\n",
      "DIQMTQSPSSLSASVGDRVTITCGASENIYGALNWYQQKPGKAPKLLIYGATNLADGVPSRFSGSGSGTDFTFTISSLQPEDIATYYCQNVLNTPLTFGQGTKLEIK\n",
      " ° °                   ^^^^^^^^^^^°°         °°°°^^^^^^^       ° ° °° °                 ^^^^^^^^^°         \n",
      "Etaracizumab (parental -> vernier -> straight):\n",
      "ELVMTQTPATLSVTPGDSVSLSCRASQSISNHLHWYQQKSHESPRLLIKYASQSISGIPSRFSGSGSGTDFTLSINSVETEDFGMYFCQQSNSWPHTFGGGTKLEIK\n",
      "||||||+|...||||.+.|+++|||||||||||||||||..+||+||||||||||||+|||||||||||||||+|||+|.||...|+||||||||||||.|||||||\n",
      "ELVMTQSPDFQSVTPKEKVTITCRASQSISNHLHWYQQKPDQSPKLLIKYASQSISGVPSRFSGSGSGTDFTLTINSLEAEDAAAYYCQQSNSWPHTFGQGTKLEIK\n",
      "|+|+|||||||||||||||||||||||||||||||||||||||||||||||||||||||||||||||||||||||||||||||||||||||||||||||||||||||\n",
      "EIVLTQSPDFQSVTPKEKVTITCRASQSISNHLHWYQQKPDQSPKLLIKYASQSISGVPSRFSGSGSGTDFTLTINSLEAEDAAAYYCQQSNSWPHTFGQGTKLEIK\n",
      " ° °                   ^^^^^^^^^^^°°         °°°°^^^^^^^       ° ° °° °                 ^^^^^^^^^°         \n",
      "Herceptin (parental -> vernier -> straight):\n",
      "DIVMTQSHKFMSTSVGDRVSITCKASQDVNTAVAWYQQKPGHSPKLLIYSASFRYTGVPDRFTGNRSGTDFTFTISSVQAEDLAVYYCQQHYTTPPTFGGGTKVEIK\n",
      "||.||||...+|.||||||+|||||||||||||||||||||.+||||||||||||||||.||+|+||||||||||||+|.||+|.||||||||||||||||||||||\n",
      "DIQMTQSPSSLSASVGDRVTITCKASQDVNTAVAWYQQKPGKAPKLLIYSASFRYTGVPSRFSGSRSGTDFTFTISSLQPEDIATYYCQQHYTTPPTFGGGTKVEIK\n",
      "|||||||||||||||||||||||||||||||||||||||||||||||||||||||||||||||||.|||||||||||||||||||||||||||||||||||||||||\n",
      "DIQMTQSPSSLSASVGDRVTITCKASQDVNTAVAWYQQKPGKAPKLLIYSASFRYTGVPSRFSGSGSGTDFTFTISSLQPEDIATYYCQQHYTTPPTFGGGTKVEIK\n",
      " ° °                   ^^^^^^^^^^^°°         °°°°^^^^^^^       ° ° °° °                 ^^^^^^^^^°         \n",
      "Idarucizumab (parental -> vernier -> straight):\n",
      "DVVMTQTPLTLSVTIGQPASISCKSSQSLLYTNGKTYLYWLLQRPGQSPKRLIYLVSKLDSGVPDRFSGSGSGTDFTLKISRVEAEDVGIYYCLQSTHFPHTFGGGTKLEIK\n",
      "|||||||||+||||.||||||||||||||||||||||||||||+|||||+|||||||||||||||||||||||||||||||||||||||+||||||||||||||.|||||||\n",
      "DVVMTQTPLSLSVTPGQPASISCKSSQSLLYTNGKTYLYWLLQKPGQSPQRLIYLVSKLDSGVPDRFSGSGSGTDFTLKISRVEAEDVGVYYCLQSTHFPHTFGQGTKLEIK\n",
      "|+||||||||||||||||||||||||||||||||||||||.|||||||||.|||||||||||||||||||||||||||||||||||||||||||||||||||||||||||||\n",
      "DIVMTQTPLSLSVTPGQPASISCKSSQSLLYTNGKTYLYWYLQKPGQSPQLLIYLVSKLDSGVPDRFSGSGSGTDFTLKISRVEAEDVGVYYCLQSTHFPHTFGQGTKLEIK\n",
      " ° °                   ^^^^^^^^^^^^^^^^°°         °°°°^^^^^^^       ° ° °° °                 ^^^^^^^^^°         \n",
      "Ixekizumab (parental -> vernier -> straight):\n",
      "DVVLTQTPLSLPVSLGDQASISCRSSQSLVHSNGNTYLHWYLQKPGQSPKLLIYKVSNRFSGVPDRFSGSGSGTDFTLKISRVEAEDLGVYFCSQSTHVPFTFGSGTKLEIK\n",
      "||||||+||||||+||..|||||||||||||||||||||||.|+|||||+|||||||||||||||||||||||||||||||||||||+|||+||||||||||||.|||||||\n",
      "DVVLTQSPLSLPVTLGQPASISCRSSQSLVHSNGNTYLHWYQQRPGQSPRLLIYKVSNRFSGVPDRFSGSGSGTDFTLKISRVEAEDVGVYYCSQSTHVPFTFGQGTKLEIK\n",
      "|||+||||||||||||||||||||||||||||||||||||+|||||||||.|||||||||||||||||||||||||||||||||||||||||||||||||||||||||||||\n",
      "DVVMTQSPLSLPVTLGQPASISCRSSQSLVHSNGNTYLHWFQQRPGQSPRRLIYKVSNRFSGVPDRFSGSGSGTDFTLKISRVEAEDVGVYYCSQSTHVPFTFGQGTKLEIK\n",
      " ° °                   ^^^^^^^^^^^^^^^^°°         °°°°^^^^^^^       ° ° °° °                 ^^^^^^^^^°         \n",
      "Ligelizumab (parental -> vernier -> straight):\n",
      "DILLTQSPAILSVSPGERVSFSCRASQSIGTNIHWYQQRTDGSPRLLIKYASESISGIPSRFSGSGSGTEFTLNINSVESEDIADYYCQQSDSWPTTFGGGTKLEIK\n",
      "+|+|||||...||+|.|+|+.+||||||||||||||||+.|.||+||||||||||||+|||||||||||+|||.|||+|+||.|.||||||||||||||.|||||||\n",
      "EIVLTQSPDFQSVTPKEKVTITCRASQSIGTNIHWYQQKPDQSPKLLIKYASESISGVPSRFSGSGSGTDFTLTINSLEAEDAATYYCQQSDSWPTTFGQGTKLEIK\n",
      "|||||||||||||||||||||||||||||||||||||||||||||||||||||||||||||||||||||||||||||||||||||||||||||||||||||||||||\n",
      "EIVLTQSPDFQSVTPKEKVTITCRASQSIGTNIHWYQQKPDQSPKLLIKYASESISGVPSRFSGSGSGTDFTLTINSLEAEDAATYYCQQSDSWPTTFGQGTKLEIK\n",
      " ° °                   ^^^^^^^^^^^°°         °°°°^^^^^^^       ° ° °° °                 ^^^^^^^^^°         \n",
      "Lorvotuzumab (parental -> vernier -> straight):\n",
      "DVLMTQTPLSLPVSLGDQASISCRSSQIIIHSDGNTYLEWFLQKPGQSPKLLIYKVSNRFSGVPDRFSGSGSGTDFTLMISRVEAEDLGVYYCFQGSHVPHTFGGGTKLEIK\n",
      "||+|||+||||||+||..|||||||||||||||||||||||.|+|||||+||||||||||||||||||||||||||||.||||||||+||||||||||||||||.|||||||\n",
      "DVVMTQSPLSLPVTLGQPASISCRSSQIIIHSDGNTYLEWFQQRPGQSPRLLIYKVSNRFSGVPDRFSGSGSGTDFTLKISRVEAEDVGVYYCFQGSHVPHTFGQGTKLEIK\n",
      "||||||||||||||||||||||||||||||||||||||||||||||||||.|||||||||||||||||||||||||||||||||||||||||||||||||||||||||||||\n",
      "DVVMTQSPLSLPVTLGQPASISCRSSQIIIHSDGNTYLEWFQQRPGQSPRRLIYKVSNRFSGVPDRFSGSGSGTDFTLKISRVEAEDVGVYYCFQGSHVPHTFGQGTKLEIK\n",
      " ° °                   ^^^^^^^^^^^^^^^^°°         °°°°^^^^^^^       ° ° °° °                 ^^^^^^^^^°         \n",
      "Mogamulizumab (parental -> vernier -> straight):\n",
      "DVLMTQTPLSLPVSLGDQASISCRSSRNIVHINGDTYLEWYLQRPGQSPKLLIYKVSNRFSGVPDRFSGSGSGTDFTLKISRVEAEDLGVYYCFQGSLLPWTFGGGTRLEIR\n",
      "||+|||+||||||+||..|||||||||||||||||||||||.|||||||+|||||||||||||||||||||||||||||||||||||+||||||||||||||||.||||||+\n",
      "DVVMTQSPLSLPVTLGQPASISCRSSRNIVHINGDTYLEWYQQRPGQSPRLLIYKVSNRFSGVPDRFSGSGSGTDFTLKISRVEAEDVGVYYCFQGSLLPWTFGQGTRLEIK\n",
      "||||||||||||||||||||||||||||||||||||||||+|||||||||.|||||||||||||||||||||||||||||||||||||||||||||||||||||||||||||\n",
      "DVVMTQSPLSLPVTLGQPASISCRSSRNIVHINGDTYLEWFQQRPGQSPRRLIYKVSNRFSGVPDRFSGSGSGTDFTLKISRVEAEDVGVYYCFQGSLLPWTFGQGTRLEIK\n",
      " ° °                   ^^^^^^^^^^^^^^^^°°         °°°°^^^^^^^       ° ° °° °                 ^^^^^^^^^°         \n",
      "Omalizumab (parental -> vernier -> straight):\n",
      "DIQLTQSPASLAVSLGQRATISCKASQSVDYDGDSYMNWYQQKPGQPPILLIYAASYLGSEIPARFSGSGSGTDFTLNIHPVEEEDAATFYCQQSHEDPYTFGAGTKLEIK\n",
      "||.|||||||||||.||||||+||||||||||||||||||||||||||.|||||||||||.+|||||||||||||||.|+|||..|.|.+|||||||||||||.|||||||\n",
      "DIVLTQSPASLAVSPGQRATITCKASQSVDYDGDSYMNWYQQKPGQPPKLLIYAASYLGSGVPARFSGSGSGTDFTLTINPVEANDTANYYCQQSHEDPYTFGQGTKLEIK\n",
      "|||||||||||||||||||||||||||||||||||||||||||||||||||||||||||||||||||||||||||||||||||||||||||||||||||||||||||||||\n",
      "DIVLTQSPASLAVSPGQRATITCKASQSVDYDGDSYMNWYQQKPGQPPKLLIYAASYLGSGVPARFSGSGSGTDFTLTINPVEANDTANYYCQQSHEDPYTFGQGTKLEIK\n",
      " ° °                   ^^^^^^^^^^^^^^^°°         °°°°^^^^^^^       ° ° °° °                 ^^^^^^^^^°         \n",
      "Palivizumab (parental -> vernier -> straight):\n",
      "DIQLTQSPAIMSASPGEKVTMTCSASSSVGYMHWYQQKSSTSPKLWIYDTSKLASGVPGRFSGSGSGNSYSLTISSIQAEDVATYYCFQGSGYPFTFGQGTKLEIK\n",
      "||||||||+.+|||.|++||+|||||||||||||||||...+||||||||||||||||.|||||||||.|+|||||+|.||.||||||||||||||||||||||||\n",
      "DIQLTQSPSFLSASVGDRVTITCSASSSVGYMHWYQQKPGKAPKLWIYDTSKLASGVPSRFSGSGSGNEYTLTISSLQPEDFATYYCFQGSGYPFTFGQGTKLEIK\n",
      "|||||||||||||||||||||||||||||||||||||||||||||.|||||||||||||||||||||.|+||||||||||||||||||||||||||||||||||||\n",
      "DIQLTQSPSFLSASVGDRVTITCSASSSVGYMHWYQQKPGKAPKLLIYDTSKLASGVPSRFSGSGSGTEFTLTISSLQPEDFATYYCFQGSGYPFTFGQGTKLEIK\n",
      " ° °                   ^^^^^^^^^^°°         °°°°^^^^^^^       ° ° °° °                 ^^^^^^^^^°         \n",
      "Pembrolizumab (parental -> vernier -> straight):\n",
      "DIVLTQSPASLAVSLGQRAAISCRASKGVSTSGYSYLHWYQQKPGQSPKLLIYLASYLESGVPARFSGSGSGTDFTLNIHPVEEEDAATYYCQHSRDLPLTFGTGTKLELK\n",
      "||||||||||||||.||||.|+||||||||||||||||||||||||.||||||||||||||||||||||||||||||.|+|||..|.|.||||||||||||||.|||||+|\n",
      "DIVLTQSPASLAVSPGQRATITCRASKGVSTSGYSYLHWYQQKPGQPPKLLIYLASYLESGVPARFSGSGSGTDFTLTINPVEANDTANYYCQHSRDLPLTFGQGTKLEIK\n",
      "|||||||||||||||||||||||||||||||||||||||||||||||||||||||||||||||||||||||||||||||||||||||||||||||||||||||||||||||\n",
      "DIVLTQSPASLAVSPGQRATITCRASKGVSTSGYSYLHWYQQKPGQPPKLLIYLASYLESGVPARFSGSGSGTDFTLTINPVEANDTANYYCQHSRDLPLTFGQGTKLEIK\n",
      " ° °                   ^^^^^^^^^^^^^^^°°         °°°°^^^^^^^       ° ° °° °                 ^^^^^^^^^°         \n",
      "Pertuzumab (parental -> vernier -> straight):\n",
      "DTVMTQSHKIMSTSVGDRVSITCKASQDVSIGVAWYQQRPGQSPKLLIYSASYRYTGVPDRFTGSGSGTDFTFTISSVQAEDLAVYYCQQYYIYPYTFGGGTKLEIK\n",
      "||.||||...+|.||||||+||||||||||||||||||+||++||||||||||||||||.||+||||||||||||||+|.||+|.||||||||||||||.|||||||\n",
      "DTQMTQSPSSLSASVGDRVTITCKASQDVSIGVAWYQQKPGKAPKLLIYSASYRYTGVPSRFSGSGSGTDFTFTISSLQPEDIATYYCQQYYIYPYTFGQGTKLEIK\n",
      "|.|||||||||||||||||||||||||||||||||||||||||||||||||||||||||||||||||||||||||||||||||||||||||||||||||||||||||\n",
      "DIQMTQSPSSLSASVGDRVTITCKASQDVSIGVAWYQQKPGKAPKLLIYSASYRYTGVPSRFSGSGSGTDFTFTISSLQPEDIATYYCQQYYIYPYTFGQGTKLEIK\n",
      " ° °                   ^^^^^^^^^^^°°         °°°°^^^^^^^       ° ° °° °                 ^^^^^^^^^°         \n",
      "Pinatuzumab (parental -> vernier -> straight):\n",
      "DILMTQTPLSLPVSLGDQASISCRSSQSIVHSNGNTFLEWYLQKPGQSPKLLIYKVSNRFSGVPDRFSGSGSGTDFTLKISRVEAEDLGVYYCFQGSQFPYTFGGGTKVEIK\n",
      "||+||||||||.|+.|..|||||||||||||||||||||||||||||||+|||||||||||||||||||||||||||||||||||||+||||||||||||||||||||||||\n",
      "DIVMTQTPLSLSVTPGQPASISCRSSQSIVHSNGNTFLEWYLQKPGQSPQLLIYKVSNRFSGVPDRFSGSGSGTDFTLKISRVEAEDVGVYYCFQGSQFPYTFGGGTKVEIK\n",
      "||||||||||||||||||||||||||||||||||||||||||||||||||||||||||||||||||||||||||||||||||||||||||||||||||||||||||||||||\n",
      "DIVMTQTPLSLSVTPGQPASISCRSSQSIVHSNGNTFLEWYLQKPGQSPQLLIYKVSNRFSGVPDRFSGSGSGTDFTLKISRVEAEDVGVYYCFQGSQFPYTFGGGTKVEIK\n",
      " ° °                   ^^^^^^^^^^^^^^^^°°         °°°°^^^^^^^       ° ° °° °                 ^^^^^^^^^°         \n",
      "Refanezumab (parental -> vernier -> straight):\n",
      "NIMMTQSPSSLAVSAGEKVTMSCKSSHSVLYSSNQKNYLAWYQQKPGQSPKLLIYWASTRESGVPDRFTGSGSGTDFTLTIINVHTEDLAVYYCHQYLSSLTFGTGTKLEIK\n",
      "+|+|||||.|||||.||+.|++||||||||||||||||||||||||||.|||||||||||||||||||+||||||||||||.++..||+|||||||||||||||.|||||||\n",
      "DIVMTQSPDSLAVSLGERATINCKSSHSVLYSSNQKNYLAWYQQKPGQPPKLLIYWASTRESGVPDRFSGSGSGTDFTLTISSLQAEDVAVYYCHQYLSSLTFGQGTKLEIK\n",
      "||||||||||||||||||||||||||||||||||||||||||||||||||||||||||||||||||||||||||||||||||||||||||||||||||||||||||||||||\n",
      "DIVMTQSPDSLAVSLGERATINCKSSHSVLYSSNQKNYLAWYQQKPGQPPKLLIYWASTRESGVPDRFSGSGSGTDFTLTISSLQAEDVAVYYCHQYLSSLTFGQGTKLEIK\n",
      " ° °                   ^^^^^^^^^^^^^^^^^°°         °°°°^^^^^^^       ° ° °° °                 ^^^^^^^^°         \n",
      "Reslizumab (parental -> vernier -> straight):\n",
      "DIQMTQSPASLSASLGETISIECLASEGISSYLAWYQQKPGKSPQLLIYGANSLQTGVPSRFSGSGSATQYSLKISSMQPEDEGDYFCQQSYKFPNTFGAGTKLELK\n",
      "||||||||+|||||+|+.++|.||||||||||||||||||||+|+||||||||||||||||||||||||.|+|.|||+||||...|+||||||||||||.|||||+|\n",
      "DIQMTQSPSSLSASVGDRVTITCLASEGISSYLAWYQQKPGKAPKLLIYGANSLQTGVPSRFSGSGSATDYTLTISSLQPEDFATYYCQQSYKFPNTFGQGTKLEIK\n",
      "|||||||||||||||||||||||||||||||||||||||||||||||||||||||||||||||||||.||+||||||||||||||||||||||||||||||||||||\n",
      "DIQMTQSPSSLSASVGDRVTITCLASEGISSYLAWYQQKPGKAPKLLIYGANSLQTGVPSRFSGSGSGTDFTLTISSLQPEDFATYYCQQSYKFPNTFGQGTKLEIK\n",
      " ° °                   ^^^^^^^^^^^°°         °°°°^^^^^^^       ° ° °° °                 ^^^^^^^^^°         \n",
      "Rovalpituzumab (parental -> vernier -> straight):\n",
      "SIVMTQTPKFLLVSAGDRVTITCKASQSVSNDVVWYQQKPGQSPKLLIYYASNRYTGVPDRFAGSGYGTDFSFTISTVQAEDLAVYFCQQDYTSPWTFGGGTKLEIR\n",
      ".|.|||+|..|..|.||||||||||||||||||||||||||++||||||||||||||||.||+|||.||||+||||++|.||+|.|+||||||||||||.|||+||+\n",
      "DIQMTQSPSSLSASVGDRVTITCKASQSVSNDVVWYQQKPGKAPKLLIYYASNRYTGVPSRFSGSGSGTDFTFTISSLQPEDIATYYCQQDYTSPWTFGQGTKVEIK\n",
      "|||||||||||||||||||||||||||||||||||||||||||||||||||||||||||||||||||||||||||||||||||||||||||||||||||||||||||\n",
      "DIQMTQSPSSLSASVGDRVTITCKASQSVSNDVVWYQQKPGKAPKLLIYYASNRYTGVPSRFSGSGSGTDFTFTISSLQPEDIATYYCQQDYTSPWTFGQGTKVEIK\n",
      " ° °                   ^^^^^^^^^^^°°         °°°°^^^^^^^       ° ° °° °                 ^^^^^^^^^°         \n",
      "Solanezumab (parental -> vernier -> straight):\n",
      "DVVMTQTPLSLPVSLGDQASISCRSSQSLIYSDGNAYLHWFLQKPGQSPKLLIYKVSNRFSGVPDRFSGSGSGTDFTLKISRVETEDLGVYFCSQSTHVPWTFGGGTKLEIK\n",
      "||||||+||||||+||..|||||||||||||||||||||||.|+|||||+||||||||||||||||||||||||||||||||||.||+|||+||||||||||||.|||+|||\n",
      "DVVMTQSPLSLPVTLGQPASISCRSSQSLIYSDGNAYLHWFQQRPGQSPRLLIYKVSNRFSGVPDRFSGSGSGTDFTLKISRVEAEDVGVYYCSQSTHVPWTFGQGTKVEIK\n",
      "||||||||||||||||||||||||||||||||||||||||||||||||||.|||||||||||||||||||||||||||||||||||||||||||||||||||||||||||||\n",
      "DVVMTQSPLSLPVTLGQPASISCRSSQSLIYSDGNAYLHWFQQRPGQSPRRLIYKVSNRFSGVPDRFSGSGSGTDFTLKISRVEAEDVGVYYCSQSTHVPWTFGQGTKVEIK\n",
      " ° °                   ^^^^^^^^^^^^^^^^°°         °°°°^^^^^^^       ° ° °° °                 ^^^^^^^^^°         \n",
      "Talacotuzumab (parental -> vernier -> straight):\n",
      "DFVMTQSPSSLTVTAGEKVTMSCKSSQSLLNSGNQKNYLTWYLQKPGQPPKLLIYWASTRESGVPDRFTGSGSGTDFTLTISSVQAEDLAVYYCQNDYSYPYTFGGGTKLEIK\n",
      "||||||||.||.|+.||+.|++||||||||||||||||||||.|||||||||||||||||||||||||+||||||||||||||+||||+||||||||||||||||.|||||||\n",
      "DFVMTQSPDSLAVSLGERATINCKSSQSLLNSGNQKNYLTWYQQKPGQPPKLLIYWASTRESGVPDRFSGSGSGTDFTLTISSLQAEDVAVYYCQNDYSYPYTFGQGTKLEIK\n",
      "|.|||||||||||||||||||||||||||||||||||||||||||||||||||||||||||||||||||||||||||||||||||||||||||||||||||||||||||||||\n",
      "DIVMTQSPDSLAVSLGERATINCKSSQSLLNSGNQKNYLTWYQQKPGQPPKLLIYWASTRESGVPDRFSGSGSGTDFTLTISSLQAEDVAVYYCQNDYSYPYTFGQGTKLEIK\n",
      " ° °                   ^^^^^^^^^^^^^^^^^°°         °°°°^^^^^^^       ° ° °° °                 ^^^^^^^^^°         \n",
      "Tocilizumab (parental -> vernier -> straight):\n",
      "DIQMTQTTSSLSASLGDRVTISCRASQDISSYLNWYQQKPDGTIKLLIYYTSRLHSGVPSRFSGSGSGTDYSLTINNLEQEDIATYFCQQGNTLPYTFGGGTKLEIN\n",
      "||||||+.||||||+||||||+||||||||||||||||||....|||||||||||||||||||||||||||+|||++|+.||.|||+||||||||||||.||||||.\n",
      "DIQMTQSPSSLSASVGDRVTITCRASQDISSYLNWYQQKPGKAPKLLIYYTSRLHSGVPSRFSGSGSGTDYTLTISSLQPEDFATYYCQQGNTLPYTFGQGTKLEIK\n",
      "||||||||||||||||||||||||||||||||||||||||||||||||||||||||||||||||||||||+||||||||||||||||||||||||||||||||||||\n",
      "DIQMTQSPSSLSASVGDRVTITCRASQDISSYLNWYQQKPGKAPKLLIYYTSRLHSGVPSRFSGSGSGTDFTLTISSLQPEDFATYYCQQGNTLPYTFGQGTKLEIK\n",
      " ° °                   ^^^^^^^^^^^°°         °°°°^^^^^^^       ° ° °° °                 ^^^^^^^^^°         \n"
     ]
    }
   ],
   "source": [
    "for parental, straight, vernier in zip(parental_light, straight_light, vernier_light):\n",
    "    print(parental.name+' (parental -> vernier -> straight):')\n",
    "    print(parental.align(vernier, straight))"
   ]
  },
  {
   "cell_type": "markdown",
   "metadata": {},
   "source": [
    "## Save results"
   ]
  },
  {
   "cell_type": "code",
   "execution_count": 31,
   "metadata": {},
   "outputs": [],
   "source": [
    "def save_pairs(heavy_chains, light_chains, path):\n",
    "    assert len(heavy_chains) == len(light_chains)\n",
    "    with open(path, 'w') as f:\n",
    "        for heavy, light in zip(heavy_chains, light_chains):\n",
    "            Chain.to_fasta(heavy, f, description='VH')\n",
    "            Chain.to_fasta(light, f, description='VL')"
   ]
  },
  {
   "cell_type": "code",
   "execution_count": 32,
   "metadata": {},
   "outputs": [],
   "source": [
    "save_pairs(straight_heavy, straight_light, os.path.join(TASK_DIR, 'cdr_grafts/straight_grafts.fa'))"
   ]
  },
  {
   "cell_type": "code",
   "execution_count": 33,
   "metadata": {},
   "outputs": [],
   "source": [
    "save_pairs(vernier_heavy, vernier_light, os.path.join(TASK_DIR, 'cdr_grafts/vernier_grafts.fa'))"
   ]
  },
  {
   "cell_type": "code",
   "execution_count": 34,
   "metadata": {},
   "outputs": [
    {
     "name": "stdout",
     "output_type": "stream",
     "text": [
      "source $(conda info --base)/bin/activate biophi && biophi oasis \\\n",
      "        data/tasks/humab_25_pairs/cdr_grafts/straight_grafts.fa \\\n",
      "        --output data/tasks/humab_25_pairs/cdr_grafts/straight_grafts_oasis.xlsx \\\n",
      "        --oas-db sqlite:////Users/prihodad/Documents/bioinformatics/projects/biophi/work/oas_human_subject_9mers_2019_11.db \\\n",
      "        --proteome-db sqlite:////Users/prihodad/Documents/bioinformatics/projects/biophi/work/uniprot_human_proteome_9mers.db\n",
      "source $(conda info --base)/bin/activate biophi && biophi oasis \\\n",
      "        data/tasks/humab_25_pairs/cdr_grafts/vernier_grafts.fa \\\n",
      "        --output data/tasks/humab_25_pairs/cdr_grafts/vernier_grafts_oasis.xlsx \\\n",
      "        --oas-db sqlite:////Users/prihodad/Documents/bioinformatics/projects/biophi/work/oas_human_subject_9mers_2019_11.db \\\n",
      "        --proteome-db sqlite:////Users/prihodad/Documents/bioinformatics/projects/biophi/work/uniprot_human_proteome_9mers.db\n"
     ]
    },
    {
     "name": "stderr",
     "output_type": "stream",
     "text": [
      "      __     ____  _       ____  _     _      ___    _   ____  _\n",
      "  /| /  \\   | __ )(_) ___ |  _ \\| |__ (_)    / _ \\  / \\ / ___|(_)___\n",
      " ( || [] )  |  _ \\| |/ _ \\| |_) | '_ \\| |   | | | |/ _ \\\\___ \\| / __|\n",
      "  \\_   _/   | |_) | | (_) |  __/| | | | |   | |_| / ___ \\___| | \\__ \\\n",
      "    | |     |____/|_|\\___/|_|   |_| |_|_|    \\___/_/   \\_\\___/|_|___/\n",
      "    |_|                       version 1.0                  version 1.0\n",
      "────────────────────────────────────────────────────────────────────────\n",
      "\n",
      "Settings:\n",
      "- OAS database: sqlite:////Users/prihodad/Documents/bioinformatics/projects/biophi/work/oas_human_subject_9mers_2019_11.db\n",
      "- Proteome database: sqlite:////Users/prihodad/Documents/bioinformatics/projects/biophi/work/uniprot_human_proteome_9mers.db\n",
      "\n",
      "Loading chains: data/tasks/humab_25_pairs/cdr_grafts/straight_grafts.fa\n",
      "Running OASis on 25 antibodies...\n",
      "100%|██████████| 25/25 [00:53<00:00,  2.13s/it]\n",
      "Saved XLSX report to: data/tasks/humab_25_pairs/cdr_grafts/straight_grafts_oasis.xlsx\n",
      "      __     ____  _       ____  _     _      ___    _   ____  _\n",
      "  /| /  \\   | __ )(_) ___ |  _ \\| |__ (_)    / _ \\  / \\ / ___|(_)___\n",
      " ( || [] )  |  _ \\| |/ _ \\| |_) | '_ \\| |   | | | |/ _ \\\\___ \\| / __|\n",
      "  \\_   _/   | |_) | | (_) |  __/| | | | |   | |_| / ___ \\___| | \\__ \\\n",
      "    | |     |____/|_|\\___/|_|   |_| |_|_|    \\___/_/   \\_\\___/|_|___/\n",
      "    |_|                       version 1.0                  version 1.0\n",
      "────────────────────────────────────────────────────────────────────────\n",
      "\n",
      "Settings:\n",
      "- OAS database: sqlite:////Users/prihodad/Documents/bioinformatics/projects/biophi/work/oas_human_subject_9mers_2019_11.db\n",
      "- Proteome database: sqlite:////Users/prihodad/Documents/bioinformatics/projects/biophi/work/uniprot_human_proteome_9mers.db\n",
      "\n",
      "Loading chains: data/tasks/humab_25_pairs/cdr_grafts/vernier_grafts.fa\n",
      "Running OASis on 25 antibodies...\n",
      "100%|██████████| 25/25 [00:49<00:00,  1.98s/it]\n",
      "Saved XLSX report to: data/tasks/humab_25_pairs/cdr_grafts/vernier_grafts_oasis.xlsx\n"
     ]
    }
   ],
   "source": [
    "%%bash\n",
    "\n",
    "cd ../../\n",
    "make data/tasks/humab_25_pairs/cdr_grafts/straight_grafts_oasis.xlsx \n",
    "make data/tasks/humab_25_pairs/cdr_grafts/vernier_grafts_oasis.xlsx"
   ]
  },
  {
   "cell_type": "code",
   "execution_count": 35,
   "metadata": {},
   "outputs": [
    {
     "name": "stdout",
     "output_type": "stream",
     "text": [
      "bin/humanness_t20_score.py data/tasks/humab_25_pairs/cdr_grafts/straight_grafts.fa data/tasks/humab_25_pairs/cdr_grafts/straight_grafts_T20.tsv\n",
      "Note: The sequences will be processed through lakepharma T20 service! Sleeping for 10s, press Ctrl+C to cancel...\n",
      "Processing...\n",
      "Saved to: data/tasks/humab_25_pairs/cdr_grafts/straight_grafts_T20.tsv\n",
      "bin/humanness_t20_score.py data/tasks/humab_25_pairs/cdr_grafts/vernier_grafts.fa data/tasks/humab_25_pairs/cdr_grafts/vernier_grafts_T20.tsv\n",
      "Note: The sequences will be processed through lakepharma T20 service! Sleeping for 10s, press Ctrl+C to cancel...\n",
      "Processing...\n",
      "Saved to: data/tasks/humab_25_pairs/cdr_grafts/vernier_grafts_T20.tsv\n"
     ]
    },
    {
     "name": "stderr",
     "output_type": "stream",
     "text": [
      "50it [02:22,  2.84s/it]\n",
      "50it [02:24,  2.89s/it]\n"
     ]
    }
   ],
   "source": [
    "%%bash\n",
    "\n",
    "cd ../../\n",
    "make data/tasks/humab_25_pairs/cdr_grafts/straight_grafts_T20.tsv\n",
    "make data/tasks/humab_25_pairs/cdr_grafts/vernier_grafts_T20.tsv"
   ]
  },
  {
   "cell_type": "markdown",
   "metadata": {},
   "source": [
    "# Custom germlines"
   ]
  },
  {
   "cell_type": "code",
   "execution_count": 38,
   "metadata": {},
   "outputs": [
    {
     "data": {
      "text/plain": [
       "(IGHV3, IGKV1)    127\n",
       "(IGHV1, IGKV1)    101\n",
       "(IGHV3, IGKV3)     54\n",
       "(IGHV1, IGKV3)     40\n",
       "(IGHV4, IGKV1)     28\n",
       "(IGHV3, IGKV2)     26\n",
       "(IGHV1, IGKV4)     24\n",
       "(IGHV1, IGKV2)     23\n",
       "(IGHV4, IGKV3)     20\n",
       "(IGHV3, IGLV1)     20\n",
       "(IGHV3, IGLV3)     10\n",
       "(IGHV7, IGKV1)      9\n",
       "(IGHV2, IGKV1)      8\n",
       "(IGHV3, IGKV4)      8\n",
       "(IGHV1, IGLV1)      7\n",
       "dtype: int64"
      ]
     },
     "execution_count": 38,
     "metadata": {},
     "output_type": "execute_result"
    }
   ],
   "source": [
    "#pairs = pd.read_csv('../../work/TheraSAbDab_Germlines_Included.csv')\n",
    "#pairs = pairs[['Heavy Germlines','Light Germlines']].apply(lambda col: col.apply(lambda v: v.split('D-')[0].split('-')[0].split('/')[0]))\n",
    "#pairs.apply(tuple, axis=1).value_counts()[:15]"
   ]
  },
  {
   "cell_type": "code",
   "execution_count": 28,
   "metadata": {},
   "outputs": [
    {
     "data": {
      "text/plain": [
       "Index([('IGHV3', 'IGKV1'), ('IGHV1', 'IGKV1'), ('IGHV3', 'IGKV3'),\n",
       "       ('IGHV1', 'IGKV3'), ('IGHV4', 'IGKV1'), ('IGHV3', 'IGKV2'),\n",
       "       ('IGHV1', 'IGKV4'), ('IGHV1', 'IGKV2'), ('IGHV4', 'IGKV3'),\n",
       "       ('IGHV3', 'IGLV1')],\n",
       "      dtype='object')"
      ]
     },
     "execution_count": 28,
     "metadata": {},
     "output_type": "execute_result"
    }
   ],
   "source": [
    "#pairs.apply(tuple, axis=1).value_counts()[:10].index"
   ]
  },
  {
   "cell_type": "code",
   "execution_count": 39,
   "metadata": {},
   "outputs": [
    {
     "data": {
      "text/plain": [
       "0.7635135135135135"
      ]
     },
     "execution_count": 39,
     "metadata": {},
     "output_type": "execute_result"
    }
   ],
   "source": [
    "#(pairs.apply(tuple, axis=1).value_counts()[:10].sum()-11) / len(pairs)"
   ]
  },
  {
   "cell_type": "code",
   "execution_count": 14,
   "metadata": {},
   "outputs": [],
   "source": [
    "c = vernier_heavy[0]"
   ]
  },
  {
   "cell_type": "code",
   "execution_count": 11,
   "metadata": {},
   "outputs": [],
   "source": [
    "VH_GERMLINES = ['IGHV1','IGHV2','IGHV3','IGHV4','IGHV5','IGHV6','IGHV7']"
   ]
  },
  {
   "cell_type": "code",
   "execution_count": 12,
   "metadata": {},
   "outputs": [],
   "source": [
    "VK_GERMLINES = ['IGKV1','IGKV2','IGKV3','IGKV4','IGKV5','IGKV6','IGKV7']"
   ]
  },
  {
   "cell_type": "code",
   "execution_count": 13,
   "metadata": {},
   "outputs": [],
   "source": [
    "VL_GERMLINES = ['IGLV1','IGLV2','IGLV3','IGLV4','IGLV5','IGLV6','IGLV7']"
   ]
  },
  {
   "cell_type": "code",
   "execution_count": 40,
   "metadata": {},
   "outputs": [],
   "source": [
    "GENE_PAIRS = [\n",
    "    ('IGHV3', 'IGKV1'), \n",
    "    ('IGHV1', 'IGKV1'), \n",
    "    ('IGHV3', 'IGKV3'),\n",
    "    ('IGHV1', 'IGKV3'), \n",
    "    ('IGHV4', 'IGKV1'), \n",
    "    ('IGHV3', 'IGKV2'),\n",
    "    ('IGHV1', 'IGKV4'), \n",
    "    ('IGHV1', 'IGKV2'), \n",
    "    ('IGHV4', 'IGKV3'),\n",
    "    ('IGHV7', 'IGKV1')\n",
    "]"
   ]
  },
  {
   "cell_type": "code",
   "execution_count": 41,
   "metadata": {},
   "outputs": [],
   "source": [
    "for heavy_gene, light_gene in GENE_PAIRS:\n",
    "    custom_vernier_heavy = [c.graft_cdrs_onto_human_germline(v_gene=heavy_gene, backmutate_vernier=True) for c in parental_heavy]\n",
    "    custom_vernier_light = [c.graft_cdrs_onto_human_germline(v_gene=light_gene, backmutate_vernier=True) for c in parental_light]\n",
    "    save_pairs(\n",
    "        custom_vernier_heavy, \n",
    "        custom_vernier_light, \n",
    "        os.path.join(TASK_DIR, f'cdr_grafts/custom/{heavy_gene}_{light_gene}_vernier_grafts.fa')\n",
    "    )"
   ]
  },
  {
   "cell_type": "code",
   "execution_count": 43,
   "metadata": {},
   "outputs": [
    {
     "name": "stdout",
     "output_type": "stream",
     "text": [
      "source $(conda info --base)/bin/activate biophi && biophi oasis \\\n",
      "        data/tasks/humab_25_pairs/cdr_grafts/custom/IGHV1_IGKV1_vernier_grafts.fa \\\n",
      "        --output data/tasks/humab_25_pairs/cdr_grafts/custom/IGHV1_IGKV1_vernier_grafts_oasis.xlsx \\\n",
      "        --oas-db sqlite:////Users/prihodad/Documents/bioinformatics/projects/biophi/work/oas_human_subject_9mers_2019_11.db \\\n",
      "        --proteome-db sqlite:////Users/prihodad/Documents/bioinformatics/projects/biophi/work/uniprot_human_proteome_9mers.db\n",
      "source $(conda info --base)/bin/activate biophi && biophi oasis \\\n",
      "        data/tasks/humab_25_pairs/cdr_grafts/custom/IGHV1_IGKV2_vernier_grafts.fa \\\n",
      "        --output data/tasks/humab_25_pairs/cdr_grafts/custom/IGHV1_IGKV2_vernier_grafts_oasis.xlsx \\\n",
      "        --oas-db sqlite:////Users/prihodad/Documents/bioinformatics/projects/biophi/work/oas_human_subject_9mers_2019_11.db \\\n",
      "        --proteome-db sqlite:////Users/prihodad/Documents/bioinformatics/projects/biophi/work/uniprot_human_proteome_9mers.db\n",
      "source $(conda info --base)/bin/activate biophi && biophi oasis \\\n",
      "        data/tasks/humab_25_pairs/cdr_grafts/custom/IGHV1_IGKV3_vernier_grafts.fa \\\n",
      "        --output data/tasks/humab_25_pairs/cdr_grafts/custom/IGHV1_IGKV3_vernier_grafts_oasis.xlsx \\\n",
      "        --oas-db sqlite:////Users/prihodad/Documents/bioinformatics/projects/biophi/work/oas_human_subject_9mers_2019_11.db \\\n",
      "        --proteome-db sqlite:////Users/prihodad/Documents/bioinformatics/projects/biophi/work/uniprot_human_proteome_9mers.db\n",
      "source $(conda info --base)/bin/activate biophi && biophi oasis \\\n",
      "        data/tasks/humab_25_pairs/cdr_grafts/custom/IGHV1_IGKV4_vernier_grafts.fa \\\n",
      "        --output data/tasks/humab_25_pairs/cdr_grafts/custom/IGHV1_IGKV4_vernier_grafts_oasis.xlsx \\\n",
      "        --oas-db sqlite:////Users/prihodad/Documents/bioinformatics/projects/biophi/work/oas_human_subject_9mers_2019_11.db \\\n",
      "        --proteome-db sqlite:////Users/prihodad/Documents/bioinformatics/projects/biophi/work/uniprot_human_proteome_9mers.db\n",
      "source $(conda info --base)/bin/activate biophi && biophi oasis \\\n",
      "        data/tasks/humab_25_pairs/cdr_grafts/custom/IGHV3_IGKV1_vernier_grafts.fa \\\n",
      "        --output data/tasks/humab_25_pairs/cdr_grafts/custom/IGHV3_IGKV1_vernier_grafts_oasis.xlsx \\\n",
      "        --oas-db sqlite:////Users/prihodad/Documents/bioinformatics/projects/biophi/work/oas_human_subject_9mers_2019_11.db \\\n",
      "        --proteome-db sqlite:////Users/prihodad/Documents/bioinformatics/projects/biophi/work/uniprot_human_proteome_9mers.db\n",
      "source $(conda info --base)/bin/activate biophi && biophi oasis \\\n",
      "        data/tasks/humab_25_pairs/cdr_grafts/custom/IGHV3_IGKV2_vernier_grafts.fa \\\n",
      "        --output data/tasks/humab_25_pairs/cdr_grafts/custom/IGHV3_IGKV2_vernier_grafts_oasis.xlsx \\\n",
      "        --oas-db sqlite:////Users/prihodad/Documents/bioinformatics/projects/biophi/work/oas_human_subject_9mers_2019_11.db \\\n",
      "        --proteome-db sqlite:////Users/prihodad/Documents/bioinformatics/projects/biophi/work/uniprot_human_proteome_9mers.db\n",
      "source $(conda info --base)/bin/activate biophi && biophi oasis \\\n",
      "        data/tasks/humab_25_pairs/cdr_grafts/custom/IGHV3_IGKV3_vernier_grafts.fa \\\n",
      "        --output data/tasks/humab_25_pairs/cdr_grafts/custom/IGHV3_IGKV3_vernier_grafts_oasis.xlsx \\\n",
      "        --oas-db sqlite:////Users/prihodad/Documents/bioinformatics/projects/biophi/work/oas_human_subject_9mers_2019_11.db \\\n",
      "        --proteome-db sqlite:////Users/prihodad/Documents/bioinformatics/projects/biophi/work/uniprot_human_proteome_9mers.db\n",
      "source $(conda info --base)/bin/activate biophi && biophi oasis \\\n",
      "        data/tasks/humab_25_pairs/cdr_grafts/custom/IGHV4_IGKV1_vernier_grafts.fa \\\n",
      "        --output data/tasks/humab_25_pairs/cdr_grafts/custom/IGHV4_IGKV1_vernier_grafts_oasis.xlsx \\\n",
      "        --oas-db sqlite:////Users/prihodad/Documents/bioinformatics/projects/biophi/work/oas_human_subject_9mers_2019_11.db \\\n",
      "        --proteome-db sqlite:////Users/prihodad/Documents/bioinformatics/projects/biophi/work/uniprot_human_proteome_9mers.db\n",
      "source $(conda info --base)/bin/activate biophi && biophi oasis \\\n",
      "        data/tasks/humab_25_pairs/cdr_grafts/custom/IGHV4_IGKV3_vernier_grafts.fa \\\n",
      "        --output data/tasks/humab_25_pairs/cdr_grafts/custom/IGHV4_IGKV3_vernier_grafts_oasis.xlsx \\\n",
      "        --oas-db sqlite:////Users/prihodad/Documents/bioinformatics/projects/biophi/work/oas_human_subject_9mers_2019_11.db \\\n",
      "        --proteome-db sqlite:////Users/prihodad/Documents/bioinformatics/projects/biophi/work/uniprot_human_proteome_9mers.db\n",
      "source $(conda info --base)/bin/activate biophi && biophi oasis \\\n",
      "        data/tasks/humab_25_pairs/cdr_grafts/custom/IGHV7_IGKV1_vernier_grafts.fa \\\n",
      "        --output data/tasks/humab_25_pairs/cdr_grafts/custom/IGHV7_IGKV1_vernier_grafts_oasis.xlsx \\\n",
      "        --oas-db sqlite:////Users/prihodad/Documents/bioinformatics/projects/biophi/work/oas_human_subject_9mers_2019_11.db \\\n",
      "        --proteome-db sqlite:////Users/prihodad/Documents/bioinformatics/projects/biophi/work/uniprot_human_proteome_9mers.db\n"
     ]
    },
    {
     "name": "stderr",
     "output_type": "stream",
     "text": [
      "      __     ____  _       ____  _     _      ___    _   ____  _\n",
      "  /| /  \\   | __ )(_) ___ |  _ \\| |__ (_)    / _ \\  / \\ / ___|(_)___\n",
      " ( || [] )  |  _ \\| |/ _ \\| |_) | '_ \\| |   | | | |/ _ \\\\___ \\| / __|\n",
      "  \\_   _/   | |_) | | (_) |  __/| | | | |   | |_| / ___ \\___| | \\__ \\\n",
      "    | |     |____/|_|\\___/|_|   |_| |_|_|    \\___/_/   \\_\\___/|_|___/\n",
      "    |_|                       version 1.0                  version 1.0\n",
      "────────────────────────────────────────────────────────────────────────\n",
      "\n",
      "Settings:\n",
      "- OAS database: sqlite:////Users/prihodad/Documents/bioinformatics/projects/biophi/work/oas_human_subject_9mers_2019_11.db\n",
      "- Proteome database: sqlite:////Users/prihodad/Documents/bioinformatics/projects/biophi/work/uniprot_human_proteome_9mers.db\n",
      "\n",
      "Loading chains: data/tasks/humab_25_pairs/cdr_grafts/custom/IGHV1_IGKV1_vernier_grafts.fa\n",
      "Running OASis on 25 antibodies...\n",
      "100%|██████████| 25/25 [00:21<00:00,  1.17it/s]\n",
      "Saved XLSX report to: data/tasks/humab_25_pairs/cdr_grafts/custom/IGHV1_IGKV1_vernier_grafts_oasis.xlsx\n",
      "      __     ____  _       ____  _     _      ___    _   ____  _\n",
      "  /| /  \\   | __ )(_) ___ |  _ \\| |__ (_)    / _ \\  / \\ / ___|(_)___\n",
      " ( || [] )  |  _ \\| |/ _ \\| |_) | '_ \\| |   | | | |/ _ \\\\___ \\| / __|\n",
      "  \\_   _/   | |_) | | (_) |  __/| | | | |   | |_| / ___ \\___| | \\__ \\\n",
      "    | |     |____/|_|\\___/|_|   |_| |_|_|    \\___/_/   \\_\\___/|_|___/\n",
      "    |_|                       version 1.0                  version 1.0\n",
      "────────────────────────────────────────────────────────────────────────\n",
      "\n",
      "Settings:\n",
      "- OAS database: sqlite:////Users/prihodad/Documents/bioinformatics/projects/biophi/work/oas_human_subject_9mers_2019_11.db\n",
      "- Proteome database: sqlite:////Users/prihodad/Documents/bioinformatics/projects/biophi/work/uniprot_human_proteome_9mers.db\n",
      "\n",
      "Loading chains: data/tasks/humab_25_pairs/cdr_grafts/custom/IGHV1_IGKV2_vernier_grafts.fa\n",
      "Running OASis on 25 antibodies...\n",
      "100%|██████████| 25/25 [00:47<00:00,  1.89s/it]\n",
      "Saved XLSX report to: data/tasks/humab_25_pairs/cdr_grafts/custom/IGHV1_IGKV2_vernier_grafts_oasis.xlsx\n",
      "      __     ____  _       ____  _     _      ___    _   ____  _\n",
      "  /| /  \\   | __ )(_) ___ |  _ \\| |__ (_)    / _ \\  / \\ / ___|(_)___\n",
      " ( || [] )  |  _ \\| |/ _ \\| |_) | '_ \\| |   | | | |/ _ \\\\___ \\| / __|\n",
      "  \\_   _/   | |_) | | (_) |  __/| | | | |   | |_| / ___ \\___| | \\__ \\\n",
      "    | |     |____/|_|\\___/|_|   |_| |_|_|    \\___/_/   \\_\\___/|_|___/\n",
      "    |_|                       version 1.0                  version 1.0\n",
      "────────────────────────────────────────────────────────────────────────\n",
      "\n",
      "Settings:\n",
      "- OAS database: sqlite:////Users/prihodad/Documents/bioinformatics/projects/biophi/work/oas_human_subject_9mers_2019_11.db\n",
      "- Proteome database: sqlite:////Users/prihodad/Documents/bioinformatics/projects/biophi/work/uniprot_human_proteome_9mers.db\n",
      "\n",
      "Loading chains: data/tasks/humab_25_pairs/cdr_grafts/custom/IGHV1_IGKV3_vernier_grafts.fa\n",
      "Running OASis on 25 antibodies...\n",
      "100%|██████████| 25/25 [00:39<00:00,  1.57s/it]\n",
      "Saved XLSX report to: data/tasks/humab_25_pairs/cdr_grafts/custom/IGHV1_IGKV3_vernier_grafts_oasis.xlsx\n",
      "      __     ____  _       ____  _     _      ___    _   ____  _\n",
      "  /| /  \\   | __ )(_) ___ |  _ \\| |__ (_)    / _ \\  / \\ / ___|(_)___\n",
      " ( || [] )  |  _ \\| |/ _ \\| |_) | '_ \\| |   | | | |/ _ \\\\___ \\| / __|\n",
      "  \\_   _/   | |_) | | (_) |  __/| | | | |   | |_| / ___ \\___| | \\__ \\\n",
      "    | |     |____/|_|\\___/|_|   |_| |_|_|    \\___/_/   \\_\\___/|_|___/\n",
      "    |_|                       version 1.0                  version 1.0\n",
      "────────────────────────────────────────────────────────────────────────\n",
      "\n",
      "Settings:\n",
      "- OAS database: sqlite:////Users/prihodad/Documents/bioinformatics/projects/biophi/work/oas_human_subject_9mers_2019_11.db\n",
      "- Proteome database: sqlite:////Users/prihodad/Documents/bioinformatics/projects/biophi/work/uniprot_human_proteome_9mers.db\n",
      "\n",
      "Loading chains: data/tasks/humab_25_pairs/cdr_grafts/custom/IGHV1_IGKV4_vernier_grafts.fa\n",
      "Running OASis on 25 antibodies...\n",
      "100%|██████████| 25/25 [00:27<00:00,  1.11s/it]\n",
      "Saved XLSX report to: data/tasks/humab_25_pairs/cdr_grafts/custom/IGHV1_IGKV4_vernier_grafts_oasis.xlsx\n",
      "      __     ____  _       ____  _     _      ___    _   ____  _\n",
      "  /| /  \\   | __ )(_) ___ |  _ \\| |__ (_)    / _ \\  / \\ / ___|(_)___\n",
      " ( || [] )  |  _ \\| |/ _ \\| |_) | '_ \\| |   | | | |/ _ \\\\___ \\| / __|\n",
      "  \\_   _/   | |_) | | (_) |  __/| | | | |   | |_| / ___ \\___| | \\__ \\\n",
      "    | |     |____/|_|\\___/|_|   |_| |_|_|    \\___/_/   \\_\\___/|_|___/\n",
      "    |_|                       version 1.0                  version 1.0\n",
      "────────────────────────────────────────────────────────────────────────\n",
      "\n",
      "Settings:\n",
      "- OAS database: sqlite:////Users/prihodad/Documents/bioinformatics/projects/biophi/work/oas_human_subject_9mers_2019_11.db\n",
      "- Proteome database: sqlite:////Users/prihodad/Documents/bioinformatics/projects/biophi/work/uniprot_human_proteome_9mers.db\n",
      "\n",
      "Loading chains: data/tasks/humab_25_pairs/cdr_grafts/custom/IGHV3_IGKV1_vernier_grafts.fa\n",
      "Running OASis on 25 antibodies...\n",
      "100%|██████████| 25/25 [00:30<00:00,  1.22s/it]\n",
      "Saved XLSX report to: data/tasks/humab_25_pairs/cdr_grafts/custom/IGHV3_IGKV1_vernier_grafts_oasis.xlsx\n",
      "      __     ____  _       ____  _     _      ___    _   ____  _\n",
      "  /| /  \\   | __ )(_) ___ |  _ \\| |__ (_)    / _ \\  / \\ / ___|(_)___\n",
      " ( || [] )  |  _ \\| |/ _ \\| |_) | '_ \\| |   | | | |/ _ \\\\___ \\| / __|\n",
      "  \\_   _/   | |_) | | (_) |  __/| | | | |   | |_| / ___ \\___| | \\__ \\\n",
      "    | |     |____/|_|\\___/|_|   |_| |_|_|    \\___/_/   \\_\\___/|_|___/\n",
      "    |_|                       version 1.0                  version 1.0\n",
      "────────────────────────────────────────────────────────────────────────\n",
      "\n",
      "Settings:\n",
      "- OAS database: sqlite:////Users/prihodad/Documents/bioinformatics/projects/biophi/work/oas_human_subject_9mers_2019_11.db\n",
      "- Proteome database: sqlite:////Users/prihodad/Documents/bioinformatics/projects/biophi/work/uniprot_human_proteome_9mers.db\n",
      "\n",
      "Loading chains: data/tasks/humab_25_pairs/cdr_grafts/custom/IGHV3_IGKV2_vernier_grafts.fa\n",
      "Running OASis on 25 antibodies...\n",
      "100%|██████████| 25/25 [00:52<00:00,  2.12s/it]\n",
      "Saved XLSX report to: data/tasks/humab_25_pairs/cdr_grafts/custom/IGHV3_IGKV2_vernier_grafts_oasis.xlsx\n",
      "      __     ____  _       ____  _     _      ___    _   ____  _\n",
      "  /| /  \\   | __ )(_) ___ |  _ \\| |__ (_)    / _ \\  / \\ / ___|(_)___\n",
      " ( || [] )  |  _ \\| |/ _ \\| |_) | '_ \\| |   | | | |/ _ \\\\___ \\| / __|\n",
      "  \\_   _/   | |_) | | (_) |  __/| | | | |   | |_| / ___ \\___| | \\__ \\\n",
      "    | |     |____/|_|\\___/|_|   |_| |_|_|    \\___/_/   \\_\\___/|_|___/\n",
      "    |_|                       version 1.0                  version 1.0\n",
      "────────────────────────────────────────────────────────────────────────\n",
      "\n",
      "Settings:\n",
      "- OAS database: sqlite:////Users/prihodad/Documents/bioinformatics/projects/biophi/work/oas_human_subject_9mers_2019_11.db\n",
      "- Proteome database: sqlite:////Users/prihodad/Documents/bioinformatics/projects/biophi/work/uniprot_human_proteome_9mers.db\n",
      "\n",
      "Loading chains: data/tasks/humab_25_pairs/cdr_grafts/custom/IGHV3_IGKV3_vernier_grafts.fa\n",
      "Running OASis on 25 antibodies...\n",
      "100%|██████████| 25/25 [00:41<00:00,  1.66s/it]\n",
      "Saved XLSX report to: data/tasks/humab_25_pairs/cdr_grafts/custom/IGHV3_IGKV3_vernier_grafts_oasis.xlsx\n",
      "      __     ____  _       ____  _     _      ___    _   ____  _\n",
      "  /| /  \\   | __ )(_) ___ |  _ \\| |__ (_)    / _ \\  / \\ / ___|(_)___\n",
      " ( || [] )  |  _ \\| |/ _ \\| |_) | '_ \\| |   | | | |/ _ \\\\___ \\| / __|\n",
      "  \\_   _/   | |_) | | (_) |  __/| | | | |   | |_| / ___ \\___| | \\__ \\\n",
      "    | |     |____/|_|\\___/|_|   |_| |_|_|    \\___/_/   \\_\\___/|_|___/\n",
      "    |_|                       version 1.0                  version 1.0\n",
      "────────────────────────────────────────────────────────────────────────\n",
      "\n",
      "Settings:\n",
      "- OAS database: sqlite:////Users/prihodad/Documents/bioinformatics/projects/biophi/work/oas_human_subject_9mers_2019_11.db\n",
      "- Proteome database: sqlite:////Users/prihodad/Documents/bioinformatics/projects/biophi/work/uniprot_human_proteome_9mers.db\n",
      "\n",
      "Loading chains: data/tasks/humab_25_pairs/cdr_grafts/custom/IGHV4_IGKV1_vernier_grafts.fa\n",
      "Running OASis on 25 antibodies...\n",
      "100%|██████████| 25/25 [00:37<00:00,  1.50s/it]\n",
      "Saved XLSX report to: data/tasks/humab_25_pairs/cdr_grafts/custom/IGHV4_IGKV1_vernier_grafts_oasis.xlsx\n",
      "      __     ____  _       ____  _     _      ___    _   ____  _\n",
      "  /| /  \\   | __ )(_) ___ |  _ \\| |__ (_)    / _ \\  / \\ / ___|(_)___\n",
      " ( || [] )  |  _ \\| |/ _ \\| |_) | '_ \\| |   | | | |/ _ \\\\___ \\| / __|\n",
      "  \\_   _/   | |_) | | (_) |  __/| | | | |   | |_| / ___ \\___| | \\__ \\\n",
      "    | |     |____/|_|\\___/|_|   |_| |_|_|    \\___/_/   \\_\\___/|_|___/\n",
      "    |_|                       version 1.0                  version 1.0\n",
      "────────────────────────────────────────────────────────────────────────\n",
      "\n",
      "Settings:\n",
      "- OAS database: sqlite:////Users/prihodad/Documents/bioinformatics/projects/biophi/work/oas_human_subject_9mers_2019_11.db\n",
      "- Proteome database: sqlite:////Users/prihodad/Documents/bioinformatics/projects/biophi/work/uniprot_human_proteome_9mers.db\n",
      "\n",
      "Loading chains: data/tasks/humab_25_pairs/cdr_grafts/custom/IGHV4_IGKV3_vernier_grafts.fa\n",
      "Running OASis on 25 antibodies...\n",
      "100%|██████████| 25/25 [00:36<00:00,  1.48s/it]\n",
      "Saved XLSX report to: data/tasks/humab_25_pairs/cdr_grafts/custom/IGHV4_IGKV3_vernier_grafts_oasis.xlsx\n",
      "      __     ____  _       ____  _     _      ___    _   ____  _\n",
      "  /| /  \\   | __ )(_) ___ |  _ \\| |__ (_)    / _ \\  / \\ / ___|(_)___\n",
      " ( || [] )  |  _ \\| |/ _ \\| |_) | '_ \\| |   | | | |/ _ \\\\___ \\| / __|\n",
      "  \\_   _/   | |_) | | (_) |  __/| | | | |   | |_| / ___ \\___| | \\__ \\\n",
      "    | |     |____/|_|\\___/|_|   |_| |_|_|    \\___/_/   \\_\\___/|_|___/\n",
      "    |_|                       version 1.0                  version 1.0\n",
      "────────────────────────────────────────────────────────────────────────\n",
      "\n",
      "Settings:\n",
      "- OAS database: sqlite:////Users/prihodad/Documents/bioinformatics/projects/biophi/work/oas_human_subject_9mers_2019_11.db\n",
      "- Proteome database: sqlite:////Users/prihodad/Documents/bioinformatics/projects/biophi/work/uniprot_human_proteome_9mers.db\n",
      "\n",
      "Loading chains: data/tasks/humab_25_pairs/cdr_grafts/custom/IGHV7_IGKV1_vernier_grafts.fa\n",
      "Running OASis on 25 antibodies...\n",
      "100%|██████████| 25/25 [00:48<00:00,  1.95s/it]\n",
      "Saved XLSX report to: data/tasks/humab_25_pairs/cdr_grafts/custom/IGHV7_IGKV1_vernier_grafts_oasis.xlsx\n"
     ]
    }
   ],
   "source": [
    "%%bash\n",
    "\n",
    "cd ../../\n",
    "\n",
    "for file in data/tasks/humab_25_pairs/cdr_grafts/custom/*.fa; do\n",
    "    make ${file/.fa/_oasis.xlsx}\n",
    "done"
   ]
  },
  {
   "cell_type": "code",
   "execution_count": null,
   "metadata": {},
   "outputs": [],
   "source": []
  }
 ],
 "metadata": {
  "kernelspec": {
   "display_name": "Python 3",
   "language": "python",
   "name": "python3"
  },
  "language_info": {
   "codemirror_mode": {
    "name": "ipython",
    "version": 3
   },
   "file_extension": ".py",
   "mimetype": "text/x-python",
   "name": "python",
   "nbconvert_exporter": "python",
   "pygments_lexer": "ipython3",
   "version": "3.8.6"
  }
 },
 "nbformat": 4,
 "nbformat_minor": 4
}
