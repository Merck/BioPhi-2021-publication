{
 "cells": [
  {
   "cell_type": "code",
   "execution_count": 1,
   "metadata": {},
   "outputs": [],
   "source": [
    "import pandas as pd\n",
    "import numpy as np\n",
    "import os\n",
    "from abnumber import Chain\n",
    "from Bio import SeqIO\n",
    "import requests\n",
    "from io import StringIO\n",
    "import time\n",
    "from tqdm import tqdm\n",
    "import seaborn as sns\n",
    "from bin.utils import iterate_fasta\n",
    "import re\n",
    "import time\n",
    "\n",
    "%config InlineBackend.figure_format = 'retina'"
   ]
  },
  {
   "cell_type": "code",
   "execution_count": 2,
   "metadata": {},
   "outputs": [],
   "source": [
    "SCHEME = 'kabat'\n",
    "TASK_DIR = '../../data/tasks/therapeutic_rediscovery'"
   ]
  },
  {
   "cell_type": "code",
   "execution_count": 3,
   "metadata": {},
   "outputs": [],
   "source": [
    "def read_chains(oasis_path):\n",
    "    vh_table = pd.read_excel(oasis_path, sheet_name='VH', index_col=0)\n",
    "    vl_table = pd.read_excel(oasis_path, sheet_name='VL', index_col=0)\n",
    "    scheme = vh_table['scheme'].iloc[0]\n",
    "    assert scheme == SCHEME, f'Expected OASis in {SCHEME}, got {scheme} in: {oasis_path}'\n",
    "    vh_chains = Chain.from_dataframe(vh_table, scheme=SCHEME, as_series=True)    \n",
    "    vl_chains = Chain.from_dataframe(vl_table, scheme=SCHEME, as_series=True)\n",
    "    return vh_chains, vl_chains"
   ]
  },
  {
   "cell_type": "code",
   "execution_count": 4,
   "metadata": {},
   "outputs": [],
   "source": [
    "experimental_heavy, experimental_light = read_chains(os.path.join(TASK_DIR, f'thera/humanized_oasis.xlsx'))"
   ]
  },
  {
   "cell_type": "code",
   "execution_count": 6,
   "metadata": {},
   "outputs": [
    {
     "data": {
      "text/plain": [
       "Abituzumab      HV1\n",
       "Afutuzumab      HV1\n",
       "Alacizumab      HV3\n",
       "Alemtuzumab     HV4\n",
       "Anrukinzumab    HV3\n",
       "dtype: object"
      ]
     },
     "execution_count": 6,
     "metadata": {},
     "output_type": "execute_result"
    }
   ],
   "source": [
    "genes_heavy = experimental_heavy.apply(lambda chain: chain.find_human_germlines(1)[0][0].name.split('-')[0].split('/')[0].replace('IG',''))\n",
    "genes_heavy.head()"
   ]
  },
  {
   "cell_type": "code",
   "execution_count": 7,
   "metadata": {},
   "outputs": [
    {
     "data": {
      "text/plain": [
       "Abituzumab      KV1\n",
       "Afutuzumab      KV2\n",
       "Alacizumab      KV1\n",
       "Alemtuzumab     KV1\n",
       "Anrukinzumab    KV1\n",
       "dtype: object"
      ]
     },
     "execution_count": 7,
     "metadata": {},
     "output_type": "execute_result"
    }
   ],
   "source": [
    "genes_light = experimental_light.apply(lambda chain: chain.find_human_germlines(1)[0][0].name.split('-')[0].split('/')[0].replace('IG','').replace('D',''))\n",
    "genes_light.head()"
   ]
  },
  {
   "cell_type": "code",
   "execution_count": 8,
   "metadata": {},
   "outputs": [
    {
     "data": {
      "text/plain": [
       "HV1    74\n",
       "HV3    62\n",
       "HV4    13\n",
       "HV7     8\n",
       "HV2     4\n",
       "HV5     3\n",
       "dtype: int64"
      ]
     },
     "execution_count": 8,
     "metadata": {},
     "output_type": "execute_result"
    }
   ],
   "source": [
    "genes_heavy.value_counts()"
   ]
  },
  {
   "cell_type": "code",
   "execution_count": 9,
   "metadata": {},
   "outputs": [
    {
     "data": {
      "text/plain": [
       "KV1    104\n",
       "KV2     21\n",
       "KV4     16\n",
       "KV3     15\n",
       "KV6      4\n",
       "LV3      1\n",
       "LV1      1\n",
       "LV7      1\n",
       "LV8      1\n",
       "dtype: int64"
      ]
     },
     "execution_count": 9,
     "metadata": {},
     "output_type": "execute_result"
    }
   ],
   "source": [
    "genes_light.value_counts()"
   ]
  },
  {
   "cell_type": "markdown",
   "metadata": {},
   "source": [
    "## Parental (murine) chains"
   ]
  },
  {
   "cell_type": "code",
   "execution_count": 10,
   "metadata": {},
   "outputs": [],
   "source": [
    "parental_heavy = {}\n",
    "parental_light = {}\n",
    "for record in iterate_fasta(os.path.join(TASK_DIR, f'oas_cdr_hits/parental.fa')):\n",
    "    if record.description.endswith(' VH'):\n",
    "        parental_heavy[record.id] = str(record.seq)\n",
    "    elif record.description.endswith(' VL'):\n",
    "        parental_light[record.id] = str(record.seq)\n",
    "    else:\n",
    "        raise ValueError(record.description)"
   ]
  },
  {
   "cell_type": "code",
   "execution_count": 11,
   "metadata": {},
   "outputs": [
    {
     "data": {
      "text/plain": [
       "'QVQLQQSGAELAKPGASVKLSCKASGYTFTSFWMHWVKQRPGQGLEWIGYINPRSGYTEYNEIFRDKATLTADKSSSTAYMQLSSLTSEDSAVYYCARFLGRGAMDYWGQGTSVTVSS'"
      ]
     },
     "execution_count": 11,
     "metadata": {},
     "output_type": "execute_result"
    }
   ],
   "source": [
    "parental_heavy['Abituzumab']"
   ]
  },
  {
   "cell_type": "code",
   "execution_count": 12,
   "metadata": {},
   "outputs": [
    {
     "data": {
      "text/plain": [
       "'DIQMTQTTSSLSASLGDRVTISCRASQDISNYLAWYQQKPDGTIKLLIYYTSKIHSGVPSRFSGSGSGTDYSLTISNLEQEDIATYFCQQGNTFPYTFGGGTKLEIK'"
      ]
     },
     "execution_count": 12,
     "metadata": {},
     "output_type": "execute_result"
    }
   ],
   "source": [
    "parental_light['Abituzumab']"
   ]
  },
  {
   "cell_type": "markdown",
   "metadata": {},
   "source": [
    "curl 'http://opig.stats.ox.ac.uk/webapps/newsabdab/sabpred/humab' \\\n",
    "  -H 'Proxy-Connection: keep-alive' \\\n",
    "  -H 'Pragma: no-cache' \\\n",
    "  -H 'Cache-Control: no-cache' \\\n",
    "  -H 'Upgrade-Insecure-Requests: 1' \\\n",
    "  -H 'Origin: http://opig.stats.ox.ac.uk' \\\n",
    "  -H 'Content-Type: multipart/form-data; boundary=----WebKitFormBoundaryd6mMAIYeZfkpIsS8' \\\n",
    "  -H 'User-Agent: Mozilla/5.0 (Macintosh; Intel Mac OS X 10_14_6) AppleWebKit/537.36 (KHTML, like Gecko) Chrome/88.0.4324.150 Safari/537.36' \\\n",
    "  -H 'Accept: text/html,application/xhtml+xml,application/xml;q=0.9,image/avif,image/webp,image/apng,*/*;q=0.8,application/signed-exchange;v=b3;q=0.9' \\\n",
    "  -H 'Referer: http://opig.stats.ox.ac.uk/webapps/newsabdab/sabpred/humab' \\\n",
    "  -H 'Accept-Language: en-GB,en;q=0.9,en-US;q=0.8,cs;q=0.7' \\\n",
    "  -H 'Cookie: _ga=GA1.3.349754799.1573478668; _hjid=ef6d678e-ac4a-4b20-84c0-95957d8d20d8; session=eyJfaWQiOnsiIGIiOiJPR00yT1dSaU5HSXdZamc1TlRVeU1EVTRZekUyWldNelpUQm1PR0poWVRJPSJ9fQ.Ew26Bw.qPsoQNRvmjQFj19rjlX4c6TaAcI; _gid=GA1.3.1842970181.1613945339; _gat_gtag_UA_142143190_1=1' \\\n",
    "  --data-raw $'------WebKitFormBoundaryd6mMAIYeZfkpIsS8\\r\\nContent-Disposition: form-data; name=\"h_sequence\"\\r\\n\\r\\nEVKLLESGGGLVQPGGSMRLSCAGSGFTFTDFYMNWIRQPAGKAPEWLGFIRDKAKGYTTEYNPSVKGRFTISRDNTQNMLYLQMNTLRAEDTATYYCAREGHTAAPFDYWGQGVMVTVSS\\r\\n------WebKitFormBoundaryd6mMAIYeZfkpIsS8\\r\\nContent-Disposition: form-data; name=\"h_v_gene\"\\r\\n\\r\\nHV1\\r\\n------WebKitFormBoundaryd6mMAIYeZfkpIsS8\\r\\nContent-Disposition: form-data; name=\"h_threshold\"\\r\\n\\r\\n0.852\\r\\n------WebKitFormBoundaryd6mMAIYeZfkpIsS8\\r\\nContent-Disposition: form-data; name=\"l_sequence\"\\r\\n\\r\\nDIKMTQSPSFLSASVGDRVTLNCKASQNIDKYLNWYQQKLGESPKLLIYNTNNLQTGIPSRFSGSGSGTDFTLTISSLQPEDVATYFCLQHISRPRTFGTGTKLELK\\r\\n------WebKitFormBoundaryd6mMAIYeZfkpIsS8\\r\\nContent-Disposition: form-data; name=\"l_v_gene\"\\r\\n\\r\\nKV1\\r\\n------WebKitFormBoundaryd6mMAIYeZfkpIsS8\\r\\nContent-Disposition: form-data; name=\"l_threshold\"\\r\\n\\r\\n0.851\\r\\n------WebKitFormBoundaryd6mMAIYeZfkpIsS8\\r\\nContent-Disposition: form-data; name=\"jobname\"\\r\\n\\r\\nTest\\r\\n------WebKitFormBoundaryd6mMAIYeZfkpIsS8--\\r\\n' \\\n",
    "  --compressed \\\n",
    "  --insecure"
   ]
  },
  {
   "cell_type": "markdown",
   "metadata": {},
   "source": []
  },
  {
   "cell_type": "code",
   "execution_count": 13,
   "metadata": {},
   "outputs": [
    {
     "data": {
      "text/html": [
       "<div>\n",
       "<style scoped>\n",
       "    .dataframe tbody tr th:only-of-type {\n",
       "        vertical-align: middle;\n",
       "    }\n",
       "\n",
       "    .dataframe tbody tr th {\n",
       "        vertical-align: top;\n",
       "    }\n",
       "\n",
       "    .dataframe thead th {\n",
       "        text-align: right;\n",
       "    }\n",
       "</style>\n",
       "<table border=\"1\" class=\"dataframe\">\n",
       "  <thead>\n",
       "    <tr style=\"text-align: right;\">\n",
       "      <th></th>\n",
       "      <th>Hu-mAb Score (H)</th>\n",
       "      <th>Hu-mAb Score (L)</th>\n",
       "    </tr>\n",
       "    <tr>\n",
       "      <th>Therapeutic</th>\n",
       "      <th></th>\n",
       "      <th></th>\n",
       "    </tr>\n",
       "  </thead>\n",
       "  <tbody>\n",
       "    <tr>\n",
       "      <th>Abituzumab</th>\n",
       "      <td>0.430</td>\n",
       "      <td>0.619</td>\n",
       "    </tr>\n",
       "    <tr>\n",
       "      <th>Afutuzumab</th>\n",
       "      <td>0.830</td>\n",
       "      <td>0.562</td>\n",
       "    </tr>\n",
       "    <tr>\n",
       "      <th>Alacizumab</th>\n",
       "      <td>0.935</td>\n",
       "      <td>0.686</td>\n",
       "    </tr>\n",
       "    <tr>\n",
       "      <th>Alemtuzumab</th>\n",
       "      <td>0.835</td>\n",
       "      <td>0.842</td>\n",
       "    </tr>\n",
       "    <tr>\n",
       "      <th>Anrukinzumab</th>\n",
       "      <td>0.880</td>\n",
       "      <td>0.809</td>\n",
       "    </tr>\n",
       "  </tbody>\n",
       "</table>\n",
       "</div>"
      ],
      "text/plain": [
       "              Hu-mAb Score (H)  Hu-mAb Score (L)\n",
       "Therapeutic                                     \n",
       "Abituzumab               0.430             0.619\n",
       "Afutuzumab               0.830             0.562\n",
       "Alacizumab               0.935             0.686\n",
       "Alemtuzumab              0.835             0.842\n",
       "Anrukinzumab             0.880             0.809"
      ]
     },
     "execution_count": 13,
     "metadata": {},
     "output_type": "execute_result"
    }
   ],
   "source": [
    "scores = pd.read_csv('../../data/tasks/humanness/thera_sabdab_humab.tsv', sep='\\t', index_col=0)\n",
    "extra = pd.DataFrame([\n",
    "    ['Inebilizumab', 0.895, 0.655],\n",
    "    ['Oportuzumab', 0.455, 0.787],\n",
    "    ['Sacituzumab', 0.45, 0.716],\n",
    "    ['Sapelizumab', 0.850, 0.748],\n",
    "    ['Satralizumab', 0.85, 0.748],\n",
    "    ['Tislelizumab', 0.845, 0.905]\n",
    "], columns=['Therapeutic','Hu-mAb Score (H)','Hu-mAb Score (L)']).set_index('Therapeutic')\n",
    "scores = pd.concat([scores[['Hu-mAb Score (H)','Hu-mAb Score (L)']], extra])\n",
    "scores = scores.loc[parental_heavy.keys()]\n",
    "scores.head()"
   ]
  },
  {
   "cell_type": "code",
   "execution_count": 14,
   "metadata": {},
   "outputs": [],
   "source": [
    "def submit_humanization(h_sequence, h_v_gene, h_threshold, l_sequence, l_v_gene, l_threshold, jobname='Test'):\n",
    "    data = {\n",
    "        'h_sequence': h_sequence,\n",
    "        'h_v_gene': h_v_gene,\n",
    "        'h_threshold': h_threshold,\n",
    "        'l_sequence': l_sequence,\n",
    "        'l_v_gene': l_v_gene,\n",
    "        'l_threshold': l_threshold,\n",
    "        'jobname': jobname\n",
    "    }\n",
    "    job_request = requests.post('http://opig.stats.ox.ac.uk/webapps/newsabdab/sabpred/humab', data=data)\n",
    "    jobid = job_request.url.strip('/').split('/')[-1]\n",
    "    return jobid\n",
    "\n",
    "def get_humanization_results(jobid, jobname='Test'):\n",
    "    url = f'http://opig.stats.ox.ac.uk/webapps/newsabdab/sabpred/humab_results/{jobid}'\n",
    "    heavy_url = f'http://opig.stats.ox.ac.uk/webapps/newsabdab/sabpred/humab_results/{jobid}/{jobname}/heavy'\n",
    "    light_url = f'http://opig.stats.ox.ac.uk/webapps/newsabdab/sabpred/humab_results/{jobid}/{jobname}/light'\n",
    "    for wait in range(100):\n",
    "        result_request = None\n",
    "        for retry in range(100):\n",
    "            try:\n",
    "                result_request = requests.get(url)\n",
    "                break\n",
    "            except:\n",
    "                time.sleep(retry * 5)\n",
    "        assert result_request is not None, f'Retry failed: {url}'\n",
    "        time.sleep(wait * 5)\n",
    "        if 'Error loading Hu-mAb results' in result_request.text or '>failed<' in result_request.text:\n",
    "            raise ValueError('Hu-mAb error') \n",
    "        heavy_request = requests.get(heavy_url)\n",
    "        if heavy_request.ok:\n",
    "            heavy_text = heavy_request.text\n",
    "            light_text = requests.get(light_url).text\n",
    "            break\n",
    "    \n",
    "    regex = re.compile('humanised sequence: (.*)')\n",
    "    try:\n",
    "        heavy_seq = regex.search(heavy_text).group(1).strip()\n",
    "    except:\n",
    "        print(heavy_text)\n",
    "        raise ValueError()\n",
    "    try:\n",
    "        light_seq = regex.search(light_text).group(1).strip()\n",
    "    except:\n",
    "        print(light_text)\n",
    "        raise ValueError()\n",
    "    return heavy_seq, light_seq"
   ]
  },
  {
   "cell_type": "code",
   "execution_count": null,
   "metadata": {},
   "outputs": [],
   "source": [
    "# jobid1 = submit_humanization(\n",
    "#     h_sequence='EVKLLESGGGLVQPGGSMRLSCAGSGFTFTDFYMNWIRQPAGKAPEWLGFIRDKAKGYTTEYNPSVKGRFTISRDNTQNMLYLQMNTLRAEDTATYYCAREGHTAAPFDYWGQGVMVTVSS', \n",
    "#     h_v_gene='HV1', \n",
    "#     h_threshold=0.01, \n",
    "#     l_sequence='DIKMTQSPSFLSASVGDRVTLNCKASQNIDKYLNWYQQKLGESPKLLIYNTNNLQTGIPSRFSGSGSGTDFTLTISSLQPEDVATYFCLQHISRPRTFGTGTKLELK', \n",
    "#     l_v_gene='KV1', \n",
    "#     l_threshold=0.01, \n",
    "#     jobname='Test'\n",
    "# )"
   ]
  },
  {
   "cell_type": "code",
   "execution_count": 25,
   "metadata": {},
   "outputs": [],
   "source": [
    "out_dir = os.path.join(TASK_DIR, 'humab')"
   ]
  },
  {
   "cell_type": "code",
   "execution_count": 16,
   "metadata": {},
   "outputs": [],
   "source": [
    "!mkdir -p {out_dir}"
   ]
  },
  {
   "cell_type": "code",
   "execution_count": null,
   "metadata": {},
   "outputs": [
    {
     "name": "stdout",
     "output_type": "stream",
     "text": [
      "Abituzumab 0.43 0.619 ../../data/tasks/therapeutic_rediscovery/humab/tmp_manual/Abituzumab.fa\n",
      "Afutuzumab 0.83 0.562 ../../data/tasks/therapeutic_rediscovery/humab/tmp_manual/Afutuzumab.fa\n",
      "Alacizumab 0.935 0.6859999999999999 ../../data/tasks/therapeutic_rediscovery/humab/tmp_manual/Alacizumab.fa\n",
      "Alemtuzumab 0.835 0.8420000000000001 ../../data/tasks/therapeutic_rediscovery/humab/tmp_manual/Alemtuzumab.fa\n",
      "Anrukinzumab 0.88 0.809 ../../data/tasks/therapeutic_rediscovery/humab/tmp_manual/Anrukinzumab.fa\n",
      "Atezolizumab 0.975 0.941 ../../data/tasks/therapeutic_rediscovery/humab/tmp_manual/Atezolizumab.fa\n",
      "Bapineuzumab 0.97 0.6579999999999999 ../../data/tasks/therapeutic_rediscovery/humab/tmp_manual/Bapineuzumab.fa\n",
      "Bemarituzumab 0.745 0.725 ../../data/tasks/therapeutic_rediscovery/humab/tmp_manual/Bemarituzumab.fa\n",
      "Benralizumab 0.61 0.981 ../../data/tasks/therapeutic_rediscovery/humab/tmp_manual/Benralizumab.fa\n",
      "Bevacizumab 0.81 0.899 ../../data/tasks/therapeutic_rediscovery/humab/tmp_manual/Bevacizumab.fa\n",
      "Blosozumab 0.985 0.8420000000000001 ../../data/tasks/therapeutic_rediscovery/humab/tmp_manual/Blosozumab.fa\n",
      "Bococizumab 0.87 0.9009999999999999 ../../data/tasks/therapeutic_rediscovery/humab/tmp_manual/Bococizumab.fa\n",
      "Brontictuzumab 0.735 0.72 ../../data/tasks/therapeutic_rediscovery/humab/tmp_manual/Brontictuzumab.fa\n",
      "Cabiralizumab 0.89 0.78 ../../data/tasks/therapeutic_rediscovery/humab/tmp_manual/Cabiralizumab.fa\n",
      "Camrelizumab 0.88 0.8859999999999999 ../../data/tasks/therapeutic_rediscovery/humab/tmp_manual/Camrelizumab.fa\n",
      "Cantuzumab 0.29 0.182 ../../data/tasks/therapeutic_rediscovery/humab/tmp_manual/Cantuzumab.fa\n",
      "Cergutuzumab 0.98 0.887 ../../data/tasks/therapeutic_rediscovery/humab/tmp_manual/Cergutuzumab.fa\n",
      "Certolizumab 0.855 0.862 ../../data/tasks/therapeutic_rediscovery/humab/tmp_manual/Certolizumab.fa\n",
      "Citatuzumab 0.455 0.787 ../../data/tasks/therapeutic_rediscovery/humab/tmp_manual/Citatuzumab.fa\n",
      "Clivatuzumab 0.515 0.82 ../../data/tasks/therapeutic_rediscovery/humab/tmp_manual/Clivatuzumab.fa\n",
      "Codrituzumab 0.965 0.738 ../../data/tasks/therapeutic_rediscovery/humab/tmp_manual/Codrituzumab.fa\n",
      "Cofetuzumab 0.795 0.76 ../../data/tasks/therapeutic_rediscovery/humab/tmp_manual/Cofetuzumab.fa\n",
      "Concizumab 0.445 0.8740000000000001 ../../data/tasks/therapeutic_rediscovery/humab/tmp_manual/Concizumab.fa\n",
      "Crenezumab 0.865 0.826 ../../data/tasks/therapeutic_rediscovery/humab/tmp_manual/Crenezumab.fa\n",
      "Crizanlizumab 0.86 0.875 ../../data/tasks/therapeutic_rediscovery/humab/tmp_manual/Crizanlizumab.fa\n",
      "Dacetuzumab 0.81 0.759 ../../data/tasks/therapeutic_rediscovery/humab/tmp_manual/Dacetuzumab.fa\n",
      "Daclizumab 0.65 0.903 ../../data/tasks/therapeutic_rediscovery/humab/tmp_manual/Daclizumab.fa\n",
      "Dalotuzumab 0.99 0.75 ../../data/tasks/therapeutic_rediscovery/humab/tmp_manual/Dalotuzumab.fa\n",
      "Dapirolizumab 0.715 0.882 ../../data/tasks/therapeutic_rediscovery/humab/tmp_manual/Dapirolizumab.fa\n",
      "Demcizumab 0.685 0.58 ../../data/tasks/therapeutic_rediscovery/humab/tmp_manual/Demcizumab.fa\n",
      "Denintuzumab 0.83 0.835 ../../data/tasks/therapeutic_rediscovery/humab/tmp_manual/Denintuzumab.fa\n",
      "Dezamizumab 0.845 0.5670000000000001 ../../data/tasks/therapeutic_rediscovery/humab/tmp_manual/Dezamizumab.fa\n",
      "Domagrozumab 0.97 0.7040000000000001 ../../data/tasks/therapeutic_rediscovery/humab/tmp_manual/Domagrozumab.fa\n",
      "Duligotuzumab 0.94 0.988 ../../data/tasks/therapeutic_rediscovery/humab/tmp_manual/Duligotuzumab.fa\n",
      "Eculizumab 0.975 0.893 ../../data/tasks/therapeutic_rediscovery/humab/tmp_manual/Eculizumab.fa\n",
      "Efalizumab 0.76 0.494 ../../data/tasks/therapeutic_rediscovery/humab/tmp_manual/Efalizumab.fa\n",
      "Elotuzumab 0.375 0.8059999999999999 ../../data/tasks/therapeutic_rediscovery/humab/tmp_manual/Elotuzumab.fa\n",
      "Emactuzumab 0.995 0.966 ../../data/tasks/therapeutic_rediscovery/humab/tmp_manual/Emactuzumab.fa\n",
      "Emibetuzumab 0.945 0.898 ../../data/tasks/therapeutic_rediscovery/humab/tmp_manual/Emibetuzumab.fa\n",
      "Emicizumab 0.865 0.872 ../../data/tasks/therapeutic_rediscovery/humab/tmp_manual/Emicizumab.fa\n",
      "Enavatuzumab 0.71 0.813 ../../data/tasks/therapeutic_rediscovery/humab/tmp_manual/Enavatuzumab.fa\n",
      "Enoblituzumab 0.885 0.88 ../../data/tasks/therapeutic_rediscovery/humab/tmp_manual/Enoblituzumab.fa\n",
      "Enokizumab 0.84 0.9359999999999999 ../../data/tasks/therapeutic_rediscovery/humab/tmp_manual/Enokizumab.fa\n",
      "Epratuzumab 0.64 0.66 ../../data/tasks/therapeutic_rediscovery/humab/tmp_manual/Epratuzumab.fa\n",
      "Etaracizumab 0.94 0.95 ../../data/tasks/therapeutic_rediscovery/humab/tmp_manual/Etaracizumab.fa\n",
      "Farletuzumab 0.79 0.789 ../../data/tasks/therapeutic_rediscovery/humab/tmp_manual/Farletuzumab.fa\n",
      "Fibatuzumab 0.97 0.993 ../../data/tasks/therapeutic_rediscovery/humab/tmp_manual/Fibatuzumab.fa\n",
      "Ficlatuzumab 0.73 0.51 ../../data/tasks/therapeutic_rediscovery/humab/tmp_manual/Ficlatuzumab.fa\n",
      "Flotetuzumab 0.705 0.795 ../../data/tasks/therapeutic_rediscovery/humab/tmp_manual/Flotetuzumab.fa\n",
      "Fontolizumab 0.405 0.932 ../../data/tasks/therapeutic_rediscovery/humab/tmp_manual/Fontolizumab.fa\n",
      "Fremanezumab 0.875 0.98 ../../data/tasks/therapeutic_rediscovery/humab/tmp_manual/Fremanezumab.fa\n",
      "Galcanezumab 0.945 0.741 ../../data/tasks/therapeutic_rediscovery/humab/tmp_manual/Galcanezumab.fa\n",
      "Gatipotuzumab 0.74 0.608 ../../data/tasks/therapeutic_rediscovery/humab/tmp_manual/Gatipotuzumab.fa\n",
      "Gemtuzumab 0.625 0.922 ../../data/tasks/therapeutic_rediscovery/humab/tmp_manual/Gemtuzumab.fa\n",
      "Gevokizumab 0.4 0.524 ../../data/tasks/therapeutic_rediscovery/humab/tmp_manual/Gevokizumab.fa\n",
      "Ibalizumab 0.25 0.755 ../../data/tasks/therapeutic_rediscovery/humab/tmp_manual/Ibalizumab.fa\n",
      "Idarucizumab 0.765 0.9 ../../data/tasks/therapeutic_rediscovery/humab/tmp_manual/Idarucizumab.fa\n",
      "Ifabotuzumab 0.97 0.993 ../../data/tasks/therapeutic_rediscovery/humab/tmp_manual/Ifabotuzumab.fa\n",
      "Iladatuzumab 0.69 0.8590000000000001 ../../data/tasks/therapeutic_rediscovery/humab/tmp_manual/Iladatuzumab.fa\n",
      "Imgatuzumab 0.995 0.73 ../../data/tasks/therapeutic_rediscovery/humab/tmp_manual/Imgatuzumab.fa\n",
      "Inebilizumab 0.895 0.655 ../../data/tasks/therapeutic_rediscovery/humab/tmp_manual/Inebilizumab.fa\n",
      "Inotuzumab 0.91 0.6970000000000001 ../../data/tasks/therapeutic_rediscovery/humab/tmp_manual/Inotuzumab.fa\n",
      "Itolizumab 0.07 0.256 ../../data/tasks/therapeutic_rediscovery/humab/tmp_manual/Itolizumab.fa\n",
      "Ixekizumab 0.9 0.8640000000000001 ../../data/tasks/therapeutic_rediscovery/humab/tmp_manual/Ixekizumab.fa\n",
      "Labetuzumab 0.605 0.8640000000000001 ../../data/tasks/therapeutic_rediscovery/humab/tmp_manual/Labetuzumab.fa\n",
      "Lacnotuzumab 0.73 0.59 ../../data/tasks/therapeutic_rediscovery/humab/tmp_manual/Lacnotuzumab.fa\n",
      "Ladiratuzumab 0.995 0.866 ../../data/tasks/therapeutic_rediscovery/humab/tmp_manual/Ladiratuzumab.fa\n",
      "Lambrolizumab 0.88 0.87 ../../data/tasks/therapeutic_rediscovery/humab/tmp_manual/Lambrolizumab.fa\n",
      "Lampalizumab 0.53 0.764 ../../data/tasks/therapeutic_rediscovery/humab/tmp_manual/Lampalizumab.fa\n",
      "Landogrozumab 0.985 0.95 ../../data/tasks/therapeutic_rediscovery/humab/tmp_manual/Landogrozumab.fa\n",
      "Lebrikizumab 0.7 0.61 ../../data/tasks/therapeutic_rediscovery/humab/tmp_manual/Lebrikizumab.fa\n",
      "Lifastuzumab 0.945 0.725 ../../data/tasks/therapeutic_rediscovery/humab/tmp_manual/Lifastuzumab.fa\n",
      "Ligelizumab 0.79 0.93 ../../data/tasks/therapeutic_rediscovery/humab/tmp_manual/Ligelizumab.fa\n",
      "Lintuzumab 0.61 0.8859999999999999 ../../data/tasks/therapeutic_rediscovery/humab/tmp_manual/Lintuzumab.fa\n",
      "Lorvotuzumab 0.985 0.924 ../../data/tasks/therapeutic_rediscovery/humab/tmp_manual/Lorvotuzumab.fa\n",
      "Lumretuzumab 0.96 0.975 ../../data/tasks/therapeutic_rediscovery/humab/tmp_manual/Lumretuzumab.fa\n",
      "Lutikizumab 0.885 0.637 ../../data/tasks/therapeutic_rediscovery/humab/tmp_manual/Lutikizumab.fa\n",
      "Matuzumab 0.62 0.821 ../../data/tasks/therapeutic_rediscovery/humab/tmp_manual/Matuzumab.fa\n",
      "Mepolizumab 0.555 0.97 ../../data/tasks/therapeutic_rediscovery/humab/tmp_manual/Mepolizumab.fa\n",
      "Milatuzumab 0.505 0.8220000000000001 ../../data/tasks/therapeutic_rediscovery/humab/tmp_manual/Milatuzumab.fa\n",
      "Mirikizumab 0.855 0.889 ../../data/tasks/therapeutic_rediscovery/humab/tmp_manual/Mirikizumab.fa\n",
      "Mogamulizumab 0.76 0.792 ../../data/tasks/therapeutic_rediscovery/humab/tmp_manual/Mogamulizumab.fa\n",
      "Monalizumab 0.995 0.515 ../../data/tasks/therapeutic_rediscovery/humab/tmp_manual/Monalizumab.fa\n",
      "Mosunetuzumab 0.67 0.985 ../../data/tasks/therapeutic_rediscovery/humab/tmp_manual/Mosunetuzumab.fa\n",
      "Motavizumab 0.905 0.8490000000000001 ../../data/tasks/therapeutic_rediscovery/humab/tmp_manual/Motavizumab.fa\n",
      "Natalizumab 0.95 0.499 ../../data/tasks/therapeutic_rediscovery/humab/tmp_manual/Natalizumab.fa\n",
      "Nemolizumab 0.93 0.645 ../../data/tasks/therapeutic_rediscovery/humab/tmp_manual/Nemolizumab.fa\n",
      "Nimotuzumab 0.775 0.6859999999999999 ../../data/tasks/therapeutic_rediscovery/humab/tmp_manual/Nimotuzumab.fa\n",
      "Obinutuzumab 0.83 0.562 ../../data/tasks/therapeutic_rediscovery/humab/tmp_manual/Obinutuzumab.fa\n",
      "Ocaratuzumab 0.805 0.91 ../../data/tasks/therapeutic_rediscovery/humab/tmp_manual/Ocaratuzumab.fa\n",
      "Ocrelizumab 0.78 0.862 ../../data/tasks/therapeutic_rediscovery/humab/tmp_manual/Ocrelizumab.fa\n",
      "Olendalizumab 0.895 0.816 ../../data/tasks/therapeutic_rediscovery/humab/tmp_manual/Olendalizumab.fa\n",
      "  Waiting for job: http://opig.stats.ox.ac.uk/webapps/newsabdab/sabpred/humab_results/20210322_0007130\n",
      "Omalizumab 0.845 0.8740000000000001 ../../data/tasks/therapeutic_rediscovery/humab/tmp_manual/Omalizumab.fa\n",
      "  Waiting for job: http://opig.stats.ox.ac.uk/webapps/newsabdab/sabpred/humab_results/20210322_0073127\n",
      "Onartuzumab 0.725 0.73 ../../data/tasks/therapeutic_rediscovery/humab/tmp_manual/Onartuzumab.fa\n",
      "Oportuzumab 0.455 0.787 ../../data/tasks/therapeutic_rediscovery/humab/tmp_manual/Oportuzumab.fa\n",
      "Otlertuzumab 0.815 0.98 ../../data/tasks/therapeutic_rediscovery/humab/tmp_manual/Otlertuzumab.fa\n",
      "Ozanezumab 0.63 0.586 ../../data/tasks/therapeutic_rediscovery/humab/tmp_manual/Ozanezumab.fa\n",
      "Palivizumab 0.885 0.8759999999999999 ../../data/tasks/therapeutic_rediscovery/humab/tmp_manual/Palivizumab.fa\n",
      "Parsatuzumab 0.815 0.8190000000000001 ../../data/tasks/therapeutic_rediscovery/humab/tmp_manual/Parsatuzumab.fa\n",
      "Pateclizumab 0.69 0.9620000000000001 ../../data/tasks/therapeutic_rediscovery/humab/tmp_manual/Pateclizumab.fa\n",
      "Pembrolizumab 0.88 0.87 ../../data/tasks/therapeutic_rediscovery/humab/tmp_manual/Pembrolizumab.fa\n",
      "Perakizumab 0.955 0.568 ../../data/tasks/therapeutic_rediscovery/humab/tmp_manual/Perakizumab.fa\n",
      "Pertuzumab 0.875 0.888 ../../data/tasks/therapeutic_rediscovery/humab/tmp_manual/Pertuzumab.fa\n",
      "Pidilizumab 0.595 0.63 ../../data/tasks/therapeutic_rediscovery/humab/tmp_manual/Pidilizumab.fa\n",
      "Pinatuzumab 0.86 0.741 ../../data/tasks/therapeutic_rediscovery/humab/tmp_manual/Pinatuzumab.fa\n",
      "Pogalizumab 0.825 0.674 ../../data/tasks/therapeutic_rediscovery/humab/tmp_manual/Pogalizumab.fa\n",
      "Polatuzumab 0.69 0.8590000000000001 ../../data/tasks/therapeutic_rediscovery/humab/tmp_manual/Polatuzumab.fa\n",
      "Prasinezumab 0.875 0.645 ../../data/tasks/therapeutic_rediscovery/humab/tmp_manual/Prasinezumab.fa\n",
      "Quilizumab 0.8 0.759 ../../data/tasks/therapeutic_rediscovery/humab/tmp_manual/Quilizumab.fa\n",
      "Ralpancizumab 0.875 0.872 ../../data/tasks/therapeutic_rediscovery/humab/tmp_manual/Ralpancizumab.fa\n",
      "Ranibizumab 0.805 0.914 ../../data/tasks/therapeutic_rediscovery/humab/tmp_manual/Ranibizumab.fa\n",
      "  Waiting for job: http://opig.stats.ox.ac.uk/webapps/newsabdab/sabpred/humab_results/20210322_0036813\n",
      "Ravulizumab 0.975 0.893 ../../data/tasks/therapeutic_rediscovery/humab/tmp_manual/Ravulizumab.fa\n",
      "Refanezumab 0.88 1.0 ../../data/tasks/therapeutic_rediscovery/humab/tmp_manual/Refanezumab.fa\n",
      "Reslizumab 0.76 0.7909999999999999 ../../data/tasks/therapeutic_rediscovery/humab/tmp_manual/Reslizumab.fa\n",
      "Risankizumab 0.77 0.6759999999999999 ../../data/tasks/therapeutic_rediscovery/humab/tmp_manual/Risankizumab.fa\n",
      "Rivabazumab 0.995 0.976 ../../data/tasks/therapeutic_rediscovery/humab/tmp_manual/Rivabazumab.fa\n",
      "Romosozumab 0.88 0.696 ../../data/tasks/therapeutic_rediscovery/humab/tmp_manual/Romosozumab.fa\n",
      "Rontalizumab 0.83 0.8 ../../data/tasks/therapeutic_rediscovery/humab/tmp_manual/Rontalizumab.fa\n",
      "Rosmantuzumab 0.815 0.6409999999999999 ../../data/tasks/therapeutic_rediscovery/humab/tmp_manual/Rosmantuzumab.fa\n",
      "Rovalpituzumab 0.975 0.98 ../../data/tasks/therapeutic_rediscovery/humab/tmp_manual/Rovalpituzumab.fa\n",
      "Ruplizumab 0.245 0.25 ../../data/tasks/therapeutic_rediscovery/humab/tmp_manual/Ruplizumab.fa\n",
      "Sacituzumab 0.45 0.716 ../../data/tasks/therapeutic_rediscovery/humab/tmp_manual/Sacituzumab.fa\n",
      "Samalizumab 0.355 0.489 ../../data/tasks/therapeutic_rediscovery/humab/tmp_manual/Samalizumab.fa\n",
      "Sapelizumab 0.85 0.748 ../../data/tasks/therapeutic_rediscovery/humab/tmp_manual/Sapelizumab.fa\n",
      "Satralizumab 0.85 0.748 ../../data/tasks/therapeutic_rediscovery/humab/tmp_manual/Satralizumab.fa\n",
      "  Waiting for job: http://opig.stats.ox.ac.uk/webapps/newsabdab/sabpred/humab_results/20210322_0668341\n",
      "Simtuzumab 0.705 0.6 ../../data/tasks/therapeutic_rediscovery/humab/tmp_manual/Simtuzumab.fa\n",
      "Sofituzumab 0.795 0.804 ../../data/tasks/therapeutic_rediscovery/humab/tmp_manual/Sofituzumab.fa\n",
      "Solanezumab 0.855 0.888 ../../data/tasks/therapeutic_rediscovery/humab/tmp_manual/Solanezumab.fa\n",
      "Spartalizumab 0.815 0.76 ../../data/tasks/therapeutic_rediscovery/humab/tmp_manual/Spartalizumab.fa\n",
      "Suvizumab 0.615 0.68 ../../data/tasks/therapeutic_rediscovery/humab/tmp_manual/Suvizumab.fa\n",
      "Tadocizumab 0.755 0.7120000000000001 ../../data/tasks/therapeutic_rediscovery/humab/tmp_manual/Tadocizumab.fa\n",
      "Talacotuzumab 0.815 0.935 ../../data/tasks/therapeutic_rediscovery/humab/tmp_manual/Talacotuzumab.fa\n",
      "Tanezumab 0.855 0.8859999999999999 ../../data/tasks/therapeutic_rediscovery/humab/tmp_manual/Tanezumab.fa\n",
      "Telisotuzumab 1.0 0.92 ../../data/tasks/therapeutic_rediscovery/humab/tmp_manual/Telisotuzumab.fa\n",
      "Teplizumab 0.695 0.716 ../../data/tasks/therapeutic_rediscovery/humab/tmp_manual/Teplizumab.fa\n",
      "Tibulizumab 1.0 1.0 ../../data/tasks/therapeutic_rediscovery/humab/tmp_manual/Tibulizumab.fa\n",
      "Tigatuzumab 0.85 0.8420000000000001 ../../data/tasks/therapeutic_rediscovery/humab/tmp_manual/Tigatuzumab.fa\n",
      "Tildrakizumab 0.9 0.522 ../../data/tasks/therapeutic_rediscovery/humab/tmp_manual/Tildrakizumab.fa\n",
      "Timigutuzumab 0.965 0.777 ../../data/tasks/therapeutic_rediscovery/humab/tmp_manual/Timigutuzumab.fa\n",
      "Tislelizumab 0.845 0.905 ../../data/tasks/therapeutic_rediscovery/humab/tmp_manual/Tislelizumab.fa\n",
      "Tocilizumab 0.935 0.65 ../../data/tasks/therapeutic_rediscovery/humab/tmp_manual/Tocilizumab.fa\n",
      "Trastuzumab 0.965 0.777 ../../data/tasks/therapeutic_rediscovery/humab/tmp_manual/Trastuzumab.fa\n",
      "Tregalizumab 0.93 0.855 ../../data/tasks/therapeutic_rediscovery/humab/tmp_manual/Tregalizumab.fa\n",
      "Vandortuzumab 0.8 0.725 ../../data/tasks/therapeutic_rediscovery/humab/tmp_manual/Vandortuzumab.fa\n",
      "Vatelizumab 0.595 0.268 ../../data/tasks/therapeutic_rediscovery/humab/tmp_manual/Vatelizumab.fa\n",
      "Vedolizumab 0.795 0.83 ../../data/tasks/therapeutic_rediscovery/humab/tmp_manual/Vedolizumab.fa\n",
      "Veltuzumab 0.415 0.6990000000000001 ../../data/tasks/therapeutic_rediscovery/humab/tmp_manual/Veltuzumab.fa\n",
      "Visilizumab 0.685 0.848 ../../data/tasks/therapeutic_rediscovery/humab/tmp_manual/Visilizumab.fa\n",
      "Vonlerolizumab 0.825 0.674 ../../data/tasks/therapeutic_rediscovery/humab/tmp_manual/Vonlerolizumab.fa\n",
      "Vorsetuzumab 0.965 0.7 ../../data/tasks/therapeutic_rediscovery/humab/tmp_manual/Vorsetuzumab.fa\n",
      "Vunakizumab 0.91 0.605 ../../data/tasks/therapeutic_rediscovery/humab/tmp_manual/Vunakizumab.fa\n",
      "Zenocutuzumab 1.0 1.0 ../../data/tasks/therapeutic_rediscovery/humab/tmp_manual/Zenocutuzumab.fa\n"
     ]
    }
   ],
   "source": [
    "for name in parental_heavy.keys():\n",
    "    outpath = os.path.join(out_dir, 'tmp_manual', name+'.fa')\n",
    "    jobid_path = os.path.join(out_dir, 'tmp_manual', name+'.jobid')\n",
    "    h_threshold = scores['Hu-mAb Score (H)'][name]\n",
    "    l_threshold = scores['Hu-mAb Score (L)'][name]\n",
    "    print(name, h_threshold, l_threshold, outpath)\n",
    "    if os.path.exists(outpath):\n",
    "        continue\n",
    "    jobname = name+'_Rediscovery'\n",
    "    if os.path.exists(jobid_path):\n",
    "        with open(jobid_path, 'rt') as f:\n",
    "            jobid = f.read().strip()\n",
    "    else:\n",
    "        jobid = submit_humanization(\n",
    "            h_sequence=parental_heavy[name], \n",
    "            h_v_gene=genes_heavy[name], \n",
    "            h_threshold=h_threshold, \n",
    "            l_sequence=parental_light[name], \n",
    "            l_v_gene=genes_light[name], \n",
    "            l_threshold=l_threshold, \n",
    "            jobname=jobname\n",
    "        )\n",
    "        with open(jobid_path, 'wt') as f:\n",
    "            f.write(f'{jobid}\\n')\n",
    "    \n",
    "    print('  Waiting for job:', 'http://opig.stats.ox.ac.uk/webapps/newsabdab/sabpred/humab_results/'+jobid)\n",
    "    try:\n",
    "        heavy_seq, light_seq = get_humanization_results(jobid, jobname=jobname)\n",
    "        with open(outpath, 'wt') as f:\n",
    "            f.write(f'>{name} VH (threshold {h_threshold})\\n')\n",
    "            f.write(f'{heavy_seq}\\n')\n",
    "            f.write(f'>{name} VL (threshold {l_threshold})\\n')\n",
    "            f.write(f'{light_seq}\\n')\n",
    "    except Exception as e:\n",
    "        print('  FAILED', str(e))\n"
   ]
  },
  {
   "cell_type": "code",
   "execution_count": 27,
   "metadata": {},
   "outputs": [],
   "source": [
    "!cat {out_dir}/tmp_manual/*.fa > {out_dir}/humab_manual.fa"
   ]
  },
  {
   "cell_type": "code",
   "execution_count": 28,
   "metadata": {},
   "outputs": [
    {
     "name": "stdout",
     "output_type": "stream",
     "text": [
      "source $(conda info --base)/bin/activate biophi && export APP_ENV=local  && biophi oasis \\\n",
      "        data/tasks/therapeutic_rediscovery/humab/humab_manual.fa \\\n",
      "        --output data/tasks/therapeutic_rediscovery/humab/humab_manual_oasis.xlsx \\\n",
      "        --oas-db sqlite:///../biophi/work/oas_clean_human_subject_9mers_2019_11.db \\\n",
      "        --proteome-db sqlite:///../biophi/work/uniprot_human_proteome_9mers.db\n",
      "      __     ____  _       ____  _     _      ___    _   ____  _\n",
      "  /| /  \\   | __ )(_) ___ |  _ \\| |__ (_)    / _ \\  / \\ / ___|(_)___\n",
      " ( || [] )  |  _ \\| |/ _ \\| |_) | '_ \\| |   | | | |/ _ \\\\___ \\| / __|\n",
      "  \\_   _/   | |_) | | (_) |  __/| | | | |   | |_| / ___ \\___| | \\__ \\\n",
      "    | |     |____/|_|\\___/|_|   |_| |_|_|    \\___/_/   \\_\\___/|_|___/\n",
      "    |_|                       version 1.0                  version 1.0\n",
      "────────────────────────────────────────────────────────────────────────\n",
      "\n",
      "Settings:\n",
      "- OAS database: sqlite:///../biophi/work/oas_clean_human_subject_9mers_2019_11.db\n",
      "- Proteome database: sqlite:///../biophi/work/uniprot_human_proteome_9mers.db\n",
      "\n",
      "Loading chains: data/tasks/therapeutic_rediscovery/humab/humab_manual.fa\n",
      "Running OASis on 152 antibodies...\n",
      "100%|█████████████████████████████████████████| 152/152 [01:38<00:00,  1.54it/s]\n",
      "Saving report...\n",
      "Saved XLSX report to: data/tasks/therapeutic_rediscovery/humab/humab_manual_oasis.xlsx\n"
     ]
    }
   ],
   "source": [
    "!cd ../../; make data/tasks/therapeutic_rediscovery/humab/humab_manual_oasis.xlsx "
   ]
  },
  {
   "cell_type": "code",
   "execution_count": 29,
   "metadata": {},
   "outputs": [
    {
     "name": "stdout",
     "output_type": "stream",
     "text": [
      "bin/humanness_t20_score.py data/tasks/therapeutic_rediscovery/humab/humab_manual.fa data/tasks/therapeutic_rediscovery/humab/humab_manual_T20.tsv\n",
      "Note: The sequences will be processed through lakepharma T20 service! Sleeping for 10s, press Ctrl+C to cancel...\n",
      "Processing...\n",
      "304it [16:25,  3.24s/it]\n",
      "Saved to: data/tasks/therapeutic_rediscovery/humab/humab_manual_T20.tsv\n"
     ]
    }
   ],
   "source": [
    "!cd ../../; make data/tasks/therapeutic_rediscovery/humab/humab_manual_T20.tsv"
   ]
  },
  {
   "cell_type": "code",
   "execution_count": null,
   "metadata": {},
   "outputs": [],
   "source": []
  },
  {
   "cell_type": "code",
   "execution_count": 16,
   "metadata": {},
   "outputs": [],
   "source": [
    "H_THRESHOLDS = {\n",
    "    'Sapelizumab': 0.7900,\n",
    "    'Satralizumab': 0.7900\n",
    "}"
   ]
  },
  {
   "cell_type": "code",
   "execution_count": null,
   "metadata": {},
   "outputs": [
    {
     "name": "stdout",
     "output_type": "stream",
     "text": [
      "Abituzumab 0.43 0.619 ../../data/tasks/therapeutic_rediscovery/humab_automatic/tmp/Abituzumab.fa\n",
      "Afutuzumab 0.83 0.562 ../../data/tasks/therapeutic_rediscovery/humab_automatic/tmp/Afutuzumab.fa\n",
      "Alacizumab 0.935 0.6859999999999999 ../../data/tasks/therapeutic_rediscovery/humab_automatic/tmp/Alacizumab.fa\n",
      "Alemtuzumab 0.835 0.8420000000000001 ../../data/tasks/therapeutic_rediscovery/humab_automatic/tmp/Alemtuzumab.fa\n",
      "Anrukinzumab 0.88 0.809 ../../data/tasks/therapeutic_rediscovery/humab_automatic/tmp/Anrukinzumab.fa\n",
      "Atezolizumab 0.975 0.941 ../../data/tasks/therapeutic_rediscovery/humab_automatic/tmp/Atezolizumab.fa\n",
      "Bapineuzumab 0.97 0.6579999999999999 ../../data/tasks/therapeutic_rediscovery/humab_automatic/tmp/Bapineuzumab.fa\n",
      "Bemarituzumab 0.745 0.725 ../../data/tasks/therapeutic_rediscovery/humab_automatic/tmp/Bemarituzumab.fa\n",
      "Benralizumab 0.61 0.981 ../../data/tasks/therapeutic_rediscovery/humab_automatic/tmp/Benralizumab.fa\n",
      "Bevacizumab 0.81 0.899 ../../data/tasks/therapeutic_rediscovery/humab_automatic/tmp/Bevacizumab.fa\n",
      "Blosozumab 0.985 0.8420000000000001 ../../data/tasks/therapeutic_rediscovery/humab_automatic/tmp/Blosozumab.fa\n",
      "Bococizumab 0.87 0.9009999999999999 ../../data/tasks/therapeutic_rediscovery/humab_automatic/tmp/Bococizumab.fa\n",
      "Brontictuzumab 0.735 0.72 ../../data/tasks/therapeutic_rediscovery/humab_automatic/tmp/Brontictuzumab.fa\n",
      "Cabiralizumab 0.89 0.78 ../../data/tasks/therapeutic_rediscovery/humab_automatic/tmp/Cabiralizumab.fa\n",
      "Camrelizumab 0.88 0.8859999999999999 ../../data/tasks/therapeutic_rediscovery/humab_automatic/tmp/Camrelizumab.fa\n",
      "Cantuzumab 0.29 0.182 ../../data/tasks/therapeutic_rediscovery/humab_automatic/tmp/Cantuzumab.fa\n",
      "Cergutuzumab 0.98 0.887 ../../data/tasks/therapeutic_rediscovery/humab_automatic/tmp/Cergutuzumab.fa\n",
      "Certolizumab 0.855 0.862 ../../data/tasks/therapeutic_rediscovery/humab_automatic/tmp/Certolizumab.fa\n",
      "Citatuzumab 0.455 0.787 ../../data/tasks/therapeutic_rediscovery/humab_automatic/tmp/Citatuzumab.fa\n",
      "Clivatuzumab 0.515 0.82 ../../data/tasks/therapeutic_rediscovery/humab_automatic/tmp/Clivatuzumab.fa\n",
      "Codrituzumab 0.965 0.738 ../../data/tasks/therapeutic_rediscovery/humab_automatic/tmp/Codrituzumab.fa\n",
      "Cofetuzumab 0.795 0.76 ../../data/tasks/therapeutic_rediscovery/humab_automatic/tmp/Cofetuzumab.fa\n",
      "Concizumab 0.445 0.8740000000000001 ../../data/tasks/therapeutic_rediscovery/humab_automatic/tmp/Concizumab.fa\n",
      "Crenezumab 0.865 0.826 ../../data/tasks/therapeutic_rediscovery/humab_automatic/tmp/Crenezumab.fa\n",
      "Crizanlizumab 0.86 0.875 ../../data/tasks/therapeutic_rediscovery/humab_automatic/tmp/Crizanlizumab.fa\n",
      "Dacetuzumab 0.81 0.759 ../../data/tasks/therapeutic_rediscovery/humab_automatic/tmp/Dacetuzumab.fa\n",
      "Daclizumab 0.65 0.903 ../../data/tasks/therapeutic_rediscovery/humab_automatic/tmp/Daclizumab.fa\n",
      "Dalotuzumab 0.99 0.75 ../../data/tasks/therapeutic_rediscovery/humab_automatic/tmp/Dalotuzumab.fa\n",
      "Dapirolizumab 0.715 0.882 ../../data/tasks/therapeutic_rediscovery/humab_automatic/tmp/Dapirolizumab.fa\n",
      "Demcizumab 0.685 0.58 ../../data/tasks/therapeutic_rediscovery/humab_automatic/tmp/Demcizumab.fa\n",
      "Denintuzumab 0.83 0.835 ../../data/tasks/therapeutic_rediscovery/humab_automatic/tmp/Denintuzumab.fa\n",
      "Dezamizumab 0.845 0.5670000000000001 ../../data/tasks/therapeutic_rediscovery/humab_automatic/tmp/Dezamizumab.fa\n",
      "Domagrozumab 0.97 0.7040000000000001 ../../data/tasks/therapeutic_rediscovery/humab_automatic/tmp/Domagrozumab.fa\n",
      "Duligotuzumab 0.94 0.988 ../../data/tasks/therapeutic_rediscovery/humab_automatic/tmp/Duligotuzumab.fa\n",
      "Eculizumab 0.975 0.893 ../../data/tasks/therapeutic_rediscovery/humab_automatic/tmp/Eculizumab.fa\n",
      "Efalizumab 0.76 0.494 ../../data/tasks/therapeutic_rediscovery/humab_automatic/tmp/Efalizumab.fa\n",
      "Elotuzumab 0.375 0.8059999999999999 ../../data/tasks/therapeutic_rediscovery/humab_automatic/tmp/Elotuzumab.fa\n",
      "Emactuzumab 0.995 0.966 ../../data/tasks/therapeutic_rediscovery/humab_automatic/tmp/Emactuzumab.fa\n",
      "Emibetuzumab 0.945 0.898 ../../data/tasks/therapeutic_rediscovery/humab_automatic/tmp/Emibetuzumab.fa\n",
      "Emicizumab 0.865 0.872 ../../data/tasks/therapeutic_rediscovery/humab_automatic/tmp/Emicizumab.fa\n",
      "Enavatuzumab 0.71 0.813 ../../data/tasks/therapeutic_rediscovery/humab_automatic/tmp/Enavatuzumab.fa\n",
      "Enoblituzumab 0.885 0.88 ../../data/tasks/therapeutic_rediscovery/humab_automatic/tmp/Enoblituzumab.fa\n",
      "Enokizumab 0.84 0.9359999999999999 ../../data/tasks/therapeutic_rediscovery/humab_automatic/tmp/Enokizumab.fa\n",
      "Epratuzumab 0.64 0.66 ../../data/tasks/therapeutic_rediscovery/humab_automatic/tmp/Epratuzumab.fa\n",
      "Etaracizumab 0.94 0.95 ../../data/tasks/therapeutic_rediscovery/humab_automatic/tmp/Etaracizumab.fa\n",
      "Farletuzumab 0.79 0.789 ../../data/tasks/therapeutic_rediscovery/humab_automatic/tmp/Farletuzumab.fa\n",
      "Fibatuzumab 0.97 0.993 ../../data/tasks/therapeutic_rediscovery/humab_automatic/tmp/Fibatuzumab.fa\n",
      "Ficlatuzumab 0.73 0.51 ../../data/tasks/therapeutic_rediscovery/humab_automatic/tmp/Ficlatuzumab.fa\n",
      "Flotetuzumab 0.705 0.795 ../../data/tasks/therapeutic_rediscovery/humab_automatic/tmp/Flotetuzumab.fa\n",
      "Fontolizumab 0.405 0.932 ../../data/tasks/therapeutic_rediscovery/humab_automatic/tmp/Fontolizumab.fa\n",
      "Fremanezumab 0.875 0.98 ../../data/tasks/therapeutic_rediscovery/humab_automatic/tmp/Fremanezumab.fa\n",
      "Galcanezumab 0.945 0.741 ../../data/tasks/therapeutic_rediscovery/humab_automatic/tmp/Galcanezumab.fa\n",
      "Gatipotuzumab 0.74 0.608 ../../data/tasks/therapeutic_rediscovery/humab_automatic/tmp/Gatipotuzumab.fa\n",
      "Gemtuzumab 0.625 0.922 ../../data/tasks/therapeutic_rediscovery/humab_automatic/tmp/Gemtuzumab.fa\n",
      "Gevokizumab 0.4 0.524 ../../data/tasks/therapeutic_rediscovery/humab_automatic/tmp/Gevokizumab.fa\n",
      "Ibalizumab 0.25 0.755 ../../data/tasks/therapeutic_rediscovery/humab_automatic/tmp/Ibalizumab.fa\n",
      "Idarucizumab 0.765 0.9 ../../data/tasks/therapeutic_rediscovery/humab_automatic/tmp/Idarucizumab.fa\n",
      "Ifabotuzumab 0.97 0.993 ../../data/tasks/therapeutic_rediscovery/humab_automatic/tmp/Ifabotuzumab.fa\n",
      "Iladatuzumab 0.69 0.8590000000000001 ../../data/tasks/therapeutic_rediscovery/humab_automatic/tmp/Iladatuzumab.fa\n",
      "Imgatuzumab 0.995 0.73 ../../data/tasks/therapeutic_rediscovery/humab_automatic/tmp/Imgatuzumab.fa\n",
      "Inebilizumab 0.895 0.655 ../../data/tasks/therapeutic_rediscovery/humab_automatic/tmp/Inebilizumab.fa\n",
      "Inotuzumab 0.91 0.6970000000000001 ../../data/tasks/therapeutic_rediscovery/humab_automatic/tmp/Inotuzumab.fa\n",
      "Itolizumab 0.07 0.256 ../../data/tasks/therapeutic_rediscovery/humab_automatic/tmp/Itolizumab.fa\n",
      "Ixekizumab 0.9 0.8640000000000001 ../../data/tasks/therapeutic_rediscovery/humab_automatic/tmp/Ixekizumab.fa\n",
      "Labetuzumab 0.605 0.8640000000000001 ../../data/tasks/therapeutic_rediscovery/humab_automatic/tmp/Labetuzumab.fa\n",
      "Lacnotuzumab 0.73 0.59 ../../data/tasks/therapeutic_rediscovery/humab_automatic/tmp/Lacnotuzumab.fa\n",
      "Ladiratuzumab 0.995 0.866 ../../data/tasks/therapeutic_rediscovery/humab_automatic/tmp/Ladiratuzumab.fa\n",
      "Lambrolizumab 0.88 0.87 ../../data/tasks/therapeutic_rediscovery/humab_automatic/tmp/Lambrolizumab.fa\n",
      "Lampalizumab 0.53 0.764 ../../data/tasks/therapeutic_rediscovery/humab_automatic/tmp/Lampalizumab.fa\n",
      "Landogrozumab 0.985 0.95 ../../data/tasks/therapeutic_rediscovery/humab_automatic/tmp/Landogrozumab.fa\n",
      "Lebrikizumab 0.7 0.61 ../../data/tasks/therapeutic_rediscovery/humab_automatic/tmp/Lebrikizumab.fa\n",
      "Lifastuzumab 0.945 0.725 ../../data/tasks/therapeutic_rediscovery/humab_automatic/tmp/Lifastuzumab.fa\n",
      "Ligelizumab 0.79 0.93 ../../data/tasks/therapeutic_rediscovery/humab_automatic/tmp/Ligelizumab.fa\n",
      "Lintuzumab 0.61 0.8859999999999999 ../../data/tasks/therapeutic_rediscovery/humab_automatic/tmp/Lintuzumab.fa\n",
      "Lorvotuzumab 0.985 0.924 ../../data/tasks/therapeutic_rediscovery/humab_automatic/tmp/Lorvotuzumab.fa\n",
      "Lumretuzumab 0.96 0.975 ../../data/tasks/therapeutic_rediscovery/humab_automatic/tmp/Lumretuzumab.fa\n",
      "Lutikizumab 0.885 0.637 ../../data/tasks/therapeutic_rediscovery/humab_automatic/tmp/Lutikizumab.fa\n",
      "Matuzumab 0.62 0.821 ../../data/tasks/therapeutic_rediscovery/humab_automatic/tmp/Matuzumab.fa\n",
      "Mepolizumab 0.555 0.97 ../../data/tasks/therapeutic_rediscovery/humab_automatic/tmp/Mepolizumab.fa\n",
      "Milatuzumab 0.505 0.8220000000000001 ../../data/tasks/therapeutic_rediscovery/humab_automatic/tmp/Milatuzumab.fa\n",
      "Mirikizumab 0.855 0.889 ../../data/tasks/therapeutic_rediscovery/humab_automatic/tmp/Mirikizumab.fa\n",
      "Mogamulizumab 0.76 0.792 ../../data/tasks/therapeutic_rediscovery/humab_automatic/tmp/Mogamulizumab.fa\n",
      "Monalizumab 0.995 0.515 ../../data/tasks/therapeutic_rediscovery/humab_automatic/tmp/Monalizumab.fa\n",
      "Mosunetuzumab 0.67 0.985 ../../data/tasks/therapeutic_rediscovery/humab_automatic/tmp/Mosunetuzumab.fa\n",
      "Motavizumab 0.905 0.8490000000000001 ../../data/tasks/therapeutic_rediscovery/humab_automatic/tmp/Motavizumab.fa\n",
      "Natalizumab 0.95 0.499 ../../data/tasks/therapeutic_rediscovery/humab_automatic/tmp/Natalizumab.fa\n",
      "Nemolizumab 0.93 0.645 ../../data/tasks/therapeutic_rediscovery/humab_automatic/tmp/Nemolizumab.fa\n",
      "Nimotuzumab 0.775 0.6859999999999999 ../../data/tasks/therapeutic_rediscovery/humab_automatic/tmp/Nimotuzumab.fa\n",
      "Obinutuzumab 0.83 0.562 ../../data/tasks/therapeutic_rediscovery/humab_automatic/tmp/Obinutuzumab.fa\n",
      "Ocaratuzumab 0.805 0.91 ../../data/tasks/therapeutic_rediscovery/humab_automatic/tmp/Ocaratuzumab.fa\n",
      "Ocrelizumab 0.78 0.862 ../../data/tasks/therapeutic_rediscovery/humab_automatic/tmp/Ocrelizumab.fa\n",
      "Olendalizumab 0.895 0.816 ../../data/tasks/therapeutic_rediscovery/humab_automatic/tmp/Olendalizumab.fa\n",
      "Omalizumab 0.845 0.8740000000000001 ../../data/tasks/therapeutic_rediscovery/humab_automatic/tmp/Omalizumab.fa\n",
      "Onartuzumab 0.725 0.73 ../../data/tasks/therapeutic_rediscovery/humab_automatic/tmp/Onartuzumab.fa\n",
      "Oportuzumab 0.455 0.787 ../../data/tasks/therapeutic_rediscovery/humab_automatic/tmp/Oportuzumab.fa\n",
      "Otlertuzumab 0.815 0.98 ../../data/tasks/therapeutic_rediscovery/humab_automatic/tmp/Otlertuzumab.fa\n",
      "Ozanezumab 0.63 0.586 ../../data/tasks/therapeutic_rediscovery/humab_automatic/tmp/Ozanezumab.fa\n",
      "Palivizumab 0.885 0.8759999999999999 ../../data/tasks/therapeutic_rediscovery/humab_automatic/tmp/Palivizumab.fa\n",
      "Parsatuzumab 0.815 0.8190000000000001 ../../data/tasks/therapeutic_rediscovery/humab_automatic/tmp/Parsatuzumab.fa\n",
      "Pateclizumab 0.69 0.9620000000000001 ../../data/tasks/therapeutic_rediscovery/humab_automatic/tmp/Pateclizumab.fa\n",
      "Pembrolizumab 0.88 0.87 ../../data/tasks/therapeutic_rediscovery/humab_automatic/tmp/Pembrolizumab.fa\n",
      "Perakizumab 0.955 0.568 ../../data/tasks/therapeutic_rediscovery/humab_automatic/tmp/Perakizumab.fa\n",
      "Pertuzumab 0.875 0.888 ../../data/tasks/therapeutic_rediscovery/humab_automatic/tmp/Pertuzumab.fa\n",
      "Pidilizumab 0.595 0.63 ../../data/tasks/therapeutic_rediscovery/humab_automatic/tmp/Pidilizumab.fa\n",
      "Pinatuzumab 0.86 0.741 ../../data/tasks/therapeutic_rediscovery/humab_automatic/tmp/Pinatuzumab.fa\n",
      "Pogalizumab 0.825 0.674 ../../data/tasks/therapeutic_rediscovery/humab_automatic/tmp/Pogalizumab.fa\n",
      "Polatuzumab 0.69 0.8590000000000001 ../../data/tasks/therapeutic_rediscovery/humab_automatic/tmp/Polatuzumab.fa\n",
      "Prasinezumab 0.875 0.645 ../../data/tasks/therapeutic_rediscovery/humab_automatic/tmp/Prasinezumab.fa\n",
      "Quilizumab 0.8 0.759 ../../data/tasks/therapeutic_rediscovery/humab_automatic/tmp/Quilizumab.fa\n",
      "Ralpancizumab 0.875 0.872 ../../data/tasks/therapeutic_rediscovery/humab_automatic/tmp/Ralpancizumab.fa\n",
      "Ranibizumab 0.805 0.914 ../../data/tasks/therapeutic_rediscovery/humab_automatic/tmp/Ranibizumab.fa\n",
      "Ravulizumab 0.975 0.893 ../../data/tasks/therapeutic_rediscovery/humab_automatic/tmp/Ravulizumab.fa\n",
      "Refanezumab 0.88 1.0 ../../data/tasks/therapeutic_rediscovery/humab_automatic/tmp/Refanezumab.fa\n",
      "Reslizumab 0.76 0.7909999999999999 ../../data/tasks/therapeutic_rediscovery/humab_automatic/tmp/Reslizumab.fa\n",
      "Risankizumab 0.77 0.6759999999999999 ../../data/tasks/therapeutic_rediscovery/humab_automatic/tmp/Risankizumab.fa\n",
      "Rivabazumab 0.995 0.976 ../../data/tasks/therapeutic_rediscovery/humab_automatic/tmp/Rivabazumab.fa\n",
      "Romosozumab 0.88 0.696 ../../data/tasks/therapeutic_rediscovery/humab_automatic/tmp/Romosozumab.fa\n",
      "Rontalizumab 0.83 0.8 ../../data/tasks/therapeutic_rediscovery/humab_automatic/tmp/Rontalizumab.fa\n",
      "Rosmantuzumab 0.815 0.6409999999999999 ../../data/tasks/therapeutic_rediscovery/humab_automatic/tmp/Rosmantuzumab.fa\n",
      "Rovalpituzumab 0.975 0.98 ../../data/tasks/therapeutic_rediscovery/humab_automatic/tmp/Rovalpituzumab.fa\n",
      "Ruplizumab 0.245 0.25 ../../data/tasks/therapeutic_rediscovery/humab_automatic/tmp/Ruplizumab.fa\n",
      "Sacituzumab 0.45 0.716 ../../data/tasks/therapeutic_rediscovery/humab_automatic/tmp/Sacituzumab.fa\n",
      "Samalizumab 0.355 0.489 ../../data/tasks/therapeutic_rediscovery/humab_automatic/tmp/Samalizumab.fa\n",
      "Sapelizumab 0.85 0.748 ../../data/tasks/therapeutic_rediscovery/humab_automatic/tmp/Sapelizumab.fa\n",
      "  ! Replacing heavy chain threshold, using 0.79 instead of 0.85\n",
      "  Waiting for job: http://opig.stats.ox.ac.uk/webapps/newsabdab/sabpred/humab_results/20210320_0446037\n",
      "Satralizumab 0.85 0.748 ../../data/tasks/therapeutic_rediscovery/humab_automatic/tmp/Satralizumab.fa\n",
      "  ! Replacing heavy chain threshold, using 0.79 instead of 0.85\n",
      "  Waiting for job: http://opig.stats.ox.ac.uk/webapps/newsabdab/sabpred/humab_results/20210320_0287640\n",
      "Simtuzumab 0.705 0.6 ../../data/tasks/therapeutic_rediscovery/humab_automatic/tmp/Simtuzumab.fa\n",
      "Sofituzumab 0.795 0.804 ../../data/tasks/therapeutic_rediscovery/humab_automatic/tmp/Sofituzumab.fa\n",
      "Solanezumab 0.855 0.888 ../../data/tasks/therapeutic_rediscovery/humab_automatic/tmp/Solanezumab.fa\n",
      "Spartalizumab 0.815 0.76 ../../data/tasks/therapeutic_rediscovery/humab_automatic/tmp/Spartalizumab.fa\n",
      "Suvizumab 0.615 0.68 ../../data/tasks/therapeutic_rediscovery/humab_automatic/tmp/Suvizumab.fa\n",
      "Tadocizumab 0.755 0.7120000000000001 ../../data/tasks/therapeutic_rediscovery/humab_automatic/tmp/Tadocizumab.fa\n",
      "Talacotuzumab 0.815 0.935 ../../data/tasks/therapeutic_rediscovery/humab_automatic/tmp/Talacotuzumab.fa\n",
      "Tanezumab 0.855 0.8859999999999999 ../../data/tasks/therapeutic_rediscovery/humab_automatic/tmp/Tanezumab.fa\n",
      "Telisotuzumab 1.0 0.92 ../../data/tasks/therapeutic_rediscovery/humab_automatic/tmp/Telisotuzumab.fa\n",
      "Teplizumab 0.695 0.716 ../../data/tasks/therapeutic_rediscovery/humab_automatic/tmp/Teplizumab.fa\n",
      "Tibulizumab 1.0 1.0 ../../data/tasks/therapeutic_rediscovery/humab_automatic/tmp/Tibulizumab.fa\n",
      "Tigatuzumab 0.85 0.8420000000000001 ../../data/tasks/therapeutic_rediscovery/humab_automatic/tmp/Tigatuzumab.fa\n",
      "Tildrakizumab 0.9 0.522 ../../data/tasks/therapeutic_rediscovery/humab_automatic/tmp/Tildrakizumab.fa\n",
      "Timigutuzumab 0.965 0.777 ../../data/tasks/therapeutic_rediscovery/humab_automatic/tmp/Timigutuzumab.fa\n",
      "Tislelizumab 0.845 0.905 ../../data/tasks/therapeutic_rediscovery/humab_automatic/tmp/Tislelizumab.fa\n",
      "Tocilizumab 0.935 0.65 ../../data/tasks/therapeutic_rediscovery/humab_automatic/tmp/Tocilizumab.fa\n",
      "Trastuzumab 0.965 0.777 ../../data/tasks/therapeutic_rediscovery/humab_automatic/tmp/Trastuzumab.fa\n",
      "Tregalizumab 0.93 0.855 ../../data/tasks/therapeutic_rediscovery/humab_automatic/tmp/Tregalizumab.fa\n",
      "Vandortuzumab 0.8 0.725 ../../data/tasks/therapeutic_rediscovery/humab_automatic/tmp/Vandortuzumab.fa\n",
      "Vatelizumab 0.595 0.268 ../../data/tasks/therapeutic_rediscovery/humab_automatic/tmp/Vatelizumab.fa\n",
      "Vedolizumab 0.795 0.83 ../../data/tasks/therapeutic_rediscovery/humab_automatic/tmp/Vedolizumab.fa\n",
      "Veltuzumab 0.415 0.6990000000000001 ../../data/tasks/therapeutic_rediscovery/humab_automatic/tmp/Veltuzumab.fa\n",
      "Visilizumab 0.685 0.848 ../../data/tasks/therapeutic_rediscovery/humab_automatic/tmp/Visilizumab.fa\n",
      "Vonlerolizumab 0.825 0.674 ../../data/tasks/therapeutic_rediscovery/humab_automatic/tmp/Vonlerolizumab.fa\n",
      "Vorsetuzumab 0.965 0.7 ../../data/tasks/therapeutic_rediscovery/humab_automatic/tmp/Vorsetuzumab.fa\n",
      "Vunakizumab 0.91 0.605 ../../data/tasks/therapeutic_rediscovery/humab_automatic/tmp/Vunakizumab.fa\n",
      "Zenocutuzumab 1.0 1.0 ../../data/tasks/therapeutic_rediscovery/humab_automatic/tmp/Zenocutuzumab.fa\n"
     ]
    }
   ],
   "source": [
    "for name in parental_heavy.keys():\n",
    "    outpath = os.path.join(out_dir, 'tmp_automatic', name+'.fa')\n",
    "    jobid_path = os.path.join(out_dir, 'tmp_automatic', name+'.jobid')\n",
    "    h_threshold = scores['Hu-mAb Score (H)'][name]\n",
    "    l_threshold = scores['Hu-mAb Score (L)'][name]\n",
    "    print(name, h_threshold, l_threshold, outpath)\n",
    "    if name in H_THRESHOLDS:\n",
    "        print('  ! Replacing heavy chain threshold, using', H_THRESHOLDS[name], 'instead of', h_threshold)\n",
    "        h_threshold = H_THRESHOLDS[name]\n",
    "    if os.path.exists(outpath):\n",
    "        continue\n",
    "    jobname = name+'_Rediscovery'\n",
    "    if os.path.exists(jobid_path):\n",
    "        with open(jobid_path, 'rt') as f:\n",
    "            jobid = f.read().strip()\n",
    "    else:\n",
    "        jobid = submit_humanization(\n",
    "            h_sequence=parental_heavy[name], \n",
    "            h_v_gene='', \n",
    "            h_threshold=h_threshold, \n",
    "            l_sequence=parental_light[name], \n",
    "            l_v_gene='', \n",
    "            l_threshold=l_threshold, \n",
    "            jobname=jobname\n",
    "        )\n",
    "        with open(jobid_path, 'wt') as f:\n",
    "            f.write(f'{jobid}\\n')\n",
    "    \n",
    "    print('  Waiting for job:', 'http://opig.stats.ox.ac.uk/webapps/newsabdab/sabpred/humab_results/'+jobid)\n",
    "    try:\n",
    "        heavy_seq, light_seq = get_humanization_results(jobid, jobname=jobname)\n",
    "        with open(outpath, 'wt') as f:\n",
    "            f.write(f'>{name} VH (threshold {h_threshold})\\n')\n",
    "            f.write(f'{heavy_seq}\\n')\n",
    "            f.write(f'>{name} VL (threshold {l_threshold})\\n')\n",
    "            f.write(f'{light_seq}\\n')\n",
    "    except Exception as e:\n",
    "        print('  FAILED', str(e))\n"
   ]
  },
  {
   "cell_type": "code",
   "execution_count": 36,
   "metadata": {},
   "outputs": [],
   "source": [
    "!cat {out_dir}/tmp_automatic/*.fa > {out_dir}/humab_automatic.fa"
   ]
  },
  {
   "cell_type": "code",
   "execution_count": 41,
   "metadata": {},
   "outputs": [
    {
     "name": "stdout",
     "output_type": "stream",
     "text": [
      "source $(conda info --base)/bin/activate biophi && export APP_ENV=local  && biophi oasis \\\n",
      "        data/tasks/therapeutic_rediscovery/humab_automatic/humab.fa \\\n",
      "        --output data/tasks/therapeutic_rediscovery/humab_automatic/humab_oasis.xlsx \\\n",
      "        --oas-db sqlite:///../biophi/work/oas_clean_human_subject_9mers_2019_11.db \\\n",
      "        --proteome-db sqlite:///../biophi/work/uniprot_human_proteome_9mers.db\n",
      "      __     ____  _       ____  _     _      ___    _   ____  _\n",
      "  /| /  \\   | __ )(_) ___ |  _ \\| |__ (_)    / _ \\  / \\ / ___|(_)___\n",
      " ( || [] )  |  _ \\| |/ _ \\| |_) | '_ \\| |   | | | |/ _ \\\\___ \\| / __|\n",
      "  \\_   _/   | |_) | | (_) |  __/| | | | |   | |_| / ___ \\___| | \\__ \\\n",
      "    | |     |____/|_|\\___/|_|   |_| |_|_|    \\___/_/   \\_\\___/|_|___/\n",
      "    |_|                       version 1.0                  version 1.0\n",
      "────────────────────────────────────────────────────────────────────────\n",
      "\n",
      "Settings:\n",
      "- OAS database: sqlite:///../biophi/work/oas_clean_human_subject_9mers_2019_11.db\n",
      "- Proteome database: sqlite:///../biophi/work/uniprot_human_proteome_9mers.db\n",
      "\n",
      "Loading chains: data/tasks/therapeutic_rediscovery/humab_automatic/humab.fa\n",
      "Running OASis on 152 antibodies...\n",
      "100%|█████████████████████████████████████████| 152/152 [01:51<00:00,  1.37it/s]\n",
      "Saving report...\n",
      "Saved XLSX report to: data/tasks/therapeutic_rediscovery/humab_automatic/humab_oasis.xlsx\n"
     ]
    }
   ],
   "source": [
    "!cd ../../; make data/tasks/therapeutic_rediscovery/humab/humab_automatic_oasis.xlsx "
   ]
  },
  {
   "cell_type": "code",
   "execution_count": 43,
   "metadata": {},
   "outputs": [
    {
     "name": "stdout",
     "output_type": "stream",
     "text": [
      "bin/humanness_t20_score.py data/tasks/therapeutic_rediscovery/humab_automatic/humab.fa data/tasks/therapeutic_rediscovery/humab_automatic/humab_T20.tsv\n",
      "Note: The sequences will be processed through lakepharma T20 service! Sleeping for 10s, press Ctrl+C to cancel...\n",
      "Processing...\n",
      "304it [17:51,  3.53s/it]\n",
      "Saved to: data/tasks/therapeutic_rediscovery/humab_automatic/humab_T20.tsv\n"
     ]
    }
   ],
   "source": [
    "!cd ../../; make data/tasks/therapeutic_rediscovery/humab/humab_automatic_T20.tsv"
   ]
  },
  {
   "cell_type": "markdown",
   "metadata": {},
   "source": [
    "## Germlines used in automatic germline selection"
   ]
  },
  {
   "cell_type": "code",
   "execution_count": 15,
   "metadata": {},
   "outputs": [
    {
     "data": {
      "text/html": [
       "<div>\n",
       "<style scoped>\n",
       "    .dataframe tbody tr th:only-of-type {\n",
       "        vertical-align: middle;\n",
       "    }\n",
       "\n",
       "    .dataframe tbody tr th {\n",
       "        vertical-align: top;\n",
       "    }\n",
       "\n",
       "    .dataframe thead th {\n",
       "        text-align: right;\n",
       "    }\n",
       "</style>\n",
       "<table border=\"1\" class=\"dataframe\">\n",
       "  <thead>\n",
       "    <tr style=\"text-align: right;\">\n",
       "      <th></th>\n",
       "      <th>Threshold</th>\n",
       "      <th>OASis Percentile</th>\n",
       "      <th>OASis Identity</th>\n",
       "      <th>Heavy V Germline</th>\n",
       "      <th>Heavy J Germline</th>\n",
       "      <th>Heavy OASis Percentile</th>\n",
       "      <th>Heavy OASis Identity</th>\n",
       "      <th>Heavy Non-human peptides</th>\n",
       "      <th>Light V Germline</th>\n",
       "      <th>Light J Germline</th>\n",
       "      <th>Light OASis Percentile</th>\n",
       "      <th>Light OASis Identity</th>\n",
       "      <th>Light Non-human peptides</th>\n",
       "    </tr>\n",
       "    <tr>\n",
       "      <th>Antibody</th>\n",
       "      <th></th>\n",
       "      <th></th>\n",
       "      <th></th>\n",
       "      <th></th>\n",
       "      <th></th>\n",
       "      <th></th>\n",
       "      <th></th>\n",
       "      <th></th>\n",
       "      <th></th>\n",
       "      <th></th>\n",
       "      <th></th>\n",
       "      <th></th>\n",
       "      <th></th>\n",
       "    </tr>\n",
       "  </thead>\n",
       "  <tbody>\n",
       "    <tr>\n",
       "      <th>Abituzumab</th>\n",
       "      <td>relaxed</td>\n",
       "      <td>0.093445</td>\n",
       "      <td>0.617225</td>\n",
       "      <td>IGHV1-46*01</td>\n",
       "      <td>IGHJ3*01</td>\n",
       "      <td>0.180182</td>\n",
       "      <td>0.654545</td>\n",
       "      <td>38</td>\n",
       "      <td>IGKV1-27*01</td>\n",
       "      <td>IGKJ2*01</td>\n",
       "      <td>0.061152</td>\n",
       "      <td>0.575758</td>\n",
       "      <td>42</td>\n",
       "    </tr>\n",
       "    <tr>\n",
       "      <th>Afutuzumab</th>\n",
       "      <td>relaxed</td>\n",
       "      <td>0.067465</td>\n",
       "      <td>0.534884</td>\n",
       "      <td>IGHV1-69*04</td>\n",
       "      <td>IGHJ4*01</td>\n",
       "      <td>0.070748</td>\n",
       "      <td>0.495495</td>\n",
       "      <td>56</td>\n",
       "      <td>IGKV2D-28*01</td>\n",
       "      <td>IGKJ2*01</td>\n",
       "      <td>0.061385</td>\n",
       "      <td>0.576923</td>\n",
       "      <td>44</td>\n",
       "    </tr>\n",
       "    <tr>\n",
       "      <th>Alacizumab</th>\n",
       "      <td>relaxed</td>\n",
       "      <td>0.126231</td>\n",
       "      <td>0.653846</td>\n",
       "      <td>IGHV3-NL1*01</td>\n",
       "      <td>IGHJ3*01</td>\n",
       "      <td>0.757183</td>\n",
       "      <td>0.871560</td>\n",
       "      <td>14</td>\n",
       "      <td>IGKV1/OR2-2*01</td>\n",
       "      <td>IGKJ2*01</td>\n",
       "      <td>0.014828</td>\n",
       "      <td>0.414141</td>\n",
       "      <td>58</td>\n",
       "    </tr>\n",
       "    <tr>\n",
       "      <th>Alemtuzumab</th>\n",
       "      <td>relaxed</td>\n",
       "      <td>0.092642</td>\n",
       "      <td>0.613208</td>\n",
       "      <td>IGHV3-71*01</td>\n",
       "      <td>IGHJ4*01</td>\n",
       "      <td>0.482743</td>\n",
       "      <td>0.769912</td>\n",
       "      <td>26</td>\n",
       "      <td>IGKV1D-39*01</td>\n",
       "      <td>IGKJ2*01</td>\n",
       "      <td>0.018000</td>\n",
       "      <td>0.434343</td>\n",
       "      <td>56</td>\n",
       "    </tr>\n",
       "    <tr>\n",
       "      <th>Anrukinzumab</th>\n",
       "      <td>relaxed</td>\n",
       "      <td>0.093944</td>\n",
       "      <td>0.619718</td>\n",
       "      <td>IGHV1-3*01</td>\n",
       "      <td>IGHJ4*01</td>\n",
       "      <td>0.201636</td>\n",
       "      <td>0.663636</td>\n",
       "      <td>37</td>\n",
       "      <td>IGKV7-3*01</td>\n",
       "      <td>IGKJ1*01</td>\n",
       "      <td>0.060563</td>\n",
       "      <td>0.572816</td>\n",
       "      <td>44</td>\n",
       "    </tr>\n",
       "  </tbody>\n",
       "</table>\n",
       "</div>"
      ],
      "text/plain": [
       "             Threshold  OASis Percentile  OASis Identity Heavy V Germline  \\\n",
       "Antibody                                                                    \n",
       "Abituzumab     relaxed          0.093445        0.617225      IGHV1-46*01   \n",
       "Afutuzumab     relaxed          0.067465        0.534884      IGHV1-69*04   \n",
       "Alacizumab     relaxed          0.126231        0.653846     IGHV3-NL1*01   \n",
       "Alemtuzumab    relaxed          0.092642        0.613208      IGHV3-71*01   \n",
       "Anrukinzumab   relaxed          0.093944        0.619718       IGHV1-3*01   \n",
       "\n",
       "             Heavy J Germline  Heavy OASis Percentile  Heavy OASis Identity  \\\n",
       "Antibody                                                                      \n",
       "Abituzumab           IGHJ3*01                0.180182              0.654545   \n",
       "Afutuzumab           IGHJ4*01                0.070748              0.495495   \n",
       "Alacizumab           IGHJ3*01                0.757183              0.871560   \n",
       "Alemtuzumab          IGHJ4*01                0.482743              0.769912   \n",
       "Anrukinzumab         IGHJ4*01                0.201636              0.663636   \n",
       "\n",
       "              Heavy Non-human peptides Light V Germline Light J Germline  \\\n",
       "Antibody                                                                   \n",
       "Abituzumab                          38      IGKV1-27*01         IGKJ2*01   \n",
       "Afutuzumab                          56     IGKV2D-28*01         IGKJ2*01   \n",
       "Alacizumab                          14   IGKV1/OR2-2*01         IGKJ2*01   \n",
       "Alemtuzumab                         26     IGKV1D-39*01         IGKJ2*01   \n",
       "Anrukinzumab                        37       IGKV7-3*01         IGKJ1*01   \n",
       "\n",
       "              Light OASis Percentile  Light OASis Identity  \\\n",
       "Antibody                                                     \n",
       "Abituzumab                  0.061152              0.575758   \n",
       "Afutuzumab                  0.061385              0.576923   \n",
       "Alacizumab                  0.014828              0.414141   \n",
       "Alemtuzumab                 0.018000              0.434343   \n",
       "Anrukinzumab                0.060563              0.572816   \n",
       "\n",
       "              Light Non-human peptides  \n",
       "Antibody                                \n",
       "Abituzumab                          42  \n",
       "Afutuzumab                          44  \n",
       "Alacizumab                          58  \n",
       "Alemtuzumab                         56  \n",
       "Anrukinzumab                        44  "
      ]
     },
     "execution_count": 15,
     "metadata": {},
     "output_type": "execute_result"
    }
   ],
   "source": [
    "oasis_auto = pd.read_excel(os.path.join(TASK_DIR, 'humab/humab_automatic_oasis.xlsx'), index_col=0)\n",
    "oasis_auto.head()"
   ]
  },
  {
   "cell_type": "code",
   "execution_count": 16,
   "metadata": {},
   "outputs": [
    {
     "data": {
      "text/plain": [
       "IGHV1    99\n",
       "IGHV3    27\n",
       "IGHV7    10\n",
       "IGHV4     8\n",
       "IGHV2     4\n",
       "IGHV6     3\n",
       "IGHV5     1\n",
       "Name: Heavy V Germline, dtype: int64"
      ]
     },
     "execution_count": 16,
     "metadata": {},
     "output_type": "execute_result"
    }
   ],
   "source": [
    "oasis_auto['Heavy V Germline'].apply(lambda s: s.split('-')[0].split('/')[0]).value_counts()"
   ]
  },
  {
   "cell_type": "code",
   "execution_count": 17,
   "metadata": {},
   "outputs": [
    {
     "data": {
      "text/plain": [
       "IGKV1     37\n",
       "IGKV1D    27\n",
       "IGKV2     23\n",
       "IGKV7     22\n",
       "IGKV4     14\n",
       "IGKV3     10\n",
       "IGKV6D     6\n",
       "IGKV2D     5\n",
       "IGKV6      5\n",
       "IGLV7      1\n",
       "IGKV3D     1\n",
       "IGKV5      1\n",
       "Name: Light V Germline, dtype: int64"
      ]
     },
     "execution_count": 17,
     "metadata": {},
     "output_type": "execute_result"
    }
   ],
   "source": [
    "oasis_auto['Light V Germline'].apply(lambda s: s.split('-')[0].split('/')[0]).value_counts()"
   ]
  },
  {
   "cell_type": "code",
   "execution_count": 18,
   "metadata": {},
   "outputs": [
    {
     "data": {
      "text/plain": [
       "IGHV1-2         35\n",
       "IGHV1-46        27\n",
       "IGHV1-69         9\n",
       "IGHV3-30         8\n",
       "IGHV7-4-1        8\n",
       "IGHV1-18         8\n",
       "IGHV1-3          7\n",
       "IGHV1/OR15-1     7\n",
       "IGHV4-59         4\n",
       "IGHV1-8          4\n",
       "IGHV3-74         3\n",
       "IGHV3-71         3\n",
       "IGHV6-1          3\n",
       "IGHV1/OR15-5     2\n",
       "IGHV3-23         2\n",
       "IGHV3-11         2\n",
       "IGHV7-81         2\n",
       "IGHV3-66         2\n",
       "IGHV4-38-2       2\n",
       "IGHV2-70         2\n",
       "IGHV3-69-1       2\n",
       "IGHV2-5          2\n",
       "IGHV5-51         1\n",
       "IGHV3-NL1        1\n",
       "IGHV3-33         1\n",
       "IGHV3-30-5       1\n",
       "IGHV4-30-4       1\n",
       "IGHV4-34         1\n",
       "IGHV3-48         1\n",
       "IGHV3-21         1\n",
       "Name: Heavy V Germline, dtype: int64"
      ]
     },
     "execution_count": 18,
     "metadata": {},
     "output_type": "execute_result"
    }
   ],
   "source": [
    "oasis_auto['Heavy V Germline'].apply(lambda s: s.split('*')[0]).value_counts()"
   ]
  },
  {
   "cell_type": "code",
   "execution_count": 19,
   "metadata": {},
   "outputs": [
    {
     "data": {
      "text/plain": [
       "IGKV7-3         22\n",
       "IGKV4-1         14\n",
       "IGKV2-30        14\n",
       "IGKV1D-39       12\n",
       "IGKV1D-33       12\n",
       "IGKV1-12        10\n",
       "IGKV3-11         7\n",
       "IGKV1-8          6\n",
       "IGKV2-29         6\n",
       "IGKV6-21         5\n",
       "IGKV1/OR10-1     5\n",
       "IGKV2D-28        5\n",
       "IGKV6D-21        4\n",
       "IGKV1-NL1        4\n",
       "IGKV1-27         4\n",
       "IGKV3-7          3\n",
       "IGKV1-9          2\n",
       "IGKV1D-16        2\n",
       "IGKV1-39         2\n",
       "IGKV2-28         2\n",
       "IGKV6D-41        2\n",
       "IGKV1-33         1\n",
       "IGKV1D-13        1\n",
       "IGLV7-46         1\n",
       "IGKV2-40         1\n",
       "IGKV1-16         1\n",
       "IGKV1-17         1\n",
       "IGKV5-2          1\n",
       "IGKV3D-7         1\n",
       "IGKV1/OR2-2      1\n",
       "Name: Light V Germline, dtype: int64"
      ]
     },
     "execution_count": 19,
     "metadata": {},
     "output_type": "execute_result"
    }
   ],
   "source": [
    "oasis_auto['Light V Germline'].apply(lambda s: s.split('*')[0]).value_counts()"
   ]
  },
  {
   "cell_type": "code",
   "execution_count": null,
   "metadata": {},
   "outputs": [],
   "source": []
  }
 ],
 "metadata": {
  "kernelspec": {
   "display_name": "Python 3",
   "language": "python",
   "name": "python3"
  },
  "language_info": {
   "codemirror_mode": {
    "name": "ipython",
    "version": 3
   },
   "file_extension": ".py",
   "mimetype": "text/x-python",
   "name": "python",
   "nbconvert_exporter": "python",
   "pygments_lexer": "ipython3",
   "version": "3.8.6"
  }
 },
 "nbformat": 4,
 "nbformat_minor": 4
}
