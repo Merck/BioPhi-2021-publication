{
 "cells": [
  {
   "cell_type": "code",
   "execution_count": 7,
   "metadata": {},
   "outputs": [],
   "source": [
    "import pandas as pd\n",
    "import numpy as np\n",
    "import os\n",
    "import seaborn as sns\n",
    "from matplotlib import pyplot as plt\n",
    "from abnumber import Chain\n",
    "from bin.evaluation import plot_overlap_venn, evaluate_forward_mutation_overlap, evaluate_back_mutation_overlap, \\\n",
    "    evaluate_vernier_forward_mutation_overlap, evaluate_vernier_back_mutation_overlap\n",
    "\n",
    "%config InlineBackend.figure_format = 'retina'\n",
    "%matplotlib inline"
   ]
  },
  {
   "cell_type": "code",
   "execution_count": 8,
   "metadata": {},
   "outputs": [
    {
     "name": "stdout",
     "output_type": "stream",
     "text": [
      "0        1         2         3         4         5          6         7         8            9         10           11  \n",
      "123456789012345678901234567890123456789012345678901223456789012345678901234567890122223456789012345678900001234567890123\n",
      "                                                    A                              ABC                  ABC             \n",
      "EVQLQQSGPELVKPGASVKMSCKASGYTFTDYYMKWVKQSHGKSLEWIGDIIPSNGATFYNQKFKGKATLTVDRSSSTAYMHLNSLTSEDSAVYYCTRSHLLRASWFAYWGQGTLVTVSA\n",
      " °                        °°°°^^^^^           °°°^^^^^^^^^^^^^^^^^ ° ° ° °    °                 °°^^^^^^^^^^^°          \n"
     ]
    }
   ],
   "source": [
    "parental = Chain('EVQLQQSGPELVKPGASVKMSCKASGYTFTDYYMKWVKQSHGKSLEWIGDIIPSNGATFYNQKFKGKATLTVDRSSSTAYMHLNSLTSEDSAVYYCTRSHLLRASWFAYWGQGTLVTVSA', name='Example', scheme='kabat')\n",
    "parental.print(numbering=True)"
   ]
  },
  {
   "cell_type": "code",
   "execution_count": 9,
   "metadata": {},
   "outputs": [
    {
     "name": "stdout",
     "output_type": "stream",
     "text": [
      "0        1         2         3         4         5          6         7         8            9         10           11  \n",
      "123456789012345678901234567890123456789012345678901223456789012345678901234567890122223456789012345678900001234567890123\n",
      "                                                    A                              ABC                  ABC             \n",
      "EVQLVQSGAEVKKPGESLKISCKGSGYSFTDYYMKWARQMPGKGLEWMGDIIPSNGATFYNQKFKGQVTISADKSISTTYLQWSSLKASDTAMYYCARSHLLRASWFAYWGQGTMVTVSS\n",
      " °                        °°°°^^^^^           °°°^^^^^^^^^^^^^^^^^ ° ° ° °    °                 °°^^^^^^^^^^^°          \n"
     ]
    }
   ],
   "source": [
    "baseline = Chain('EVQLVQSGAEVKKPGESLKISCKGSGYSFTDYYMKWARQMPGKGLEWMGDIIPSNGATFYNQKFKGQVTISADKSISTTYLQWSSLKASDTAMYYCARSHLLRASWFAYWGQGTMVTVSS', name='Example', scheme='kabat')\n",
    "baseline.print(numbering=True)"
   ]
  },
  {
   "cell_type": "code",
   "execution_count": 10,
   "metadata": {},
   "outputs": [
    {
     "name": "stdout",
     "output_type": "stream",
     "text": [
      "0        1         2         3         4         5          6         7         8            9         10           11  \n",
      "123456789012345678901234567890123456789012345678901223456789012345678901234567890122223456789012345678900001234567890123\n",
      "                                                    A                              ABC                  ABC             \n",
      "QVQLVQSGAEVKKPGASVKVSCKASGYTFTDYYMKWVRQAPGQGLEWMGDIIPSNGATFYNQKFKGRVTLTRDTSTSTAYMELNSLTSEDTAVYYCARSHLLRASWFAYWGQGTLVTVSS\n",
      " °                        °°°°^^^^^           °°°^^^^^^^^^^^^^^^^^ ° ° ° °    °                 °°^^^^^^^^^^^°          \n"
     ]
    }
   ],
   "source": [
    "predicted = Chain('QVQLVQSGAEVKKPGASVKVSCKASGYTFTDYYMKWVRQAPGQGLEWMGDIIPSNGATFYNQKFKGRVTLTRDTSTSTAYMELNSLTSEDTAVYYCARSHLLRASWFAYWGQGTLVTVSS', name='Example', scheme='kabat')\n",
    "predicted.print(numbering=True)"
   ]
  },
  {
   "cell_type": "markdown",
   "metadata": {},
   "source": [
    "# Forward mutations"
   ]
  },
  {
   "cell_type": "code",
   "execution_count": 11,
   "metadata": {},
   "outputs": [
    {
     "name": "stdout",
     "output_type": "stream",
     "text": [
      "Humanized Experimental\n",
      "↑↑↑↑↑\n",
      "Parental\n",
      "↓↓↓↓↓\n",
      "Humanized Predicted\n",
      "\n",
      "EVQLVQSGAEVKKPGESLKISCKGSGYSFTDYYMKWARQMPGKGLEWMGDIIPSNGATFYNQKFKGQVTISADKSISTTYLQWSSLKASDTAMYYCARSHLLRASWFAYWGQGTMVTVSS\n",
      "||||.|||.|+.|||.|+|+|||.|||+||||||||.+|..||.|||+||||||||||||||||||+.|++.|+|.||.|+..+||.+.|+|+|||.|||||||||||||||||+||||+\n",
      "EVQLQQSGPELVKPGASVKMSCKASGYTFTDYYMKWVKQSHGKSLEWIGDIIPSNGATFYNQKFKGKATLTVDRSSSTAYMHLNSLTSEDSAVYYCTRSHLLRASWFAYWGQGTLVTVSA\n",
      "+|||.|||.|+.|||||||+|||||||||||||||||+|+.|+.|||+||||||||||||||||||+.|||.|.|+|||||.||||||||+|||||.||||||||||||||||||||||+\n",
      "QVQLVQSGAEVKKPGASVKVSCKASGYTFTDYYMKWVRQAPGQGLEWMGDIIPSNGATFYNQKFKGRVTLTRDTSTSTAYMELNSLTSEDTAVYYCARSHLLRASWFAYWGQGTLVTVSS\n",
      " °                        °°°°^^^^^           °°°^^^^^^^^^^^^^^^^^ ° ° ° °    °                 °°^^^^^^^^^^^°          \n",
      "x   x   x xx   x x x   x   x        xx xx xx   x                  xx xxx x x  x xxxx  xxx x x   x                 x    x\n",
      "                           *                   *                   * * * *    *                 *                       \n",
      "x Mutated anywhere\n",
      "* Mutated Vernier\n",
      "\n"
     ]
    }
   ],
   "source": [
    "aligned = baseline.align(parental, predicted)\n",
    "\n",
    "print('Humanized Experimental')\n",
    "print('↑↑↑↑↑')\n",
    "print('Parental')\n",
    "print('↓↓↓↓↓')\n",
    "print('Humanized Predicted')\n",
    "print()\n",
    "\n",
    "print(aligned)\n",
    "\n",
    "for pos, (aa, bb, cc) in aligned:\n",
    "    mutated = aa != bb or bb != cc\n",
    "    print('x' if mutated else ' ', end='')\n",
    "print()\n",
    "\n",
    "for pos, (aa, bb, cc) in aligned:\n",
    "    mutated = aa != bb or bb != cc\n",
    "    print('*' if mutated and pos.is_in_vernier() else ' ', end='')\n",
    "print()\n",
    "print('x Mutated anywhere')\n",
    "print('* Mutated Vernier')\n",
    "print()"
   ]
  },
  {
   "cell_type": "code",
   "execution_count": 14,
   "metadata": {},
   "outputs": [
    {
     "data": {
      "text/plain": [
       "shared_both        12\n",
       "shared_position     7\n",
       "predicted_only      2\n",
       "baseline_only      16\n",
       "Name: Example, dtype: int64"
      ]
     },
     "execution_count": 14,
     "metadata": {},
     "output_type": "execute_result"
    }
   ],
   "source": [
    "evaluate_forward_mutation_overlap(baseline, parental, predicted)"
   ]
  },
  {
   "cell_type": "code",
   "execution_count": 15,
   "metadata": {},
   "outputs": [
    {
     "data": {
      "text/plain": [
       "shared_both        3\n",
       "shared_position    2\n",
       "predicted_only     0\n",
       "baseline_only      3\n",
       "Name: Example, dtype: int64"
      ]
     },
     "execution_count": 15,
     "metadata": {},
     "output_type": "execute_result"
    }
   ],
   "source": [
    "evaluate_vernier_forward_mutation_overlap(baseline, parental, predicted)"
   ]
  },
  {
   "cell_type": "code",
   "execution_count": null,
   "metadata": {},
   "outputs": [],
   "source": []
  },
  {
   "cell_type": "markdown",
   "metadata": {},
   "source": [
    "# Backmutations"
   ]
  },
  {
   "cell_type": "code",
   "execution_count": 16,
   "metadata": {},
   "outputs": [
    {
     "name": "stdout",
     "output_type": "stream",
     "text": [
      "Parental\n",
      "↓↓↓↓↓\n",
      "Humanized\n",
      "↓↓↓↓↓\n",
      "Germline\n",
      "\n",
      "EVQLQQSGPELVKPGASVKMSCKASGYTFTDYYMKWVKQSHGKSLEWIGDIIPSNGATFYNQKFKGKATLTVDRSSSTAYMHLNSLTSEDSAVYYCTRSHLLRASWFAYWGQGTLVTVSA\n",
      "||||.|||.|+.|||.|+|+|||.|||+||||||||.+|..||.|||+||||||||||||||||||+.|++.|+|.||.|+..+||.+.|+|+|||.|||||||||||||||||+||||+\n",
      "EVQLVQSGAEVKKPGESLKISCKGSGYSFTDYYMKWARQMPGKGLEWMGDIIPSNGATFYNQKFKGQVTISADKSISTTYLQWSSLKASDTAMYYCARSHLLRASWFAYWGQGTMVTVSS\n",
      "||||||||||||||||||||||||||||||.|+..|.||||||||||||.|.|.+..|.|+..|+|||||||||||||.|||||||||||||||||||+.........+|||||+|||||\n",
      "EVQLVQSGAEVKKPGESLKISCKGSGYSFTSYWTGWVRQMPGKGLEWMGIIYPGDSDTRYSPSFQGQVTISADKSISTAYLQWSSLKASDTAMYYCARAEYF-----QHWGQGTLVTVSS\n",
      " °                        °°°°^^^^^           °°°^^^^^^^^^^^^^^^^^ ° ° ° °    °                 °°^^^^^^^^^^^°          \n",
      "                              x xxx              x x xxxx x xxx x                                 xxxxxxxxxxx           \n",
      "                                                                                                                        \n",
      "x Back-mutated anywhere\n",
      "* Back-mutated Vernier\n",
      "\n"
     ]
    }
   ],
   "source": [
    "aligned = parental.align(baseline, baseline.find_merged_human_germline().renumber('kabat'))\n",
    "\n",
    "print('Parental')\n",
    "print('↓↓↓↓↓')\n",
    "print('Humanized')\n",
    "print('↓↓↓↓↓')\n",
    "print('Germline')\n",
    "print()\n",
    "\n",
    "print(aligned)\n",
    "\n",
    "for pos, (parental_aa, predicted_aa, germline_aa) in aligned:\n",
    "    backmutated = germline_aa != predicted_aa and parental_aa == predicted_aa\n",
    "    print('x' if backmutated else ' ', end='')\n",
    "print()\n",
    "\n",
    "for pos, (parental_aa, predicted_aa, germline_aa) in aligned:\n",
    "    backmutated = germline_aa != predicted_aa and parental_aa == predicted_aa\n",
    "    print('*' if backmutated and pos.is_in_vernier() else ' ', end='')\n",
    "print()\n",
    "print('x Back-mutated anywhere')\n",
    "print('* Back-mutated Vernier')\n",
    "print()"
   ]
  },
  {
   "cell_type": "code",
   "execution_count": 21,
   "metadata": {},
   "outputs": [
    {
     "name": "stdout",
     "output_type": "stream",
     "text": [
      "Parental\n",
      "↓↓↓↓↓\n",
      "Humanized\n",
      "↓↓↓↓↓\n",
      "Germline\n",
      "\n",
      "EVQLQQSGPELVKPGASVKMSCKASGYTFTDYYMKWVKQSHGKSLEWIGDIIPSNGATFYNQKFKGKATLTVDRSSSTAYMHLNSLTSEDSAVYYCTRSHLLRASWFAYWGQGTLVTVSA\n",
      "+|||.|||.|+.|||||||+|||||||||||||||||+|+.|+.|||+||||||||||||||||||+.|||.|.|+|||||.||||||||+|||||.||||||||||||||||||||||+\n",
      "QVQLVQSGAEVKKPGASVKVSCKASGYTFTDYYMKWVRQAPGQGLEWMGDIIPSNGATFYNQKFKGRVTLTRDTSTSTAYMELNSLTSEDTAVYYCARSHLLRASWFAYWGQGTLVTVSS\n",
      "||||||||||||||||||||||||||||||.|||.||||||||||||||.|.||.|+|.|.|||+||||+||||||||.||||+||.|||||||||||+.........+|||||||||||\n",
      "QVQLVQSGAEVKKPGASVKVSCKASGYTFTSYYMHWVRQAPGQGLEWMGIINPSGGSTSYAQKFQGRVTMTRDTSTSTVYMELSSLRSEDTAVYYCARAEYF-----QHWGQGTLVTVSS\n",
      " °                        °°°°^^^^^           °°°^^^^^^^^^^^^^^^^^ ° ° ° °    °                 °°^^^^^^^^^^^°          \n",
      "                              x   x              x x  x x x x   x    x        x    x  x           xxxxxxxxxxx           \n",
      "                                                                     *        *                                         \n",
      "x Back-mutated anywhere\n",
      "* Back-mutated Vernier\n",
      "\n"
     ]
    }
   ],
   "source": [
    "aligned = parental.align(predicted, predicted.find_merged_human_germline().renumber('kabat'))\n",
    "\n",
    "print('Parental')\n",
    "print('↓↓↓↓↓')\n",
    "print('Humanized')\n",
    "print('↓↓↓↓↓')\n",
    "print('Germline')\n",
    "print()\n",
    "\n",
    "print(aligned)\n",
    "\n",
    "for pos, (parental_aa, predicted_aa, germline_aa) in aligned:\n",
    "    backmutated = germline_aa != predicted_aa and parental_aa == predicted_aa\n",
    "    print('x' if backmutated else ' ', end='')\n",
    "print()\n",
    "\n",
    "for pos, (parental_aa, predicted_aa, germline_aa) in aligned:\n",
    "    backmutated = germline_aa != predicted_aa and parental_aa == predicted_aa\n",
    "    print('*' if backmutated and pos.is_in_vernier() else ' ', end='')\n",
    "print()\n",
    "print('x Back-mutated anywhere')\n",
    "print('* Back-mutated Vernier')\n",
    "print()"
   ]
  },
  {
   "cell_type": "code",
   "execution_count": 22,
   "metadata": {},
   "outputs": [
    {
     "data": {
      "text/plain": [
       "shared_both        0\n",
       "shared_position    0\n",
       "predicted_only     4\n",
       "baseline_only      0\n",
       "Name: Example, dtype: int64"
      ]
     },
     "execution_count": 22,
     "metadata": {},
     "output_type": "execute_result"
    }
   ],
   "source": [
    "evaluate_back_mutation_overlap(baseline, parental, predicted, pos_filter=lambda pos: not pos.is_in_cdr())"
   ]
  },
  {
   "cell_type": "code",
   "execution_count": 23,
   "metadata": {},
   "outputs": [
    {
     "data": {
      "text/plain": [
       "shared_both        0\n",
       "shared_position    0\n",
       "predicted_only     2\n",
       "baseline_only      0\n",
       "Name: Example, dtype: int64"
      ]
     },
     "execution_count": 23,
     "metadata": {},
     "output_type": "execute_result"
    }
   ],
   "source": [
    "evaluate_vernier_back_mutation_overlap(baseline, parental, predicted)"
   ]
  },
  {
   "cell_type": "code",
   "execution_count": null,
   "metadata": {},
   "outputs": [],
   "source": []
  },
  {
   "cell_type": "code",
   "execution_count": null,
   "metadata": {},
   "outputs": [],
   "source": []
  }
 ],
 "metadata": {
  "kernelspec": {
   "display_name": "Python 3",
   "language": "python",
   "name": "python3"
  },
  "language_info": {
   "codemirror_mode": {
    "name": "ipython",
    "version": 3
   },
   "file_extension": ".py",
   "mimetype": "text/x-python",
   "name": "python",
   "nbconvert_exporter": "python",
   "pygments_lexer": "ipython3",
   "version": "3.8.6"
  }
 },
 "nbformat": 4,
 "nbformat_minor": 4
}
