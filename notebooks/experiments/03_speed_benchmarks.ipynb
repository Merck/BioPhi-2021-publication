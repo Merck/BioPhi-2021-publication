{
 "cells": [
  {
   "cell_type": "code",
   "execution_count": 1,
   "metadata": {},
   "outputs": [],
   "source": [
    "import pandas as pd\n",
    "from Bio.SeqRecord import SeqRecord\n",
    "from Bio.Seq import Seq\n",
    "from Bio import SeqIO"
   ]
  },
  {
   "cell_type": "code",
   "execution_count": 11,
   "metadata": {},
   "outputs": [
    {
     "data": {
      "text/plain": [
       "138096    QIPLKESGPTPMKPKQTLTLTCTFPGFPPRPCWMGFGWIRQPPGKA...\n",
       "59859     QVQLQQWGAGLLKPSETLSLTCAVYGGSFSGYYWSWIRQPPGKGLE...\n",
       "2416      QVQLQESGPGLVKPSETLSLTCTVSGGSISSYYWSWIRQPPGKGLE...\n",
       "132095    EVQLLESGGGLVQPGRSLRLSCEVSGFTFDDYAVYWVRQAPGKGLE...\n",
       "136981    EMQLVESGGGLVQPGGSLRLSCEASGFGFGDYWMHCVRQAPGGGLG...\n",
       "dtype: object"
      ]
     },
     "execution_count": 11,
     "metadata": {},
     "output_type": "execute_result"
    }
   ],
   "source": [
    "heavy = pd.read_csv('../../data/oas_stats/subsets/oas_100seqs_per_subject_and_germline_family_H.csv.gz')\n",
    "heavy = heavy.sample(1000, random_state=1)\n",
    "heavy = heavy[[c for c in heavy.columns if c[0].isnumeric()]]\n",
    "heavy = heavy.apply(lambda row: ''.join(row[row!='-']), axis=1)\n",
    "heavy.head()"
   ]
  },
  {
   "cell_type": "code",
   "execution_count": 13,
   "metadata": {},
   "outputs": [
    {
     "data": {
      "text/plain": [
       "'QIPLKESGPTPMKPKQTLTLTCTFPGFPPRPCWMGFGWIRQPPGKALEWLALIYWDDDKRYSPSLKSRLTITKDTSKNQVVLTMTNMDPVDTATYYCAHRQGRGMDVWGQGTTVTVSS'"
      ]
     },
     "execution_count": 13,
     "metadata": {},
     "output_type": "execute_result"
    }
   ],
   "source": [
    "heavy.iloc[0]"
   ]
  },
  {
   "cell_type": "code",
   "execution_count": 14,
   "metadata": {},
   "outputs": [
    {
     "data": {
      "text/plain": [
       "251079    ETVLTQSPEFQSVPPHAKVTITCRASESIGISLHWYQMKGDQPPRL...\n",
       "97277     DIVMTQSPDALAVSLGERATINCKSSQSVLYRSNNKTYLAWYQQKP...\n",
       "71604     NFMLTQPHSVSESPGKTVTISCTGSSGRIASNYVQWYQQRPGSAPT...\n",
       "83398     QAGLTQPPSASKGSRQTATLSCTGNSNKVGNQGAAWLQQHQGHPPK...\n",
       "156332    QTVVTQEPSFSVSPGGTVTLTCGLSSGSVSTSYYPSWYQQTPGQAP...\n",
       "dtype: object"
      ]
     },
     "execution_count": 14,
     "metadata": {},
     "output_type": "execute_result"
    }
   ],
   "source": [
    "light = pd.read_csv('../../data/oas_stats/subsets/oas_100seqs_per_subject_and_germline_family_KL.csv.gz')\n",
    "light = light.sample(1000, random_state=1)\n",
    "light = light[[c for c in light.columns if c[0].isnumeric()]]\n",
    "light = light.apply(lambda row: ''.join(row[row!='-']), axis=1)\n",
    "light.head()"
   ]
  },
  {
   "cell_type": "code",
   "execution_count": 15,
   "metadata": {},
   "outputs": [
    {
     "data": {
      "text/plain": [
       "'ETVLTQSPEFQSVPPHAKVTITCRASESIGISLHWYQMKGDQPPRLLSRSASQSISGGPSRFSGSGSGTDFALTIDSLEAEDAATYFCHQSSSLPLTFGGGTRVEIK'"
      ]
     },
     "execution_count": 15,
     "metadata": {},
     "output_type": "execute_result"
    }
   ],
   "source": [
    "light.iloc[0]"
   ]
  },
  {
   "cell_type": "code",
   "execution_count": 22,
   "metadata": {},
   "outputs": [],
   "source": [
    "with open('../../work/input_1000x.fasta', 'w') as f:\n",
    "    for i, (h, l) in enumerate(zip(heavy, light)):\n",
    "        SeqIO.write(SeqRecord(Seq(h), id=f'Seq{i+1}', description='VH'), f, 'fasta-2line')\n",
    "        SeqIO.write(SeqRecord(Seq(l), id=f'Seq{i+1}', description='VL'), f, 'fasta-2line')"
   ]
  },
  {
   "cell_type": "code",
   "execution_count": 23,
   "metadata": {},
   "outputs": [
    {
     "name": "stdout",
     "output_type": "stream",
     "text": [
      "  3991\t>Seq998 VL\n",
      "  3992\tDIVMTQSPDSLAVSLGERATINCKSSQSVLYSSNNKNDLAWYQQKPGQPPKLLIYWASTRESGVPDRFSGSGSGTDFTLTISSLQAEDVAVYYCQHYYNTPPTFGGGTKVEIK\n",
      "  3993\t>Seq999 VH\n",
      "  3994\tQLQLQESGPGLVKPSETLSLTCTVSGGSISSSSYYWGWIRQPPGKGLEWIGSIYYSGSTYYNPSLKSRVTISVDTSKNQFSLKLSSVTAADTAVYYCARAKIMDYGSGSSHNVHYGMDVWGQGTTVTVSS\n",
      "  3995\t>Seq999 VL\n",
      "  3996\tDILMTQTPLFLPVTPGEPASVPCRSSQSLLDSNDGNTYLDWDLKKPGQSPQRLIYTLSYRASGVPDRFSGSGSGTDFTLKISRVEAEDVGVCFCVQHIEFPWNTFGQGTKLEIK\n",
      "  3997\t>Seq1000 VH\n",
      "  3998\tQVQLVRSGAEVKKPGASVKVSCKASGYTFTRYYMHWVRQAPGQGPEWMGIINPSGGYTTYAQKFQGRVTMTRDTSTNTVYMELGSLRSEDTAVYYCAVIGGIIGAPSSDIWGQGTMVTVSS\n",
      "  3999\t>Seq1000 VL\n",
      "  4000\tDIVMTQSPLPLPVTPGEPASISCRSSQSLLHSNGYNYLDWYLQKPGQSPQLLIYLGSNRASGVPDRFSGSGSGTDFTLKISRVEAEDVGVYYCMQALQTPCSFGQGTKLEIK\n"
     ]
    }
   ],
   "source": [
    "!nl ../../work/input_1000x.fasta | tail"
   ]
  },
  {
   "cell_type": "code",
   "execution_count": 10,
   "metadata": {},
   "outputs": [
    {
     "name": "stdout",
     "output_type": "stream",
     "text": [
      "      __     ____  _       ____  _     _     ____              _                \n",
      "  /| /  \\   | __ )(_) ___ |  _ \\| |__ (_)   / ___|  __ _ _ __ (_) ___ _ __  ___ \n",
      " ( || [] )  |  _ \\| |/ _ \\| |_) | '_ \\| |   \\___ \\ / _` | '_ \\| |/ _ \\ '_ \\/ __|\n",
      "  \\_   _/   | |_) | | (_) |  __/| | | | |    ___| | |_| | |_| | |  __/ | | \\__ \\\n",
      "    | |     |____/|_|\\___/|_|   |_| |_|_|   |____/ \\__,_|  __/|_|\\___|_| |_|___/\n",
      "    |_|                     version 1.0.0               |_| \n",
      "──────────────────────────────────────────────────────────────\n",
      "\n",
      "Settings:\n",
      "- Predicting using Sapiens model: latest\n",
      "- Ignoring mutations in CDR regions\n",
      "- Humanizing using 1 iteration\n",
      "\n",
      "Writing to stdout\n",
      "biophi sapiens work/input_1000x.fasta --fasta-only > /dev/null  120.15s user 21.18s system 101% cpu 2:19.02 total\n"
     ]
    }
   ],
   "source": [
    "!cd ../../; \\\n",
    "    export KMP_DUPLICATE_LIB_OK=TRUE; \\\n",
    "    source $(conda info --base)/bin/activate; \\\n",
    "    conda activate biophi-dev; \\\n",
    "    time biophi sapiens work/input_1000x.fasta --fasta-only > /dev/null"
   ]
  },
  {
   "cell_type": "code",
   "execution_count": 5,
   "metadata": {},
   "outputs": [
    {
     "name": "stdout",
     "output_type": "stream",
     "text": [
      "      __     ____  _       ____  _     _      ___    _   ____  _\n",
      "  /| /  \\   | __ )(_) ___ |  _ \\| |__ (_)    / _ \\  / \\ / ___|(_)___\n",
      " ( || [] )  |  _ \\| |/ _ \\| |_) | '_ \\| |   | | | |/ _ \\\\___ \\| / __|\n",
      "  \\_   _/   | |_) | | (_) |  __/| | | | |   | |_| / ___ \\___| | \\__ \\\n",
      "    | |     |____/|_|\\___/|_|   |_| |_|_|    \\___/_/   \\_\\___/|_|___/\n",
      "    |_|                     version 1.0.0                  version 1.0\n",
      "────────────────────────────────────────────────────────────────────────\n",
      "\n",
      "Settings:\n",
      "- OAS database: ../biophi/work/oas_clean_human_subject_9mers_2019_11.db\n",
      "\n",
      "Loading chains: work/input_1000x.fasta\n",
      "Running OASis on 1000 antibodies...\n",
      "100%|███████████████████████████████████████| 1000/1000 [11:33<00:00,  1.44it/s]\n",
      "Saving report...\n",
      "Saved XLSX report to: /tmp/oasis.xlsx\n",
      "biophi oasis work/input_1000x.fasta --output /tmp/oasis.xlsx --oas-db   3992.58s user 217.37s system 500% cpu 14:00.70 total\n"
     ]
    }
   ],
   "source": [
    "!cd ../../; \\\n",
    "    source $(conda info --base)/bin/activate; \\\n",
    "    conda activate biophi-dev; \\\n",
    "    time biophi oasis \\\n",
    "        work/input_1000x.fasta \\\n",
    "        --output /tmp/oasis.xlsx \\\n",
    "        --oas-db ../biophi/work/oas_clean_human_subject_9mers_2019_11.db"
   ]
  },
  {
   "cell_type": "code",
   "execution_count": 7,
   "metadata": {},
   "outputs": [
    {
     "name": "stdout",
     "output_type": "stream",
     "text": [
      "sleep 2  0.00s user 0.00s system 0% cpu 2.034 total\n"
     ]
    }
   ],
   "source": []
  },
  {
   "cell_type": "code",
   "execution_count": null,
   "metadata": {},
   "outputs": [],
   "source": []
  }
 ],
 "metadata": {
  "kernelspec": {
   "display_name": "Python 3",
   "language": "python",
   "name": "python3"
  },
  "language_info": {
   "codemirror_mode": {
    "name": "ipython",
    "version": 3
   },
   "file_extension": ".py",
   "mimetype": "text/x-python",
   "name": "python",
   "nbconvert_exporter": "python",
   "pygments_lexer": "ipython3",
   "version": "3.8.6"
  }
 },
 "nbformat": 4,
 "nbformat_minor": 4
}
